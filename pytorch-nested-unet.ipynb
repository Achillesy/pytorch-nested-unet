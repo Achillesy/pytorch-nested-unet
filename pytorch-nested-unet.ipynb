{
 "cells": [
  {
   "cell_type": "code",
   "execution_count": 1,
   "id": "6811a08a-f9ab-4f5f-9108-ee41cc3ed8cb",
   "metadata": {},
   "outputs": [],
   "source": [
    "## Colab\n",
    "# from google.colab import drive\n",
    "# drive.mount('/gdrive')\n",
    "# gData = '/gdrive/MyDrive/Data'\n",
    "\n",
    "## Kaggle\n",
    "# gData = '/kaggle/input'\n",
    "\n",
    "## Mac mini (M1 2020)\n",
    "# gData = '/Users/achilles/Workspace/Data'\n",
    "\n",
    "## HP-Z4-G4 Ubuntu\n",
    "gData = \"/mnt/Storage/Xuchu_Liu/Workspace/Data\""
   ]
  },
  {
   "cell_type": "markdown",
   "id": "a109c38d-194a-4a71-b649-ef2893296f75",
   "metadata": {},
   "source": [
    "## preprocess_dsb2018.py"
   ]
  },
  {
   "cell_type": "code",
   "execution_count": 2,
   "id": "a3debaeb-dcb7-4e05-b1d7-eb1b82b32d9c",
   "metadata": {},
   "outputs": [],
   "source": [
    "import os\n",
    "from glob import glob\n",
    "\n",
    "import cv2\n",
    "import numpy as np\n",
    "from tqdm import tqdm"
   ]
  },
  {
   "cell_type": "code",
   "execution_count": 3,
   "id": "31e8dfec-1e2c-41a5-8844-9e3dc5a2f6f1",
   "metadata": {},
   "outputs": [],
   "source": [
    "# img_size = 96\n",
    "\n",
    "# data_path = os.path.join(gData, 'data-science-bowl-2018')\n",
    "\n",
    "\n",
    "# paths = glob(os.path.join(data_path, 'stage1_train', '*'))\n",
    "\n",
    "# os.makedirs(os.path.join(data_path, 'dsb2018_%d/images' % img_size), exist_ok=True)\n",
    "# os.makedirs(os.path.join(data_path, 'dsb2018_%d/masks/0' % img_size), exist_ok=True)\n",
    "\n",
    "# for i in tqdm(range(len(paths))):\n",
    "#     path = paths[i]\n",
    "#     img = cv2.imread(os.path.join(path, 'images',\n",
    "#                      os.path.basename(path) + '.png'))\n",
    "#     mask = np.zeros((img.shape[0], img.shape[1]))\n",
    "#     for mask_path in glob(os.path.join(path, 'masks', '*')):\n",
    "#         mask_ = cv2.imread(mask_path, cv2.IMREAD_GRAYSCALE) > 127\n",
    "#         mask[mask_] = 1\n",
    "#     if len(img.shape) == 2:\n",
    "#         img = np.tile(img[..., None], (1, 1, 3))\n",
    "#     if img.shape[2] == 4:\n",
    "#         img = img[..., :3]\n",
    "#     img = cv2.resize(img, (img_size, img_size))\n",
    "#     mask = cv2.resize(mask, (img_size, img_size))\n",
    "#     cv2.imwrite(os.path.join(data_path, 'dsb2018_%d/images' % img_size,\n",
    "#                 os.path.basename(path) + '.png'), img)\n",
    "#     cv2.imwrite(os.path.join(data_path, 'dsb2018_%d/masks/0' % img_size,\n",
    "#                 os.path.basename(path) + '.png'), (mask * 255).astype('uint8'))"
   ]
  },
  {
   "cell_type": "markdown",
   "id": "c96518a2-994a-41d0-9b30-131a3f0e0cdf",
   "metadata": {},
   "source": [
    "## train.py"
   ]
  },
  {
   "cell_type": "code",
   "execution_count": 4,
   "id": "e92d98b0-18cc-4795-acb6-e87fa2b0acc4",
   "metadata": {},
   "outputs": [],
   "source": [
    "import argparse\n",
    "from collections import OrderedDict\n",
    "\n",
    "import pandas as pd\n",
    "import torch\n",
    "import torch.backends.cudnn as cudnn\n",
    "import torch.nn as nn\n",
    "import torch.optim as optim\n",
    "import torch.nn.functional as F\n",
    "import torch.utils.data\n",
    "import yaml\n",
    "\n",
    "from albumentations.augmentations import transforms\n",
    "from albumentations.core.composition import Compose, OneOf\n",
    "from sklearn.model_selection import train_test_split\n",
    "from torch.optim import lr_scheduler"
   ]
  },
  {
   "cell_type": "markdown",
   "id": "201ef2e2-44ab-4518-9382-641bc1682016",
   "metadata": {},
   "source": [
    "## archs.py"
   ]
  },
  {
   "cell_type": "code",
   "execution_count": 5,
   "id": "7901d144-7f76-4102-96da-ba67b7f43d6f",
   "metadata": {},
   "outputs": [],
   "source": [
    "class VGGBlock(nn.Module):\n",
    "    def __init__(self, in_channels, middle_channels, out_channels):\n",
    "        super().__init__()\n",
    "        self.relu = nn.ReLU(inplace=True)\n",
    "        self.conv1 = nn.Conv2d(in_channels, middle_channels, 3, padding=1)\n",
    "        self.bn1 = nn.BatchNorm2d(middle_channels)\n",
    "        self.conv2 = nn.Conv2d(middle_channels, out_channels, 3, padding=1)\n",
    "        self.bn2 = nn.BatchNorm2d(out_channels)\n",
    "\n",
    "    def forward(self, x):\n",
    "        out = self.conv1(x)\n",
    "        out = self.bn1(out)\n",
    "        out = self.relu(out)\n",
    "\n",
    "        out = self.conv2(out)\n",
    "        out = self.bn2(out)\n",
    "        out = self.relu(out)\n",
    "\n",
    "        return out"
   ]
  },
  {
   "cell_type": "code",
   "execution_count": 6,
   "id": "850ee635-d1bd-446f-9141-0a9e22b75bc5",
   "metadata": {},
   "outputs": [],
   "source": [
    "# vggblock = VGGBlock(1, 32, 32)\n",
    "# vggblock.eval()"
   ]
  },
  {
   "cell_type": "code",
   "execution_count": 7,
   "id": "811dca92-f40a-4cc8-a856-aabb3cda92c1",
   "metadata": {},
   "outputs": [],
   "source": [
    "class UNet(nn.Module):\n",
    "    def __init__(self, num_classes, input_channels=3, **kwargs):\n",
    "        super().__init__()\n",
    "\n",
    "        nb_filter = [32, 64, 128, 256, 512]\n",
    "\n",
    "        self.pool = nn.MaxPool2d(2, 2)\n",
    "        self.up = nn.Upsample(scale_factor=2, mode='bilinear', align_corners=True)\n",
    "\n",
    "        self.conv0_0 = VGGBlock(input_channels, nb_filter[0], nb_filter[0])\n",
    "        self.conv1_0 = VGGBlock(nb_filter[0], nb_filter[1], nb_filter[1])\n",
    "        self.conv2_0 = VGGBlock(nb_filter[1], nb_filter[2], nb_filter[2])\n",
    "        self.conv3_0 = VGGBlock(nb_filter[2], nb_filter[3], nb_filter[3])\n",
    "        self.conv4_0 = VGGBlock(nb_filter[3], nb_filter[4], nb_filter[4])\n",
    "\n",
    "        self.conv3_1 = VGGBlock(nb_filter[3]+nb_filter[4], nb_filter[3], nb_filter[3])\n",
    "        self.conv2_2 = VGGBlock(nb_filter[2]+nb_filter[3], nb_filter[2], nb_filter[2])\n",
    "        self.conv1_3 = VGGBlock(nb_filter[1]+nb_filter[2], nb_filter[1], nb_filter[1])\n",
    "        self.conv0_4 = VGGBlock(nb_filter[0]+nb_filter[1], nb_filter[0], nb_filter[0])\n",
    "\n",
    "        self.final = nn.Conv2d(nb_filter[0], num_classes, kernel_size=1)\n",
    "\n",
    "\n",
    "    def forward(self, input):\n",
    "        x0_0 = self.conv0_0(input)\n",
    "        x1_0 = self.conv1_0(self.pool(x0_0))\n",
    "        x2_0 = self.conv2_0(self.pool(x1_0))\n",
    "        x3_0 = self.conv3_0(self.pool(x2_0))\n",
    "        x4_0 = self.conv4_0(self.pool(x3_0))\n",
    "\n",
    "        x3_1 = self.conv3_1(torch.cat([x3_0, self.up(x4_0)], 1))\n",
    "        x2_2 = self.conv2_2(torch.cat([x2_0, self.up(x3_1)], 1))\n",
    "        x1_3 = self.conv1_3(torch.cat([x1_0, self.up(x2_2)], 1))\n",
    "        x0_4 = self.conv0_4(torch.cat([x0_0, self.up(x1_3)], 1))\n",
    "\n",
    "        output = self.final(x0_4)\n",
    "        return output"
   ]
  },
  {
   "cell_type": "code",
   "execution_count": 8,
   "id": "495f6153-7228-41ba-a6af-1765a21a7520",
   "metadata": {},
   "outputs": [],
   "source": [
    "# unet = UNet(2,1)\n",
    "# unet.eval()"
   ]
  },
  {
   "cell_type": "code",
   "execution_count": 9,
   "id": "7d9ef345-6d2e-4444-b571-ee0e30fa44a7",
   "metadata": {},
   "outputs": [],
   "source": [
    "class NestedUNet(nn.Module):\n",
    "    def __init__(self, num_classes, input_channels=3, deep_supervision=False, **kwargs):\n",
    "        super().__init__()\n",
    "\n",
    "        nb_filter = [32, 64, 128, 256, 512]\n",
    "\n",
    "        self.deep_supervision = deep_supervision\n",
    "\n",
    "        self.pool = nn.MaxPool2d(2, 2)\n",
    "        self.up = nn.Upsample(scale_factor=2, mode='bilinear', align_corners=True)\n",
    "\n",
    "        self.conv0_0 = VGGBlock(input_channels, nb_filter[0], nb_filter[0])\n",
    "        self.conv1_0 = VGGBlock(nb_filter[0], nb_filter[1], nb_filter[1])\n",
    "        self.conv2_0 = VGGBlock(nb_filter[1], nb_filter[2], nb_filter[2])\n",
    "        self.conv3_0 = VGGBlock(nb_filter[2], nb_filter[3], nb_filter[3])\n",
    "        self.conv4_0 = VGGBlock(nb_filter[3], nb_filter[4], nb_filter[4])\n",
    "\n",
    "        self.conv0_1 = VGGBlock(nb_filter[0]+nb_filter[1], nb_filter[0], nb_filter[0])\n",
    "        self.conv1_1 = VGGBlock(nb_filter[1]+nb_filter[2], nb_filter[1], nb_filter[1])\n",
    "        self.conv2_1 = VGGBlock(nb_filter[2]+nb_filter[3], nb_filter[2], nb_filter[2])\n",
    "        self.conv3_1 = VGGBlock(nb_filter[3]+nb_filter[4], nb_filter[3], nb_filter[3])\n",
    "\n",
    "        self.conv0_2 = VGGBlock(nb_filter[0]*2+nb_filter[1], nb_filter[0], nb_filter[0])\n",
    "        self.conv1_2 = VGGBlock(nb_filter[1]*2+nb_filter[2], nb_filter[1], nb_filter[1])\n",
    "        self.conv2_2 = VGGBlock(nb_filter[2]*2+nb_filter[3], nb_filter[2], nb_filter[2])\n",
    "\n",
    "        self.conv0_3 = VGGBlock(nb_filter[0]*3+nb_filter[1], nb_filter[0], nb_filter[0])\n",
    "        self.conv1_3 = VGGBlock(nb_filter[1]*3+nb_filter[2], nb_filter[1], nb_filter[1])\n",
    "\n",
    "        self.conv0_4 = VGGBlock(nb_filter[0]*4+nb_filter[1], nb_filter[0], nb_filter[0])\n",
    "\n",
    "        if self.deep_supervision:\n",
    "            self.final1 = nn.Conv2d(nb_filter[0], num_classes, kernel_size=1)\n",
    "            self.final2 = nn.Conv2d(nb_filter[0], num_classes, kernel_size=1)\n",
    "            self.final3 = nn.Conv2d(nb_filter[0], num_classes, kernel_size=1)\n",
    "            self.final4 = nn.Conv2d(nb_filter[0], num_classes, kernel_size=1)\n",
    "        else:\n",
    "            self.final = nn.Conv2d(nb_filter[0], num_classes, kernel_size=1)\n",
    "\n",
    "\n",
    "    def forward(self, input):\n",
    "        x0_0 = self.conv0_0(input)\n",
    "        x1_0 = self.conv1_0(self.pool(x0_0))\n",
    "        x0_1 = self.conv0_1(torch.cat([x0_0, self.up(x1_0)], 1))\n",
    "\n",
    "        x2_0 = self.conv2_0(self.pool(x1_0))\n",
    "        x1_1 = self.conv1_1(torch.cat([x1_0, self.up(x2_0)], 1))\n",
    "        x0_2 = self.conv0_2(torch.cat([x0_0, x0_1, self.up(x1_1)], 1))\n",
    "\n",
    "        x3_0 = self.conv3_0(self.pool(x2_0))\n",
    "        x2_1 = self.conv2_1(torch.cat([x2_0, self.up(x3_0)], 1))\n",
    "        x1_2 = self.conv1_2(torch.cat([x1_0, x1_1, self.up(x2_1)], 1))\n",
    "        x0_3 = self.conv0_3(torch.cat([x0_0, x0_1, x0_2, self.up(x1_2)], 1))\n",
    "\n",
    "        x4_0 = self.conv4_0(self.pool(x3_0))\n",
    "        x3_1 = self.conv3_1(torch.cat([x3_0, self.up(x4_0)], 1))\n",
    "        x2_2 = self.conv2_2(torch.cat([x2_0, x2_1, self.up(x3_1)], 1))\n",
    "        x1_3 = self.conv1_3(torch.cat([x1_0, x1_1, x1_2, self.up(x2_2)], 1))\n",
    "        x0_4 = self.conv0_4(torch.cat([x0_0, x0_1, x0_2, x0_3, self.up(x1_3)], 1))\n",
    "\n",
    "        if self.deep_supervision:\n",
    "            output1 = self.final1(x0_1)\n",
    "            output2 = self.final2(x0_2)\n",
    "            output3 = self.final3(x0_3)\n",
    "            output4 = self.final4(x0_4)\n",
    "            return [output1, output2, output3, output4]\n",
    "\n",
    "        else:\n",
    "            output = self.final(x0_4)\n",
    "            return output"
   ]
  },
  {
   "cell_type": "code",
   "execution_count": 10,
   "id": "6ec97d5c-5b1d-4d06-bfa3-be3c9ffd346d",
   "metadata": {},
   "outputs": [],
   "source": [
    "# nestedunet = NestedUNet(2,1)\n",
    "# nestedunet.eval()"
   ]
  },
  {
   "cell_type": "markdown",
   "id": "ef5dd77a-2c74-4b3a-b2d6-2b99523df41f",
   "metadata": {},
   "source": [
    "## losses.py"
   ]
  },
  {
   "cell_type": "code",
   "execution_count": 11,
   "id": "c5214eac-fc1f-4b75-a44b-712feb356aa2",
   "metadata": {},
   "outputs": [],
   "source": [
    "class BCEDiceLoss(nn.Module):\n",
    "    def __init__(self):\n",
    "        super().__init__()\n",
    "\n",
    "    def forward(self, input, target):\n",
    "        bce = F.binary_cross_entropy_with_logits(input, target)\n",
    "        smooth = 1e-5\n",
    "        input = torch.sigmoid(input)\n",
    "        num = target.size(0)\n",
    "        input = input.view(num, -1)\n",
    "        target = target.view(num, -1)\n",
    "        intersection = (input * target)\n",
    "        dice = (2. * intersection.sum(1) + smooth) / (input.sum(1) + target.sum(1) + smooth)\n",
    "        dice = 1 - dice.sum() / num\n",
    "        return 0.5 * bce + dice"
   ]
  },
  {
   "cell_type": "code",
   "execution_count": 12,
   "id": "840f65af-e16e-4ccc-af4a-b98330cd76b4",
   "metadata": {},
   "outputs": [],
   "source": [
    "# from LovaszSoftmax.pytorch.lovasz_losses import lovasz_hinge\n",
    "# class LovaszHingeLoss(nn.Module):\n",
    "#     def __init__(self):\n",
    "#         super().__init__()\n",
    "\n",
    "#     def forward(self, input, target):\n",
    "#         input = input.squeeze(1)\n",
    "#         target = target.squeeze(1)\n",
    "#         loss = lovasz_hinge(input, target, per_image=True)\n",
    "\n",
    "#         return loss"
   ]
  },
  {
   "cell_type": "markdown",
   "id": "4c82b1b6-3eb1-4f20-b01b-a0e675f611c4",
   "metadata": {},
   "source": [
    "## dataset.py"
   ]
  },
  {
   "cell_type": "code",
   "execution_count": 13,
   "id": "48c25584-f2c6-4f04-8ba6-a2e26c67cd69",
   "metadata": {},
   "outputs": [],
   "source": [
    "class Dataset(torch.utils.data.Dataset):\n",
    "    def __init__(self, img_ids, img_dir, mask_dir, img_ext, mask_ext, num_classes, transform=None):\n",
    "        \"\"\"\n",
    "        Args:\n",
    "            img_ids (list): Image ids.\n",
    "            img_dir: Image file directory.\n",
    "            mask_dir: Mask file directory.\n",
    "            img_ext (str): Image file extension.\n",
    "            mask_ext (str): Mask file extension.\n",
    "            num_classes (int): Number of classes.\n",
    "            transform (Compose, optional): Compose transforms of albumentations. Defaults to None.\n",
    "        \n",
    "        Note:\n",
    "            Make sure to put the files as the following structure:\n",
    "            <dataset name>\n",
    "            ├── images\n",
    "            |   ├── 0a7e06.jpg\n",
    "            │   ├── 0aab0a.jpg\n",
    "            │   ├── 0b1761.jpg\n",
    "            │   ├── ...\n",
    "            |\n",
    "            └── masks\n",
    "                ├── 0\n",
    "                |   ├── 0a7e06.png\n",
    "                |   ├── 0aab0a.png\n",
    "                |   ├── 0b1761.png\n",
    "                |   ├── ...\n",
    "                |\n",
    "                ├── 1\n",
    "                |   ├── 0a7e06.png\n",
    "                |   ├── 0aab0a.png\n",
    "                |   ├── 0b1761.png\n",
    "                |   ├── ...\n",
    "                ...\n",
    "        \"\"\"\n",
    "        self.img_ids = img_ids\n",
    "        self.img_dir = img_dir\n",
    "        self.mask_dir = mask_dir\n",
    "        self.img_ext = img_ext\n",
    "        self.mask_ext = mask_ext\n",
    "        self.num_classes = num_classes\n",
    "        self.transform = transform\n",
    "\n",
    "    def __len__(self):\n",
    "        return len(self.img_ids)\n",
    "\n",
    "    def __getitem__(self, idx):\n",
    "        img_id = self.img_ids[idx]\n",
    "        \n",
    "        img = cv2.imread(os.path.join(self.img_dir, img_id + self.img_ext))\n",
    "\n",
    "        mask = []\n",
    "        for i in range(self.num_classes):\n",
    "            mask.append(cv2.imread(os.path.join(self.mask_dir, str(i),\n",
    "                        img_id + self.mask_ext), cv2.IMREAD_GRAYSCALE)[..., None])\n",
    "        mask = np.dstack(mask)\n",
    "\n",
    "        if self.transform is not None:\n",
    "            augmented = self.transform(image=img, mask=mask)\n",
    "            img = augmented['image']\n",
    "            mask = augmented['mask']\n",
    "        \n",
    "        img = img.astype('float32') / 255\n",
    "        img = img.transpose(2, 0, 1)\n",
    "        mask = mask.astype('float32') / 255\n",
    "        mask = mask.transpose(2, 0, 1)\n",
    "        \n",
    "        return img, mask, {'img_id': img_id}"
   ]
  },
  {
   "cell_type": "markdown",
   "id": "bde833ed-cffb-401e-aa94-aeaad09c08d1",
   "metadata": {},
   "source": [
    "## metrics.py"
   ]
  },
  {
   "cell_type": "code",
   "execution_count": 14,
   "id": "3ce8e4b1-9a65-47b2-ae30-1bdea8abe6c5",
   "metadata": {},
   "outputs": [],
   "source": [
    "def iou_score(output, target):\n",
    "    smooth = 1e-5\n",
    "\n",
    "    if torch.is_tensor(output):\n",
    "        output = torch.sigmoid(output).data.cpu().numpy()\n",
    "    if torch.is_tensor(target):\n",
    "        target = target.data.cpu().numpy()\n",
    "    output_ = output > 0.5\n",
    "    target_ = target > 0.5\n",
    "    intersection = (output_ & target_).sum()\n",
    "    union = (output_ | target_).sum()\n",
    "\n",
    "    return (intersection + smooth) / (union + smooth)"
   ]
  },
  {
   "cell_type": "code",
   "execution_count": 15,
   "id": "2063835f-fab6-4d29-9969-d555888f9f55",
   "metadata": {},
   "outputs": [],
   "source": [
    "def dice_coef(output, target):\n",
    "    smooth = 1e-5\n",
    "\n",
    "    output = torch.sigmoid(output).view(-1).data.cpu().numpy()\n",
    "    target = target.view(-1).data.cpu().numpy()\n",
    "    intersection = (output * target).sum()\n",
    "\n",
    "    return (2. * intersection + smooth) / \\\n",
    "        (output.sum() + target.sum() + smooth)"
   ]
  },
  {
   "cell_type": "markdown",
   "id": "cb098100-b4d7-43d5-9d85-943e04aeb9b8",
   "metadata": {},
   "source": [
    "## utils"
   ]
  },
  {
   "cell_type": "code",
   "execution_count": 16,
   "id": "2a6f36b5-5e8c-47d6-a8f8-83191996492b",
   "metadata": {},
   "outputs": [],
   "source": [
    "def str2bool(v):\n",
    "    if v.lower() in ['true', 1]:\n",
    "        return True\n",
    "    elif v.lower() in ['false', 0]:\n",
    "        return False\n",
    "    else:\n",
    "        raise argparse.ArgumentTypeError('Boolean value expected.')"
   ]
  },
  {
   "cell_type": "code",
   "execution_count": 17,
   "id": "bc16f96d-291b-44e1-a831-94b120a84213",
   "metadata": {},
   "outputs": [],
   "source": [
    "def count_params(model):\n",
    "    return sum(p.numel() for p in model.parameters() if p.requires_grad)"
   ]
  },
  {
   "cell_type": "code",
   "execution_count": 18,
   "id": "0b031ea6-3019-4f99-a3a5-fced639bf93d",
   "metadata": {},
   "outputs": [],
   "source": [
    "class AverageMeter(object):\n",
    "    \"\"\"Computes and stores the average and current value\"\"\"\n",
    "\n",
    "    def __init__(self):\n",
    "        self.reset()\n",
    "\n",
    "    def reset(self):\n",
    "        self.val = 0\n",
    "        self.avg = 0\n",
    "        self.sum = 0\n",
    "        self.count = 0\n",
    "\n",
    "    def update(self, val, n=1):\n",
    "        self.val = val\n",
    "        self.sum += val * n\n",
    "        self.count += n\n",
    "        self.avg = self.sum / self.count"
   ]
  },
  {
   "cell_type": "markdown",
   "id": "fc21b013-aed1-4a89-8d39-3053ad51f87f",
   "metadata": {},
   "source": [
    "## python train.py --dataset dsb2018_96 --arch NestedUNet"
   ]
  },
  {
   "cell_type": "markdown",
   "id": "ede1dca9-bebe-4468-bdc8-1787948ba295",
   "metadata": {},
   "source": [
    "### config = vars(parse_args())"
   ]
  },
  {
   "cell_type": "code",
   "execution_count": 19,
   "id": "979ba582-9a86-4e85-a553-e4a2358e41b5",
   "metadata": {},
   "outputs": [],
   "source": [
    "name = 'dsb2018_96_NestedUNet_woDS'\n",
    "epochs = 100\n",
    "batch_size = 16\n",
    "# arch = 'NestedUNet'\n",
    "arch = 'UNet'\n",
    "deep_supervision = False\n",
    "input_channels = 3\n",
    "num_classes = 1\n",
    "input_w = 96\n",
    "input_h =96\n",
    "loss = 'BCEDiceLoss'\n",
    "dataset = 'dsb2018_96'\n",
    "img_ext = '.png'\n",
    "mask_ext = '.png'\n",
    "optimizer = 'SGD'\n",
    "lr = 0.001\n",
    "momentum = 0.9\n",
    "weight_decay = 0.0001\n",
    "nesterov = False\n",
    "scheduler = 'CosineAnnealingLR'\n",
    "min_lr = 1e-05\n",
    "factor = 0.1\n",
    "patience = 2\n",
    "milestones = '1,2'\n",
    "gamma = 0.6666666666666666\n",
    "early_stopping = -1\n",
    "num_workers = 4"
   ]
  },
  {
   "cell_type": "markdown",
   "id": "27f3d41d-b656-43c6-b7a9-67c83628533b",
   "metadata": {},
   "source": [
    "### define loss function (criterion)"
   ]
  },
  {
   "cell_type": "code",
   "execution_count": 20,
   "id": "6818917a-01d8-4a18-b046-a208ed3ad311",
   "metadata": {},
   "outputs": [],
   "source": [
    "if loss == 'BCEWithLogitsLoss':\n",
    "    criterion = nn.BCEWithLogitsLoss().cuda()\n",
    "else:\n",
    "    criterion = BCEDiceLoss().cuda()\n",
    "\n",
    "cudnn.benchmark = True"
   ]
  },
  {
   "cell_type": "code",
   "execution_count": 21,
   "id": "79ccf0b6-badf-40c1-8b8f-380e654be692",
   "metadata": {},
   "outputs": [
    {
     "name": "stdout",
     "output_type": "stream",
     "text": [
      "=> creating model UNet\n"
     ]
    }
   ],
   "source": [
    "print(\"=> creating model %s\" % arch)\n",
    "model = NestedUNet(num_classes, input_channels, deep_supervision)\n",
    "\n",
    "model = model.cuda()"
   ]
  },
  {
   "cell_type": "code",
   "execution_count": 22,
   "id": "b0d8dc02-7841-4d02-8006-bff2d40b6cbd",
   "metadata": {},
   "outputs": [],
   "source": [
    "params = filter(lambda p: p.requires_grad, model.parameters())\n",
    "\n",
    "if optimizer == 'Adam':\n",
    "    optimizer = optim.Adam(\n",
    "        params, lr=lr, weight_decay=weight_decay)\n",
    "elif optimizer == 'SGD':\n",
    "    optimizer = optim.SGD(params, lr=lr, momentum=momentum,\n",
    "                          nesterov=nesterov, weight_decay=weight_decay)"
   ]
  },
  {
   "cell_type": "code",
   "execution_count": 23,
   "id": "8e9343ea-a280-4768-ba06-9173213efa5d",
   "metadata": {},
   "outputs": [],
   "source": [
    "if scheduler == 'CosineAnnealingLR':\n",
    "    scheduler = lr_scheduler.CosineAnnealingLR(\n",
    "        optimizer, T_max=epochs, eta_min=min_lr)\n",
    "elif scheduler == 'ReduceLROnPlateau':\n",
    "    scheduler = lr_scheduler.ReduceLROnPlateau(optimizer, factor=factor, patience=patience,\n",
    "                                               verbose=1, min_lr=min_lr)\n",
    "elif scheduler == 'MultiStepLR':\n",
    "    scheduler = lr_scheduler.MultiStepLR(optimizer, milestones=[int(e) for e in milestones.split(',')], gamma=gamma)\n",
    "elif scheduler == 'ConstantLR':\n",
    "    scheduler = None"
   ]
  },
  {
   "cell_type": "markdown",
   "id": "4342f3dd-38bf-4da1-a604-e41cac678ee6",
   "metadata": {},
   "source": [
    "### Data loading code"
   ]
  },
  {
   "cell_type": "code",
   "execution_count": 24,
   "id": "c456766f-23e0-4a95-a5e0-2f922b1e7ce2",
   "metadata": {},
   "outputs": [],
   "source": [
    "data_path = os.path.join(gData, 'data-science-bowl-2018')\n",
    "\n",
    "img_ids = glob(os.path.join(data_path, dataset, 'images', '*' + img_ext))\n",
    "img_ids = [os.path.splitext(os.path.basename(p))[0] for p in img_ids]\n",
    "\n",
    "train_img_ids, val_img_ids = train_test_split(img_ids, test_size=0.2, random_state=41)"
   ]
  },
  {
   "cell_type": "code",
   "execution_count": 25,
   "id": "d4e38b3a-ae1c-463c-8dc7-60050a75e5ea",
   "metadata": {},
   "outputs": [],
   "source": [
    "import albumentations as albu\n",
    "train_transform = Compose([\n",
    "    albu.RandomRotate90(),\n",
    "    transforms.Flip(),\n",
    "    OneOf([\n",
    "        transforms.HueSaturationValue(),\n",
    "        transforms.RandomBrightnessContrast(),\n",
    "        # transforms.RandomContrast(),\n",
    "    ], p=1),\n",
    "    albu.Resize(input_h, input_w),\n",
    "    transforms.Normalize(),\n",
    "])\n",
    "\n",
    "val_transform = Compose([\n",
    "    albu.Resize(input_h, input_w),\n",
    "    transforms.Normalize(),\n",
    "])"
   ]
  },
  {
   "cell_type": "code",
   "execution_count": 26,
   "id": "5fc5949b-723d-4b4c-9167-95df0d0f2b73",
   "metadata": {},
   "outputs": [],
   "source": [
    "train_dataset = Dataset(\n",
    "    img_ids=train_img_ids,\n",
    "    img_dir=os.path.join(data_path, dataset, 'images'),\n",
    "    mask_dir=os.path.join(data_path, dataset, 'masks'),\n",
    "    img_ext=img_ext,\n",
    "    mask_ext=mask_ext,\n",
    "    num_classes=num_classes,\n",
    "    transform=train_transform)\n",
    "val_dataset = Dataset(\n",
    "    img_ids=val_img_ids,\n",
    "    img_dir=os.path.join(data_path, dataset, 'images'),\n",
    "    mask_dir=os.path.join(data_path, dataset, 'masks'),\n",
    "    img_ext=img_ext,\n",
    "    mask_ext=mask_ext,\n",
    "    num_classes=num_classes,\n",
    "    transform=val_transform)"
   ]
  },
  {
   "cell_type": "code",
   "execution_count": 27,
   "id": "96bc5e18-45ff-4e79-bba0-158e7299b534",
   "metadata": {},
   "outputs": [],
   "source": [
    "train_loader = torch.utils.data.DataLoader(\n",
    "    train_dataset,\n",
    "    batch_size=batch_size,\n",
    "    shuffle=True,\n",
    "    num_workers=num_workers,\n",
    "    drop_last=True)\n",
    "val_loader = torch.utils.data.DataLoader(\n",
    "    val_dataset,\n",
    "    batch_size=batch_size,\n",
    "    shuffle=False,\n",
    "    num_workers=num_workers,\n",
    "    drop_last=False)"
   ]
  },
  {
   "cell_type": "code",
   "execution_count": 28,
   "id": "c6f4be9e-8d03-4bf7-a36f-60f889510176",
   "metadata": {},
   "outputs": [],
   "source": [
    "log = OrderedDict([\n",
    "    ('epoch', []),\n",
    "    ('lr', []),\n",
    "    ('loss', []),\n",
    "    ('iou', []),\n",
    "    ('val_loss', []),\n",
    "    ('val_iou', []),\n",
    "])"
   ]
  },
  {
   "cell_type": "code",
   "execution_count": 29,
   "id": "b4fd78b0-c49b-488d-8b9b-23353811a1ff",
   "metadata": {},
   "outputs": [],
   "source": [
    "def train(train_loader, model, criterion, optimizer):\n",
    "    avg_meters = {'loss': AverageMeter(),\n",
    "                  'iou': AverageMeter()}\n",
    "\n",
    "    model.train()\n",
    "\n",
    "    pbar = tqdm(total=len(train_loader))\n",
    "    for input, target, _ in train_loader:\n",
    "        input = input.cuda()\n",
    "        target = target.cuda()\n",
    "\n",
    "        # compute output\n",
    "        if deep_supervision:\n",
    "            outputs = model(input)\n",
    "            loss = 0\n",
    "            for output in outputs:\n",
    "                loss += criterion(output, target)\n",
    "            loss /= len(outputs)\n",
    "            iou = iou_score(outputs[-1], target)\n",
    "        else:\n",
    "            output = model(input)\n",
    "            loss = criterion(output, target)\n",
    "            iou = iou_score(output, target)\n",
    "\n",
    "        # compute gradient and do optimizing step\n",
    "        optimizer.zero_grad()\n",
    "        loss.backward()\n",
    "        optimizer.step()\n",
    "\n",
    "        avg_meters['loss'].update(loss.item(), input.size(0))\n",
    "        avg_meters['iou'].update(iou, input.size(0))\n",
    "\n",
    "        postfix = OrderedDict([\n",
    "            ('loss', avg_meters['loss'].avg),\n",
    "            ('iou', avg_meters['iou'].avg),\n",
    "        ])\n",
    "        pbar.set_postfix(postfix)\n",
    "        pbar.update(1)\n",
    "    pbar.close()\n",
    "\n",
    "    return OrderedDict([('loss', avg_meters['loss'].avg),\n",
    "                        ('iou', avg_meters['iou'].avg)])"
   ]
  },
  {
   "cell_type": "code",
   "execution_count": 30,
   "id": "cad50384-e5ad-4c1a-a2c4-d9e4dd68c898",
   "metadata": {},
   "outputs": [],
   "source": [
    "def validate(val_loader, model, criterion):\n",
    "    avg_meters = {'loss': AverageMeter(),\n",
    "                  'iou': AverageMeter()}\n",
    "\n",
    "    # switch to evaluate mode\n",
    "    model.eval()\n",
    "\n",
    "    with torch.no_grad():\n",
    "        pbar = tqdm(total=len(val_loader))\n",
    "        for input, target, _ in val_loader:\n",
    "            input = input.cuda()\n",
    "            target = target.cuda()\n",
    "\n",
    "            # compute output\n",
    "            if deep_supervision:\n",
    "                outputs = model(input)\n",
    "                loss = 0\n",
    "                for output in outputs:\n",
    "                    loss += criterion(output, target)\n",
    "                loss /= len(outputs)\n",
    "                iou = iou_score(outputs[-1], target)\n",
    "            else:\n",
    "                output = model(input)\n",
    "                loss = criterion(output, target)\n",
    "                iou = iou_score(output, target)\n",
    "\n",
    "            avg_meters['loss'].update(loss.item(), input.size(0))\n",
    "            avg_meters['iou'].update(iou, input.size(0))\n",
    "\n",
    "            postfix = OrderedDict([\n",
    "                ('loss', avg_meters['loss'].avg),\n",
    "                ('iou', avg_meters['iou'].avg),\n",
    "            ])\n",
    "            pbar.set_postfix(postfix)\n",
    "            pbar.update(1)\n",
    "        pbar.close()\n",
    "\n",
    "    return OrderedDict([('loss', avg_meters['loss'].avg),\n",
    "                        ('iou', avg_meters['iou'].avg)])"
   ]
  },
  {
   "cell_type": "code",
   "execution_count": 31,
   "id": "575ce318-8f18-4e74-8157-8b2a744aac33",
   "metadata": {},
   "outputs": [
    {
     "name": "stdout",
     "output_type": "stream",
     "text": [
      "Epoch [0/100]\n"
     ]
    },
    {
     "name": "stderr",
     "output_type": "stream",
     "text": [
      "100%|██████████████████████| 33/33 [00:03<00:00,  8.30it/s, loss=1.1, iou=0.226]\n",
      "100%|██████████████████████| 9/9 [00:00<00:00, 12.43it/s, loss=1.13, iou=0.0102]\n"
     ]
    },
    {
     "name": "stdout",
     "output_type": "stream",
     "text": [
      "loss 1.1006 - iou 0.2262 - val_loss 1.1272 - val_iou 0.0102\n",
      "=> saved best model\n",
      "Epoch [1/100]\n"
     ]
    },
    {
     "name": "stderr",
     "output_type": "stream",
     "text": [
      "100%|█████████████████████| 33/33 [00:02<00:00, 12.78it/s, loss=0.967, iou=0.38]\n",
      "100%|█████████████████████████| 9/9 [00:00<00:00, 21.04it/s, loss=1.08, iou=0.1]\n"
     ]
    },
    {
     "name": "stdout",
     "output_type": "stream",
     "text": [
      "loss 0.9674 - iou 0.3797 - val_loss 1.0838 - val_iou 0.1004\n",
      "=> saved best model\n",
      "Epoch [2/100]\n"
     ]
    },
    {
     "name": "stderr",
     "output_type": "stream",
     "text": [
      "100%|████████████████████| 33/33 [00:02<00:00, 12.75it/s, loss=0.866, iou=0.472]\n",
      "100%|████████████████████████| 9/9 [00:00<00:00, 20.14it/s, loss=0.825, iou=0.5]\n"
     ]
    },
    {
     "name": "stdout",
     "output_type": "stream",
     "text": [
      "loss 0.8661 - iou 0.4722 - val_loss 0.8253 - val_iou 0.4996\n",
      "=> saved best model\n",
      "Epoch [3/100]\n"
     ]
    },
    {
     "name": "stderr",
     "output_type": "stream",
     "text": [
      "100%|████████████████████| 33/33 [00:02<00:00, 12.84it/s, loss=0.769, iou=0.542]\n",
      "100%|██████████████████████| 9/9 [00:00<00:00, 20.49it/s, loss=0.677, iou=0.652]\n"
     ]
    },
    {
     "name": "stdout",
     "output_type": "stream",
     "text": [
      "loss 0.7688 - iou 0.5418 - val_loss 0.6772 - val_iou 0.6522\n",
      "=> saved best model\n",
      "Epoch [4/100]\n"
     ]
    },
    {
     "name": "stderr",
     "output_type": "stream",
     "text": [
      "100%|████████████████████| 33/33 [00:02<00:00, 12.90it/s, loss=0.695, iou=0.577]\n",
      "100%|██████████████████████| 9/9 [00:00<00:00, 19.69it/s, loss=0.618, iou=0.648]\n"
     ]
    },
    {
     "name": "stdout",
     "output_type": "stream",
     "text": [
      "loss 0.6946 - iou 0.5771 - val_loss 0.6182 - val_iou 0.6483\n",
      "Epoch [5/100]\n"
     ]
    },
    {
     "name": "stderr",
     "output_type": "stream",
     "text": [
      "100%|████████████████████| 33/33 [00:02<00:00, 12.92it/s, loss=0.623, iou=0.616]\n",
      "100%|██████████████████████| 9/9 [00:00<00:00, 20.55it/s, loss=0.546, iou=0.693]\n"
     ]
    },
    {
     "name": "stdout",
     "output_type": "stream",
     "text": [
      "loss 0.6226 - iou 0.6160 - val_loss 0.5464 - val_iou 0.6925\n",
      "=> saved best model\n",
      "Epoch [6/100]\n"
     ]
    },
    {
     "name": "stderr",
     "output_type": "stream",
     "text": [
      "100%|████████████████████| 33/33 [00:02<00:00, 12.89it/s, loss=0.579, iou=0.627]\n",
      "100%|██████████████████████| 9/9 [00:00<00:00, 19.93it/s, loss=0.499, iou=0.693]\n"
     ]
    },
    {
     "name": "stdout",
     "output_type": "stream",
     "text": [
      "loss 0.5788 - iou 0.6266 - val_loss 0.4989 - val_iou 0.6926\n",
      "=> saved best model\n",
      "Epoch [7/100]\n"
     ]
    },
    {
     "name": "stderr",
     "output_type": "stream",
     "text": [
      "100%|████████████████████| 33/33 [00:02<00:00, 12.81it/s, loss=0.542, iou=0.626]\n",
      "100%|██████████████████████| 9/9 [00:00<00:00, 20.10it/s, loss=0.465, iou=0.694]\n"
     ]
    },
    {
     "name": "stdout",
     "output_type": "stream",
     "text": [
      "loss 0.5420 - iou 0.6261 - val_loss 0.4650 - val_iou 0.6940\n",
      "=> saved best model\n",
      "Epoch [8/100]\n"
     ]
    },
    {
     "name": "stderr",
     "output_type": "stream",
     "text": [
      "100%|████████████████████| 33/33 [00:02<00:00, 12.70it/s, loss=0.497, iou=0.646]\n",
      "100%|██████████████████████| 9/9 [00:00<00:00, 18.36it/s, loss=0.407, iou=0.732]\n"
     ]
    },
    {
     "name": "stdout",
     "output_type": "stream",
     "text": [
      "loss 0.4970 - iou 0.6460 - val_loss 0.4074 - val_iou 0.7316\n",
      "=> saved best model\n",
      "Epoch [9/100]\n"
     ]
    },
    {
     "name": "stderr",
     "output_type": "stream",
     "text": [
      "100%|████████████████████| 33/33 [00:02<00:00, 12.86it/s, loss=0.461, iou=0.655]\n",
      "100%|██████████████████████| 9/9 [00:00<00:00, 20.45it/s, loss=0.385, iou=0.729]\n"
     ]
    },
    {
     "name": "stdout",
     "output_type": "stream",
     "text": [
      "loss 0.4606 - iou 0.6552 - val_loss 0.3847 - val_iou 0.7289\n",
      "Epoch [10/100]\n"
     ]
    },
    {
     "name": "stderr",
     "output_type": "stream",
     "text": [
      "100%|████████████████████| 33/33 [00:02<00:00, 12.54it/s, loss=0.444, iou=0.649]\n",
      "100%|██████████████████████| 9/9 [00:00<00:00, 19.05it/s, loss=0.378, iou=0.718]\n"
     ]
    },
    {
     "name": "stdout",
     "output_type": "stream",
     "text": [
      "loss 0.4445 - iou 0.6490 - val_loss 0.3784 - val_iou 0.7180\n",
      "Epoch [11/100]\n"
     ]
    },
    {
     "name": "stderr",
     "output_type": "stream",
     "text": [
      "100%|█████████████████████| 33/33 [00:02<00:00, 12.63it/s, loss=0.407, iou=0.67]\n",
      "100%|██████████████████████| 9/9 [00:00<00:00, 19.37it/s, loss=0.402, iou=0.732]\n"
     ]
    },
    {
     "name": "stdout",
     "output_type": "stream",
     "text": [
      "loss 0.4072 - iou 0.6698 - val_loss 0.4018 - val_iou 0.7322\n",
      "=> saved best model\n",
      "Epoch [12/100]\n"
     ]
    },
    {
     "name": "stderr",
     "output_type": "stream",
     "text": [
      "100%|████████████████████| 33/33 [00:02<00:00, 12.90it/s, loss=0.403, iou=0.671]\n",
      "100%|██████████████████████| 9/9 [00:00<00:00, 20.11it/s, loss=0.317, iou=0.752]\n"
     ]
    },
    {
     "name": "stdout",
     "output_type": "stream",
     "text": [
      "loss 0.4027 - iou 0.6705 - val_loss 0.3170 - val_iou 0.7519\n",
      "=> saved best model\n",
      "Epoch [13/100]\n"
     ]
    },
    {
     "name": "stderr",
     "output_type": "stream",
     "text": [
      "100%|████████████████████| 33/33 [00:02<00:00, 12.81it/s, loss=0.365, iou=0.696]\n",
      "100%|███████████████████████| 9/9 [00:00<00:00, 20.62it/s, loss=0.274, iou=0.75]\n"
     ]
    },
    {
     "name": "stdout",
     "output_type": "stream",
     "text": [
      "loss 0.3652 - iou 0.6964 - val_loss 0.2744 - val_iou 0.7503\n",
      "Epoch [14/100]\n"
     ]
    },
    {
     "name": "stderr",
     "output_type": "stream",
     "text": [
      "100%|████████████████████| 33/33 [00:02<00:00, 13.00it/s, loss=0.354, iou=0.688]\n",
      "100%|██████████████████████| 9/9 [00:00<00:00, 20.81it/s, loss=0.306, iou=0.745]\n"
     ]
    },
    {
     "name": "stdout",
     "output_type": "stream",
     "text": [
      "loss 0.3536 - iou 0.6878 - val_loss 0.3055 - val_iou 0.7448\n",
      "Epoch [15/100]\n"
     ]
    },
    {
     "name": "stderr",
     "output_type": "stream",
     "text": [
      "100%|█████████████████████| 33/33 [00:02<00:00, 13.34it/s, loss=0.34, iou=0.704]\n",
      "100%|███████████████████████| 9/9 [00:00<00:00, 20.59it/s, loss=0.49, iou=0.511]\n"
     ]
    },
    {
     "name": "stdout",
     "output_type": "stream",
     "text": [
      "loss 0.3395 - iou 0.7037 - val_loss 0.4900 - val_iou 0.5105\n",
      "Epoch [16/100]\n"
     ]
    },
    {
     "name": "stderr",
     "output_type": "stream",
     "text": [
      "100%|████████████████████| 33/33 [00:02<00:00, 13.05it/s, loss=0.334, iou=0.711]\n",
      "100%|██████████████████████| 9/9 [00:00<00:00, 20.27it/s, loss=0.239, iou=0.791]\n"
     ]
    },
    {
     "name": "stdout",
     "output_type": "stream",
     "text": [
      "loss 0.3340 - iou 0.7112 - val_loss 0.2389 - val_iou 0.7911\n",
      "=> saved best model\n",
      "Epoch [17/100]\n"
     ]
    },
    {
     "name": "stderr",
     "output_type": "stream",
     "text": [
      "100%|████████████████████| 33/33 [00:02<00:00, 13.20it/s, loss=0.321, iou=0.718]\n",
      "100%|██████████████████████| 9/9 [00:00<00:00, 20.77it/s, loss=0.234, iou=0.791]\n"
     ]
    },
    {
     "name": "stdout",
     "output_type": "stream",
     "text": [
      "loss 0.3212 - iou 0.7179 - val_loss 0.2340 - val_iou 0.7910\n",
      "Epoch [18/100]\n"
     ]
    },
    {
     "name": "stderr",
     "output_type": "stream",
     "text": [
      "100%|████████████████████| 33/33 [00:02<00:00, 13.06it/s, loss=0.339, iou=0.688]\n",
      "100%|██████████████████████| 9/9 [00:00<00:00, 20.62it/s, loss=0.272, iou=0.758]\n"
     ]
    },
    {
     "name": "stdout",
     "output_type": "stream",
     "text": [
      "loss 0.3387 - iou 0.6881 - val_loss 0.2717 - val_iou 0.7575\n",
      "Epoch [19/100]\n"
     ]
    },
    {
     "name": "stderr",
     "output_type": "stream",
     "text": [
      "100%|█████████████████████| 33/33 [00:02<00:00, 12.99it/s, loss=0.31, iou=0.713]\n",
      "100%|██████████████████████| 9/9 [00:00<00:00, 19.92it/s, loss=0.321, iou=0.749]\n"
     ]
    },
    {
     "name": "stdout",
     "output_type": "stream",
     "text": [
      "loss 0.3098 - iou 0.7131 - val_loss 0.3207 - val_iou 0.7489\n",
      "Epoch [20/100]\n"
     ]
    },
    {
     "name": "stderr",
     "output_type": "stream",
     "text": [
      "100%|████████████████████| 33/33 [00:02<00:00, 13.30it/s, loss=0.294, iou=0.727]\n",
      "100%|██████████████████████| 9/9 [00:00<00:00, 18.68it/s, loss=0.228, iou=0.793]\n"
     ]
    },
    {
     "name": "stdout",
     "output_type": "stream",
     "text": [
      "loss 0.2939 - iou 0.7267 - val_loss 0.2284 - val_iou 0.7933\n",
      "=> saved best model\n",
      "Epoch [21/100]\n"
     ]
    },
    {
     "name": "stderr",
     "output_type": "stream",
     "text": [
      "100%|████████████████████| 33/33 [00:02<00:00, 12.22it/s, loss=0.303, iou=0.705]\n",
      "100%|██████████████████████| 9/9 [00:00<00:00, 19.88it/s, loss=0.235, iou=0.795]\n"
     ]
    },
    {
     "name": "stdout",
     "output_type": "stream",
     "text": [
      "loss 0.3033 - iou 0.7047 - val_loss 0.2346 - val_iou 0.7952\n",
      "=> saved best model\n",
      "Epoch [22/100]\n"
     ]
    },
    {
     "name": "stderr",
     "output_type": "stream",
     "text": [
      "100%|████████████████████| 33/33 [00:02<00:00, 12.85it/s, loss=0.289, iou=0.723]\n",
      "100%|██████████████████████| 9/9 [00:00<00:00, 19.46it/s, loss=0.217, iou=0.792]\n"
     ]
    },
    {
     "name": "stdout",
     "output_type": "stream",
     "text": [
      "loss 0.2888 - iou 0.7230 - val_loss 0.2172 - val_iou 0.7918\n",
      "Epoch [23/100]\n"
     ]
    },
    {
     "name": "stderr",
     "output_type": "stream",
     "text": [
      "100%|████████████████████| 33/33 [00:02<00:00, 12.40it/s, loss=0.289, iou=0.732]\n",
      "100%|██████████████████████| 9/9 [00:00<00:00, 17.35it/s, loss=0.248, iou=0.762]\n"
     ]
    },
    {
     "name": "stdout",
     "output_type": "stream",
     "text": [
      "loss 0.2889 - iou 0.7324 - val_loss 0.2478 - val_iou 0.7616\n",
      "Epoch [24/100]\n"
     ]
    },
    {
     "name": "stderr",
     "output_type": "stream",
     "text": [
      "100%|████████████████████| 33/33 [00:02<00:00, 12.76it/s, loss=0.293, iou=0.724]\n",
      "100%|██████████████████████| 9/9 [00:00<00:00, 19.37it/s, loss=0.229, iou=0.779]\n"
     ]
    },
    {
     "name": "stdout",
     "output_type": "stream",
     "text": [
      "loss 0.2927 - iou 0.7243 - val_loss 0.2289 - val_iou 0.7787\n",
      "Epoch [25/100]\n"
     ]
    },
    {
     "name": "stderr",
     "output_type": "stream",
     "text": [
      "100%|████████████████████| 33/33 [00:02<00:00, 12.90it/s, loss=0.285, iou=0.737]\n",
      "100%|██████████████████████| 9/9 [00:00<00:00, 20.63it/s, loss=0.207, iou=0.794]\n"
     ]
    },
    {
     "name": "stdout",
     "output_type": "stream",
     "text": [
      "loss 0.2855 - iou 0.7375 - val_loss 0.2066 - val_iou 0.7942\n",
      "Epoch [26/100]\n"
     ]
    },
    {
     "name": "stderr",
     "output_type": "stream",
     "text": [
      "100%|████████████████████| 33/33 [00:02<00:00, 12.52it/s, loss=0.279, iou=0.731]\n",
      "100%|██████████████████████| 9/9 [00:00<00:00, 19.25it/s, loss=0.203, iou=0.808]\n"
     ]
    },
    {
     "name": "stdout",
     "output_type": "stream",
     "text": [
      "loss 0.2788 - iou 0.7311 - val_loss 0.2034 - val_iou 0.8077\n",
      "=> saved best model\n",
      "Epoch [27/100]\n"
     ]
    },
    {
     "name": "stderr",
     "output_type": "stream",
     "text": [
      "100%|█████████████████████| 33/33 [00:02<00:00, 11.81it/s, loss=0.262, iou=0.74]\n",
      "100%|██████████████████████| 9/9 [00:00<00:00, 19.51it/s, loss=0.202, iou=0.808]\n"
     ]
    },
    {
     "name": "stdout",
     "output_type": "stream",
     "text": [
      "loss 0.2618 - iou 0.7396 - val_loss 0.2016 - val_iou 0.8084\n",
      "=> saved best model\n",
      "Epoch [28/100]\n"
     ]
    },
    {
     "name": "stderr",
     "output_type": "stream",
     "text": [
      "100%|████████████████████| 33/33 [00:02<00:00, 12.30it/s, loss=0.281, iou=0.729]\n",
      "100%|██████████████████████| 9/9 [00:00<00:00, 19.89it/s, loss=0.196, iou=0.805]\n"
     ]
    },
    {
     "name": "stdout",
     "output_type": "stream",
     "text": [
      "loss 0.2809 - iou 0.7292 - val_loss 0.1959 - val_iou 0.8053\n",
      "Epoch [29/100]\n"
     ]
    },
    {
     "name": "stderr",
     "output_type": "stream",
     "text": [
      "100%|████████████████████| 33/33 [00:02<00:00, 12.49it/s, loss=0.289, iou=0.719]\n",
      "100%|██████████████████████| 9/9 [00:00<00:00, 19.84it/s, loss=0.212, iou=0.797]\n"
     ]
    },
    {
     "name": "stdout",
     "output_type": "stream",
     "text": [
      "loss 0.2890 - iou 0.7190 - val_loss 0.2123 - val_iou 0.7972\n",
      "Epoch [30/100]\n"
     ]
    },
    {
     "name": "stderr",
     "output_type": "stream",
     "text": [
      "100%|█████████████████████| 33/33 [00:02<00:00, 12.24it/s, loss=0.26, iou=0.752]\n",
      "100%|██████████████████████| 9/9 [00:00<00:00, 18.75it/s, loss=0.194, iou=0.794]\n"
     ]
    },
    {
     "name": "stdout",
     "output_type": "stream",
     "text": [
      "loss 0.2597 - iou 0.7517 - val_loss 0.1942 - val_iou 0.7940\n",
      "Epoch [31/100]\n"
     ]
    },
    {
     "name": "stderr",
     "output_type": "stream",
     "text": [
      "100%|████████████████████| 33/33 [00:02<00:00, 12.31it/s, loss=0.279, iou=0.726]\n",
      "100%|██████████████████████| 9/9 [00:00<00:00, 19.65it/s, loss=0.236, iou=0.781]\n"
     ]
    },
    {
     "name": "stdout",
     "output_type": "stream",
     "text": [
      "loss 0.2790 - iou 0.7262 - val_loss 0.2360 - val_iou 0.7812\n",
      "Epoch [32/100]\n"
     ]
    },
    {
     "name": "stderr",
     "output_type": "stream",
     "text": [
      "100%|████████████████████| 33/33 [00:02<00:00, 12.39it/s, loss=0.275, iou=0.722]\n",
      "100%|██████████████████████| 9/9 [00:00<00:00, 19.97it/s, loss=0.187, iou=0.814]\n"
     ]
    },
    {
     "name": "stdout",
     "output_type": "stream",
     "text": [
      "loss 0.2746 - iou 0.7220 - val_loss 0.1865 - val_iou 0.8138\n",
      "=> saved best model\n",
      "Epoch [33/100]\n"
     ]
    },
    {
     "name": "stderr",
     "output_type": "stream",
     "text": [
      "100%|████████████████████| 33/33 [00:02<00:00, 12.50it/s, loss=0.266, iou=0.736]\n",
      "100%|██████████████████████| 9/9 [00:00<00:00, 20.39it/s, loss=0.198, iou=0.808]\n"
     ]
    },
    {
     "name": "stdout",
     "output_type": "stream",
     "text": [
      "loss 0.2658 - iou 0.7358 - val_loss 0.1982 - val_iou 0.8084\n",
      "Epoch [34/100]\n"
     ]
    },
    {
     "name": "stderr",
     "output_type": "stream",
     "text": [
      "100%|█████████████████████| 33/33 [00:02<00:00, 12.34it/s, loss=0.264, iou=0.74]\n",
      "100%|██████████████████████| 9/9 [00:00<00:00, 20.45it/s, loss=0.218, iou=0.799]\n"
     ]
    },
    {
     "name": "stdout",
     "output_type": "stream",
     "text": [
      "loss 0.2636 - iou 0.7401 - val_loss 0.2184 - val_iou 0.7987\n",
      "Epoch [35/100]\n"
     ]
    },
    {
     "name": "stderr",
     "output_type": "stream",
     "text": [
      "100%|████████████████████| 33/33 [00:02<00:00, 12.32it/s, loss=0.259, iou=0.737]\n",
      "100%|██████████████████████| 9/9 [00:00<00:00, 19.02it/s, loss=0.201, iou=0.784]\n"
     ]
    },
    {
     "name": "stdout",
     "output_type": "stream",
     "text": [
      "loss 0.2585 - iou 0.7371 - val_loss 0.2009 - val_iou 0.7842\n",
      "Epoch [36/100]\n"
     ]
    },
    {
     "name": "stderr",
     "output_type": "stream",
     "text": [
      "100%|████████████████████| 33/33 [00:02<00:00, 12.17it/s, loss=0.252, iou=0.754]\n",
      "100%|███████████████████████| 9/9 [00:00<00:00, 20.38it/s, loss=0.183, iou=0.81]\n"
     ]
    },
    {
     "name": "stdout",
     "output_type": "stream",
     "text": [
      "loss 0.2520 - iou 0.7537 - val_loss 0.1827 - val_iou 0.8102\n",
      "Epoch [37/100]\n"
     ]
    },
    {
     "name": "stderr",
     "output_type": "stream",
     "text": [
      "100%|████████████████████| 33/33 [00:02<00:00, 12.48it/s, loss=0.247, iou=0.741]\n",
      "100%|███████████████████████| 9/9 [00:00<00:00, 19.20it/s, loss=0.175, iou=0.82]\n"
     ]
    },
    {
     "name": "stdout",
     "output_type": "stream",
     "text": [
      "loss 0.2474 - iou 0.7406 - val_loss 0.1753 - val_iou 0.8195\n",
      "=> saved best model\n",
      "Epoch [38/100]\n"
     ]
    },
    {
     "name": "stderr",
     "output_type": "stream",
     "text": [
      "100%|█████████████████████| 33/33 [00:02<00:00, 12.09it/s, loss=0.26, iou=0.734]\n",
      "100%|██████████████████████| 9/9 [00:00<00:00, 19.15it/s, loss=0.178, iou=0.822]\n"
     ]
    },
    {
     "name": "stdout",
     "output_type": "stream",
     "text": [
      "loss 0.2596 - iou 0.7337 - val_loss 0.1779 - val_iou 0.8217\n",
      "=> saved best model\n",
      "Epoch [39/100]\n"
     ]
    },
    {
     "name": "stderr",
     "output_type": "stream",
     "text": [
      "100%|████████████████████| 33/33 [00:02<00:00, 12.29it/s, loss=0.262, iou=0.732]\n",
      "100%|███████████████████████| 9/9 [00:00<00:00, 19.78it/s, loss=0.175, iou=0.82]\n"
     ]
    },
    {
     "name": "stdout",
     "output_type": "stream",
     "text": [
      "loss 0.2618 - iou 0.7323 - val_loss 0.1754 - val_iou 0.8204\n",
      "Epoch [40/100]\n"
     ]
    },
    {
     "name": "stderr",
     "output_type": "stream",
     "text": [
      "100%|████████████████████| 33/33 [00:02<00:00, 12.13it/s, loss=0.259, iou=0.739]\n",
      "100%|███████████████████████| 9/9 [00:00<00:00, 19.04it/s, loss=0.21, iou=0.799]\n"
     ]
    },
    {
     "name": "stdout",
     "output_type": "stream",
     "text": [
      "loss 0.2590 - iou 0.7391 - val_loss 0.2095 - val_iou 0.7988\n",
      "Epoch [41/100]\n"
     ]
    },
    {
     "name": "stderr",
     "output_type": "stream",
     "text": [
      "100%|█████████████████████| 33/33 [00:02<00:00, 12.48it/s, loss=0.271, iou=0.73]\n",
      "100%|██████████████████████| 9/9 [00:00<00:00, 19.59it/s, loss=0.179, iou=0.816]\n"
     ]
    },
    {
     "name": "stdout",
     "output_type": "stream",
     "text": [
      "loss 0.2711 - iou 0.7296 - val_loss 0.1786 - val_iou 0.8158\n",
      "Epoch [42/100]\n"
     ]
    },
    {
     "name": "stderr",
     "output_type": "stream",
     "text": [
      "100%|████████████████████| 33/33 [00:02<00:00, 12.61it/s, loss=0.247, iou=0.747]\n",
      "100%|███████████████████████| 9/9 [00:00<00:00, 20.75it/s, loss=0.21, iou=0.792]\n"
     ]
    },
    {
     "name": "stdout",
     "output_type": "stream",
     "text": [
      "loss 0.2466 - iou 0.7466 - val_loss 0.2100 - val_iou 0.7917\n",
      "Epoch [43/100]\n"
     ]
    },
    {
     "name": "stderr",
     "output_type": "stream",
     "text": [
      "100%|████████████████████| 33/33 [00:02<00:00, 12.40it/s, loss=0.238, iou=0.762]\n",
      "100%|██████████████████████| 9/9 [00:00<00:00, 19.45it/s, loss=0.211, iou=0.783]\n"
     ]
    },
    {
     "name": "stdout",
     "output_type": "stream",
     "text": [
      "loss 0.2382 - iou 0.7618 - val_loss 0.2108 - val_iou 0.7831\n",
      "Epoch [44/100]\n"
     ]
    },
    {
     "name": "stderr",
     "output_type": "stream",
     "text": [
      "100%|████████████████████| 33/33 [00:02<00:00, 12.43it/s, loss=0.244, iou=0.748]\n",
      "100%|██████████████████████| 9/9 [00:00<00:00, 20.23it/s, loss=0.171, iou=0.822]\n"
     ]
    },
    {
     "name": "stdout",
     "output_type": "stream",
     "text": [
      "loss 0.2441 - iou 0.7478 - val_loss 0.1710 - val_iou 0.8224\n",
      "=> saved best model\n",
      "Epoch [45/100]\n"
     ]
    },
    {
     "name": "stderr",
     "output_type": "stream",
     "text": [
      "100%|█████████████████████| 33/33 [00:02<00:00, 12.37it/s, loss=0.26, iou=0.738]\n",
      "100%|██████████████████████| 9/9 [00:00<00:00, 19.26it/s, loss=0.187, iou=0.808]\n"
     ]
    },
    {
     "name": "stdout",
     "output_type": "stream",
     "text": [
      "loss 0.2601 - iou 0.7383 - val_loss 0.1874 - val_iou 0.8078\n",
      "Epoch [46/100]\n"
     ]
    },
    {
     "name": "stderr",
     "output_type": "stream",
     "text": [
      "100%|████████████████████| 33/33 [00:02<00:00, 12.45it/s, loss=0.245, iou=0.752]\n",
      "100%|██████████████████████| 9/9 [00:00<00:00, 19.72it/s, loss=0.213, iou=0.794]\n"
     ]
    },
    {
     "name": "stdout",
     "output_type": "stream",
     "text": [
      "loss 0.2447 - iou 0.7516 - val_loss 0.2125 - val_iou 0.7942\n",
      "Epoch [47/100]\n"
     ]
    },
    {
     "name": "stderr",
     "output_type": "stream",
     "text": [
      "100%|████████████████████| 33/33 [00:02<00:00, 12.52it/s, loss=0.245, iou=0.743]\n",
      "100%|██████████████████████| 9/9 [00:00<00:00, 19.02it/s, loss=0.291, iou=0.725]\n"
     ]
    },
    {
     "name": "stdout",
     "output_type": "stream",
     "text": [
      "loss 0.2454 - iou 0.7430 - val_loss 0.2911 - val_iou 0.7252\n",
      "Epoch [48/100]\n"
     ]
    },
    {
     "name": "stderr",
     "output_type": "stream",
     "text": [
      "100%|█████████████████████| 33/33 [00:02<00:00, 12.49it/s, loss=0.254, iou=0.74]\n",
      "100%|██████████████████████| 9/9 [00:00<00:00, 18.35it/s, loss=0.172, iou=0.821]\n"
     ]
    },
    {
     "name": "stdout",
     "output_type": "stream",
     "text": [
      "loss 0.2542 - iou 0.7405 - val_loss 0.1715 - val_iou 0.8209\n",
      "Epoch [49/100]\n"
     ]
    },
    {
     "name": "stderr",
     "output_type": "stream",
     "text": [
      "100%|████████████████████| 33/33 [00:02<00:00, 12.31it/s, loss=0.229, iou=0.771]\n",
      "100%|██████████████████████| 9/9 [00:00<00:00, 19.88it/s, loss=0.174, iou=0.821]\n"
     ]
    },
    {
     "name": "stdout",
     "output_type": "stream",
     "text": [
      "loss 0.2289 - iou 0.7709 - val_loss 0.1738 - val_iou 0.8209\n",
      "Epoch [50/100]\n"
     ]
    },
    {
     "name": "stderr",
     "output_type": "stream",
     "text": [
      "100%|████████████████████| 33/33 [00:02<00:00, 12.24it/s, loss=0.227, iou=0.768]\n",
      "100%|██████████████████████| 9/9 [00:00<00:00, 19.53it/s, loss=0.168, iou=0.826]\n"
     ]
    },
    {
     "name": "stdout",
     "output_type": "stream",
     "text": [
      "loss 0.2271 - iou 0.7682 - val_loss 0.1682 - val_iou 0.8256\n",
      "=> saved best model\n",
      "Epoch [51/100]\n"
     ]
    },
    {
     "name": "stderr",
     "output_type": "stream",
     "text": [
      "100%|████████████████████| 33/33 [00:02<00:00, 12.03it/s, loss=0.242, iou=0.758]\n",
      "100%|██████████████████████| 9/9 [00:00<00:00, 18.24it/s, loss=0.167, iou=0.824]\n"
     ]
    },
    {
     "name": "stdout",
     "output_type": "stream",
     "text": [
      "loss 0.2418 - iou 0.7578 - val_loss 0.1670 - val_iou 0.8240\n",
      "Epoch [52/100]\n"
     ]
    },
    {
     "name": "stderr",
     "output_type": "stream",
     "text": [
      "100%|█████████████████████| 33/33 [00:02<00:00, 12.42it/s, loss=0.231, iou=0.76]\n",
      "100%|███████████████████████| 9/9 [00:00<00:00, 18.26it/s, loss=0.194, iou=0.81]\n"
     ]
    },
    {
     "name": "stdout",
     "output_type": "stream",
     "text": [
      "loss 0.2314 - iou 0.7604 - val_loss 0.1940 - val_iou 0.8100\n",
      "Epoch [53/100]\n"
     ]
    },
    {
     "name": "stderr",
     "output_type": "stream",
     "text": [
      "100%|████████████████████| 33/33 [00:02<00:00, 12.66it/s, loss=0.233, iou=0.763]\n",
      "100%|██████████████████████| 9/9 [00:00<00:00, 20.87it/s, loss=0.186, iou=0.819]\n"
     ]
    },
    {
     "name": "stdout",
     "output_type": "stream",
     "text": [
      "loss 0.2331 - iou 0.7628 - val_loss 0.1857 - val_iou 0.8194\n",
      "Epoch [54/100]\n"
     ]
    },
    {
     "name": "stderr",
     "output_type": "stream",
     "text": [
      "100%|████████████████████| 33/33 [00:02<00:00, 12.35it/s, loss=0.229, iou=0.767]\n",
      "100%|██████████████████████| 9/9 [00:00<00:00, 19.46it/s, loss=0.167, iou=0.823]\n"
     ]
    },
    {
     "name": "stdout",
     "output_type": "stream",
     "text": [
      "loss 0.2290 - iou 0.7668 - val_loss 0.1670 - val_iou 0.8233\n",
      "Epoch [55/100]\n"
     ]
    },
    {
     "name": "stderr",
     "output_type": "stream",
     "text": [
      "100%|████████████████████| 33/33 [00:02<00:00, 12.99it/s, loss=0.222, iou=0.785]\n",
      "100%|██████████████████████| 9/9 [00:00<00:00, 19.41it/s, loss=0.167, iou=0.823]\n"
     ]
    },
    {
     "name": "stdout",
     "output_type": "stream",
     "text": [
      "loss 0.2224 - iou 0.7852 - val_loss 0.1670 - val_iou 0.8225\n",
      "Epoch [56/100]\n"
     ]
    },
    {
     "name": "stderr",
     "output_type": "stream",
     "text": [
      "100%|████████████████████| 33/33 [00:02<00:00, 12.73it/s, loss=0.228, iou=0.776]\n",
      "100%|███████████████████████| 9/9 [00:00<00:00, 20.90it/s, loss=0.17, iou=0.827]\n"
     ]
    },
    {
     "name": "stdout",
     "output_type": "stream",
     "text": [
      "loss 0.2276 - iou 0.7756 - val_loss 0.1700 - val_iou 0.8274\n",
      "=> saved best model\n",
      "Epoch [57/100]\n"
     ]
    },
    {
     "name": "stderr",
     "output_type": "stream",
     "text": [
      "100%|████████████████████| 33/33 [00:02<00:00, 12.99it/s, loss=0.203, iou=0.792]\n",
      "100%|██████████████████████| 9/9 [00:00<00:00, 20.27it/s, loss=0.205, iou=0.788]\n"
     ]
    },
    {
     "name": "stdout",
     "output_type": "stream",
     "text": [
      "loss 0.2030 - iou 0.7923 - val_loss 0.2050 - val_iou 0.7884\n",
      "Epoch [58/100]\n"
     ]
    },
    {
     "name": "stderr",
     "output_type": "stream",
     "text": [
      "100%|████████████████████| 33/33 [00:02<00:00, 13.27it/s, loss=0.231, iou=0.767]\n",
      "100%|███████████████████████| 9/9 [00:00<00:00, 20.46it/s, loss=0.17, iou=0.825]\n"
     ]
    },
    {
     "name": "stdout",
     "output_type": "stream",
     "text": [
      "loss 0.2315 - iou 0.7672 - val_loss 0.1697 - val_iou 0.8250\n",
      "Epoch [59/100]\n"
     ]
    },
    {
     "name": "stderr",
     "output_type": "stream",
     "text": [
      "100%|█████████████████████| 33/33 [00:02<00:00, 13.19it/s, loss=0.23, iou=0.749]\n",
      "100%|██████████████████████| 9/9 [00:00<00:00, 20.32it/s, loss=0.175, iou=0.823]\n"
     ]
    },
    {
     "name": "stdout",
     "output_type": "stream",
     "text": [
      "loss 0.2298 - iou 0.7494 - val_loss 0.1752 - val_iou 0.8232\n",
      "Epoch [60/100]\n"
     ]
    },
    {
     "name": "stderr",
     "output_type": "stream",
     "text": [
      "100%|████████████████████| 33/33 [00:02<00:00, 13.06it/s, loss=0.225, iou=0.768]\n",
      "100%|██████████████████████| 9/9 [00:00<00:00, 19.84it/s, loss=0.166, iou=0.825]\n"
     ]
    },
    {
     "name": "stdout",
     "output_type": "stream",
     "text": [
      "loss 0.2249 - iou 0.7676 - val_loss 0.1657 - val_iou 0.8255\n",
      "Epoch [61/100]\n"
     ]
    },
    {
     "name": "stderr",
     "output_type": "stream",
     "text": [
      "100%|████████████████████| 33/33 [00:02<00:00, 12.67it/s, loss=0.229, iou=0.766]\n",
      "100%|██████████████████████| 9/9 [00:00<00:00, 18.91it/s, loss=0.174, iou=0.822]\n"
     ]
    },
    {
     "name": "stdout",
     "output_type": "stream",
     "text": [
      "loss 0.2290 - iou 0.7659 - val_loss 0.1737 - val_iou 0.8224\n",
      "Epoch [62/100]\n"
     ]
    },
    {
     "name": "stderr",
     "output_type": "stream",
     "text": [
      "100%|█████████████████████| 33/33 [00:02<00:00, 11.93it/s, loss=0.226, iou=0.77]\n",
      "100%|███████████████████████| 9/9 [00:00<00:00, 18.61it/s, loss=0.16, iou=0.829]\n"
     ]
    },
    {
     "name": "stdout",
     "output_type": "stream",
     "text": [
      "loss 0.2263 - iou 0.7703 - val_loss 0.1601 - val_iou 0.8290\n",
      "=> saved best model\n",
      "Epoch [63/100]\n"
     ]
    },
    {
     "name": "stderr",
     "output_type": "stream",
     "text": [
      "100%|████████████████████| 33/33 [00:02<00:00, 12.42it/s, loss=0.217, iou=0.784]\n",
      "100%|██████████████████████| 9/9 [00:00<00:00, 19.83it/s, loss=0.173, iou=0.825]\n"
     ]
    },
    {
     "name": "stdout",
     "output_type": "stream",
     "text": [
      "loss 0.2174 - iou 0.7840 - val_loss 0.1731 - val_iou 0.8248\n",
      "Epoch [64/100]\n"
     ]
    },
    {
     "name": "stderr",
     "output_type": "stream",
     "text": [
      "100%|████████████████████| 33/33 [00:02<00:00, 12.16it/s, loss=0.221, iou=0.765]\n",
      "100%|██████████████████████| 9/9 [00:00<00:00, 18.39it/s, loss=0.164, iou=0.824]\n"
     ]
    },
    {
     "name": "stdout",
     "output_type": "stream",
     "text": [
      "loss 0.2209 - iou 0.7650 - val_loss 0.1636 - val_iou 0.8236\n",
      "Epoch [65/100]\n"
     ]
    },
    {
     "name": "stderr",
     "output_type": "stream",
     "text": [
      "100%|████████████████████| 33/33 [00:02<00:00, 12.07it/s, loss=0.233, iou=0.766]\n",
      "100%|███████████████████████| 9/9 [00:00<00:00, 19.74it/s, loss=0.16, iou=0.827]\n"
     ]
    },
    {
     "name": "stdout",
     "output_type": "stream",
     "text": [
      "loss 0.2335 - iou 0.7665 - val_loss 0.1595 - val_iou 0.8269\n",
      "Epoch [66/100]\n"
     ]
    },
    {
     "name": "stderr",
     "output_type": "stream",
     "text": [
      "100%|████████████████████| 33/33 [00:02<00:00, 11.91it/s, loss=0.211, iou=0.785]\n",
      "100%|██████████████████████| 9/9 [00:00<00:00, 18.23it/s, loss=0.162, iou=0.824]\n"
     ]
    },
    {
     "name": "stdout",
     "output_type": "stream",
     "text": [
      "loss 0.2112 - iou 0.7849 - val_loss 0.1622 - val_iou 0.8240\n",
      "Epoch [67/100]\n"
     ]
    },
    {
     "name": "stderr",
     "output_type": "stream",
     "text": [
      "100%|████████████████████| 33/33 [00:02<00:00, 11.91it/s, loss=0.229, iou=0.759]\n",
      "100%|██████████████████████| 9/9 [00:00<00:00, 18.17it/s, loss=0.168, iou=0.823]\n"
     ]
    },
    {
     "name": "stdout",
     "output_type": "stream",
     "text": [
      "loss 0.2286 - iou 0.7592 - val_loss 0.1680 - val_iou 0.8228\n",
      "Epoch [68/100]\n"
     ]
    },
    {
     "name": "stderr",
     "output_type": "stream",
     "text": [
      "100%|████████████████████| 33/33 [00:02<00:00, 11.96it/s, loss=0.224, iou=0.768]\n",
      "100%|██████████████████████| 9/9 [00:00<00:00, 19.70it/s, loss=0.186, iou=0.807]\n"
     ]
    },
    {
     "name": "stdout",
     "output_type": "stream",
     "text": [
      "loss 0.2241 - iou 0.7677 - val_loss 0.1862 - val_iou 0.8068\n",
      "Epoch [69/100]\n"
     ]
    },
    {
     "name": "stderr",
     "output_type": "stream",
     "text": [
      "100%|████████████████████| 33/33 [00:02<00:00, 12.26it/s, loss=0.213, iou=0.778]\n",
      "100%|██████████████████████| 9/9 [00:00<00:00, 18.05it/s, loss=0.164, iou=0.823]\n"
     ]
    },
    {
     "name": "stdout",
     "output_type": "stream",
     "text": [
      "loss 0.2132 - iou 0.7782 - val_loss 0.1638 - val_iou 0.8226\n",
      "Epoch [70/100]\n"
     ]
    },
    {
     "name": "stderr",
     "output_type": "stream",
     "text": [
      "100%|████████████████████| 33/33 [00:02<00:00, 11.98it/s, loss=0.208, iou=0.785]\n",
      "100%|██████████████████████| 9/9 [00:00<00:00, 18.97it/s, loss=0.162, iou=0.826]\n"
     ]
    },
    {
     "name": "stdout",
     "output_type": "stream",
     "text": [
      "loss 0.2081 - iou 0.7850 - val_loss 0.1621 - val_iou 0.8264\n",
      "Epoch [71/100]\n"
     ]
    },
    {
     "name": "stderr",
     "output_type": "stream",
     "text": [
      "100%|████████████████████| 33/33 [00:02<00:00, 12.14it/s, loss=0.225, iou=0.766]\n",
      "100%|██████████████████████| 9/9 [00:00<00:00, 19.16it/s, loss=0.178, iou=0.811]\n"
     ]
    },
    {
     "name": "stdout",
     "output_type": "stream",
     "text": [
      "loss 0.2246 - iou 0.7662 - val_loss 0.1781 - val_iou 0.8108\n",
      "Epoch [72/100]\n"
     ]
    },
    {
     "name": "stderr",
     "output_type": "stream",
     "text": [
      "100%|████████████████████| 33/33 [00:02<00:00, 11.73it/s, loss=0.227, iou=0.769]\n",
      "100%|██████████████████████| 9/9 [00:00<00:00, 17.82it/s, loss=0.163, iou=0.829]\n"
     ]
    },
    {
     "name": "stdout",
     "output_type": "stream",
     "text": [
      "loss 0.2266 - iou 0.7693 - val_loss 0.1630 - val_iou 0.8294\n",
      "=> saved best model\n",
      "Epoch [73/100]\n"
     ]
    },
    {
     "name": "stderr",
     "output_type": "stream",
     "text": [
      "100%|████████████████████| 33/33 [00:02<00:00, 12.01it/s, loss=0.219, iou=0.775]\n",
      "100%|██████████████████████| 9/9 [00:00<00:00, 19.79it/s, loss=0.167, iou=0.823]\n"
     ]
    },
    {
     "name": "stdout",
     "output_type": "stream",
     "text": [
      "loss 0.2191 - iou 0.7747 - val_loss 0.1670 - val_iou 0.8231\n",
      "Epoch [74/100]\n"
     ]
    },
    {
     "name": "stderr",
     "output_type": "stream",
     "text": [
      "100%|████████████████████| 33/33 [00:02<00:00, 12.02it/s, loss=0.235, iou=0.753]\n",
      "100%|██████████████████████| 9/9 [00:00<00:00, 18.64it/s, loss=0.174, iou=0.815]\n"
     ]
    },
    {
     "name": "stdout",
     "output_type": "stream",
     "text": [
      "loss 0.2345 - iou 0.7533 - val_loss 0.1739 - val_iou 0.8154\n",
      "Epoch [75/100]\n"
     ]
    },
    {
     "name": "stderr",
     "output_type": "stream",
     "text": [
      "100%|████████████████████| 33/33 [00:02<00:00, 12.14it/s, loss=0.218, iou=0.769]\n",
      "100%|██████████████████████| 9/9 [00:00<00:00, 18.49it/s, loss=0.161, iou=0.829]\n"
     ]
    },
    {
     "name": "stdout",
     "output_type": "stream",
     "text": [
      "loss 0.2182 - iou 0.7686 - val_loss 0.1607 - val_iou 0.8292\n",
      "Epoch [76/100]\n"
     ]
    },
    {
     "name": "stderr",
     "output_type": "stream",
     "text": [
      "100%|████████████████████| 33/33 [00:02<00:00, 12.14it/s, loss=0.212, iou=0.784]\n",
      "100%|██████████████████████| 9/9 [00:00<00:00, 19.19it/s, loss=0.158, iou=0.833]\n"
     ]
    },
    {
     "name": "stdout",
     "output_type": "stream",
     "text": [
      "loss 0.2117 - iou 0.7843 - val_loss 0.1576 - val_iou 0.8327\n",
      "=> saved best model\n",
      "Epoch [77/100]\n"
     ]
    },
    {
     "name": "stderr",
     "output_type": "stream",
     "text": [
      "100%|████████████████████| 33/33 [00:02<00:00, 12.01it/s, loss=0.234, iou=0.755]\n",
      "100%|███████████████████████| 9/9 [00:00<00:00, 18.79it/s, loss=0.183, iou=0.81]\n"
     ]
    },
    {
     "name": "stdout",
     "output_type": "stream",
     "text": [
      "loss 0.2343 - iou 0.7551 - val_loss 0.1827 - val_iou 0.8097\n",
      "Epoch [78/100]\n"
     ]
    },
    {
     "name": "stderr",
     "output_type": "stream",
     "text": [
      "100%|████████████████████| 33/33 [00:02<00:00, 12.03it/s, loss=0.226, iou=0.771]\n",
      "100%|██████████████████████| 9/9 [00:00<00:00, 20.06it/s, loss=0.163, iou=0.829]\n"
     ]
    },
    {
     "name": "stdout",
     "output_type": "stream",
     "text": [
      "loss 0.2265 - iou 0.7714 - val_loss 0.1634 - val_iou 0.8292\n",
      "Epoch [79/100]\n"
     ]
    },
    {
     "name": "stderr",
     "output_type": "stream",
     "text": [
      "100%|████████████████████| 33/33 [00:02<00:00, 11.97it/s, loss=0.225, iou=0.761]\n",
      "100%|██████████████████████| 9/9 [00:00<00:00, 19.13it/s, loss=0.162, iou=0.827]\n"
     ]
    },
    {
     "name": "stdout",
     "output_type": "stream",
     "text": [
      "loss 0.2250 - iou 0.7605 - val_loss 0.1622 - val_iou 0.8269\n",
      "Epoch [80/100]\n"
     ]
    },
    {
     "name": "stderr",
     "output_type": "stream",
     "text": [
      "100%|████████████████████| 33/33 [00:02<00:00, 12.10it/s, loss=0.214, iou=0.781]\n",
      "100%|██████████████████████| 9/9 [00:00<00:00, 19.35it/s, loss=0.229, iou=0.787]\n"
     ]
    },
    {
     "name": "stdout",
     "output_type": "stream",
     "text": [
      "loss 0.2144 - iou 0.7805 - val_loss 0.2294 - val_iou 0.7869\n",
      "Epoch [81/100]\n"
     ]
    },
    {
     "name": "stderr",
     "output_type": "stream",
     "text": [
      "100%|████████████████████| 33/33 [00:02<00:00, 12.07it/s, loss=0.213, iou=0.775]\n",
      "100%|██████████████████████| 9/9 [00:00<00:00, 19.77it/s, loss=0.157, iou=0.834]\n"
     ]
    },
    {
     "name": "stdout",
     "output_type": "stream",
     "text": [
      "loss 0.2130 - iou 0.7753 - val_loss 0.1571 - val_iou 0.8341\n",
      "=> saved best model\n",
      "Epoch [82/100]\n"
     ]
    },
    {
     "name": "stderr",
     "output_type": "stream",
     "text": [
      "100%|████████████████████| 33/33 [00:02<00:00, 12.38it/s, loss=0.211, iou=0.773]\n",
      "100%|██████████████████████| 9/9 [00:00<00:00, 19.76it/s, loss=0.184, iou=0.805]\n"
     ]
    },
    {
     "name": "stdout",
     "output_type": "stream",
     "text": [
      "loss 0.2113 - iou 0.7734 - val_loss 0.1836 - val_iou 0.8045\n",
      "Epoch [83/100]\n"
     ]
    },
    {
     "name": "stderr",
     "output_type": "stream",
     "text": [
      "100%|████████████████████| 33/33 [00:02<00:00, 12.01it/s, loss=0.228, iou=0.758]\n",
      "100%|██████████████████████| 9/9 [00:00<00:00, 18.29it/s, loss=0.155, iou=0.834]\n"
     ]
    },
    {
     "name": "stdout",
     "output_type": "stream",
     "text": [
      "loss 0.2278 - iou 0.7583 - val_loss 0.1549 - val_iou 0.8340\n",
      "Epoch [84/100]\n"
     ]
    },
    {
     "name": "stderr",
     "output_type": "stream",
     "text": [
      "100%|████████████████████| 33/33 [00:02<00:00, 12.16it/s, loss=0.203, iou=0.781]\n",
      "100%|██████████████████████| 9/9 [00:00<00:00, 18.28it/s, loss=0.191, iou=0.797]\n"
     ]
    },
    {
     "name": "stdout",
     "output_type": "stream",
     "text": [
      "loss 0.2035 - iou 0.7812 - val_loss 0.1907 - val_iou 0.7975\n",
      "Epoch [85/100]\n"
     ]
    },
    {
     "name": "stderr",
     "output_type": "stream",
     "text": [
      "100%|████████████████████| 33/33 [00:02<00:00, 11.87it/s, loss=0.212, iou=0.782]\n",
      "100%|██████████████████████| 9/9 [00:00<00:00, 19.03it/s, loss=0.156, iou=0.835]\n"
     ]
    },
    {
     "name": "stdout",
     "output_type": "stream",
     "text": [
      "loss 0.2120 - iou 0.7816 - val_loss 0.1563 - val_iou 0.8351\n",
      "=> saved best model\n",
      "Epoch [86/100]\n"
     ]
    },
    {
     "name": "stderr",
     "output_type": "stream",
     "text": [
      "100%|█████████████████████| 33/33 [00:02<00:00, 11.91it/s, loss=0.21, iou=0.782]\n",
      "100%|██████████████████████| 9/9 [00:00<00:00, 18.36it/s, loss=0.158, iou=0.833]\n"
     ]
    },
    {
     "name": "stdout",
     "output_type": "stream",
     "text": [
      "loss 0.2098 - iou 0.7819 - val_loss 0.1577 - val_iou 0.8334\n",
      "Epoch [87/100]\n"
     ]
    },
    {
     "name": "stderr",
     "output_type": "stream",
     "text": [
      "100%|██████████████████████| 33/33 [00:02<00:00, 11.84it/s, loss=0.2, iou=0.788]\n",
      "100%|██████████████████████| 9/9 [00:00<00:00, 18.54it/s, loss=0.162, iou=0.825]\n"
     ]
    },
    {
     "name": "stdout",
     "output_type": "stream",
     "text": [
      "loss 0.2004 - iou 0.7883 - val_loss 0.1625 - val_iou 0.8248\n",
      "Epoch [88/100]\n"
     ]
    },
    {
     "name": "stderr",
     "output_type": "stream",
     "text": [
      "100%|████████████████████| 33/33 [00:02<00:00, 11.77it/s, loss=0.209, iou=0.784]\n",
      "100%|███████████████████████| 9/9 [00:00<00:00, 19.06it/s, loss=0.158, iou=0.83]\n"
     ]
    },
    {
     "name": "stdout",
     "output_type": "stream",
     "text": [
      "loss 0.2092 - iou 0.7837 - val_loss 0.1582 - val_iou 0.8302\n",
      "Epoch [89/100]\n"
     ]
    },
    {
     "name": "stderr",
     "output_type": "stream",
     "text": [
      "100%|████████████████████| 33/33 [00:02<00:00, 12.00it/s, loss=0.218, iou=0.779]\n",
      "100%|██████████████████████| 9/9 [00:00<00:00, 18.74it/s, loss=0.151, iou=0.837]\n"
     ]
    },
    {
     "name": "stdout",
     "output_type": "stream",
     "text": [
      "loss 0.2178 - iou 0.7788 - val_loss 0.1514 - val_iou 0.8372\n",
      "=> saved best model\n",
      "Epoch [90/100]\n"
     ]
    },
    {
     "name": "stderr",
     "output_type": "stream",
     "text": [
      "100%|████████████████████| 33/33 [00:02<00:00, 12.07it/s, loss=0.218, iou=0.766]\n",
      "100%|██████████████████████| 9/9 [00:00<00:00, 18.14it/s, loss=0.159, iou=0.833]\n"
     ]
    },
    {
     "name": "stdout",
     "output_type": "stream",
     "text": [
      "loss 0.2176 - iou 0.7664 - val_loss 0.1587 - val_iou 0.8327\n",
      "Epoch [91/100]\n"
     ]
    },
    {
     "name": "stderr",
     "output_type": "stream",
     "text": [
      "100%|████████████████████| 33/33 [00:02<00:00, 12.00it/s, loss=0.203, iou=0.791]\n",
      "100%|███████████████████████| 9/9 [00:00<00:00, 19.78it/s, loss=0.16, iou=0.827]\n"
     ]
    },
    {
     "name": "stdout",
     "output_type": "stream",
     "text": [
      "loss 0.2035 - iou 0.7911 - val_loss 0.1603 - val_iou 0.8266\n",
      "Epoch [92/100]\n"
     ]
    },
    {
     "name": "stderr",
     "output_type": "stream",
     "text": [
      "100%|████████████████████| 33/33 [00:02<00:00, 11.78it/s, loss=0.204, iou=0.789]\n",
      "100%|██████████████████████| 9/9 [00:00<00:00, 20.18it/s, loss=0.155, iou=0.832]\n"
     ]
    },
    {
     "name": "stdout",
     "output_type": "stream",
     "text": [
      "loss 0.2037 - iou 0.7888 - val_loss 0.1551 - val_iou 0.8318\n",
      "Epoch [93/100]\n"
     ]
    },
    {
     "name": "stderr",
     "output_type": "stream",
     "text": [
      "100%|████████████████████| 33/33 [00:02<00:00, 11.90it/s, loss=0.202, iou=0.789]\n",
      "100%|██████████████████████| 9/9 [00:00<00:00, 19.87it/s, loss=0.155, iou=0.832]\n"
     ]
    },
    {
     "name": "stdout",
     "output_type": "stream",
     "text": [
      "loss 0.2016 - iou 0.7886 - val_loss 0.1547 - val_iou 0.8316\n",
      "Epoch [94/100]\n"
     ]
    },
    {
     "name": "stderr",
     "output_type": "stream",
     "text": [
      "100%|█████████████████████| 33/33 [00:02<00:00, 11.97it/s, loss=0.21, iou=0.782]\n",
      "100%|██████████████████████| 9/9 [00:00<00:00, 18.86it/s, loss=0.154, iou=0.832]\n"
     ]
    },
    {
     "name": "stdout",
     "output_type": "stream",
     "text": [
      "loss 0.2096 - iou 0.7823 - val_loss 0.1543 - val_iou 0.8323\n",
      "Epoch [95/100]\n"
     ]
    },
    {
     "name": "stderr",
     "output_type": "stream",
     "text": [
      "100%|████████████████████| 33/33 [00:02<00:00, 11.94it/s, loss=0.216, iou=0.777]\n",
      "100%|██████████████████████| 9/9 [00:00<00:00, 18.29it/s, loss=0.165, iou=0.823]\n"
     ]
    },
    {
     "name": "stdout",
     "output_type": "stream",
     "text": [
      "loss 0.2163 - iou 0.7769 - val_loss 0.1646 - val_iou 0.8230\n",
      "Epoch [96/100]\n"
     ]
    },
    {
     "name": "stderr",
     "output_type": "stream",
     "text": [
      "100%|████████████████████| 33/33 [00:02<00:00, 11.91it/s, loss=0.203, iou=0.788]\n",
      "100%|██████████████████████| 9/9 [00:00<00:00, 19.17it/s, loss=0.163, iou=0.824]\n"
     ]
    },
    {
     "name": "stdout",
     "output_type": "stream",
     "text": [
      "loss 0.2028 - iou 0.7882 - val_loss 0.1635 - val_iou 0.8242\n",
      "Epoch [97/100]\n"
     ]
    },
    {
     "name": "stderr",
     "output_type": "stream",
     "text": [
      "100%|████████████████████| 33/33 [00:02<00:00, 11.84it/s, loss=0.201, iou=0.779]\n",
      "100%|██████████████████████| 9/9 [00:00<00:00, 18.83it/s, loss=0.169, iou=0.824]\n"
     ]
    },
    {
     "name": "stdout",
     "output_type": "stream",
     "text": [
      "loss 0.2009 - iou 0.7785 - val_loss 0.1685 - val_iou 0.8242\n",
      "Epoch [98/100]\n"
     ]
    },
    {
     "name": "stderr",
     "output_type": "stream",
     "text": [
      "100%|████████████████████| 33/33 [00:02<00:00, 11.83it/s, loss=0.203, iou=0.784]\n",
      "100%|██████████████████████| 9/9 [00:00<00:00, 18.78it/s, loss=0.156, iou=0.831]\n"
     ]
    },
    {
     "name": "stdout",
     "output_type": "stream",
     "text": [
      "loss 0.2031 - iou 0.7838 - val_loss 0.1564 - val_iou 0.8311\n",
      "Epoch [99/100]\n"
     ]
    },
    {
     "name": "stderr",
     "output_type": "stream",
     "text": [
      "100%|████████████████████| 33/33 [00:02<00:00, 12.20it/s, loss=0.214, iou=0.774]\n",
      "100%|██████████████████████| 9/9 [00:00<00:00, 18.94it/s, loss=0.152, iou=0.836]"
     ]
    },
    {
     "name": "stdout",
     "output_type": "stream",
     "text": [
      "loss 0.2140 - iou 0.7737 - val_loss 0.1523 - val_iou 0.8365\n"
     ]
    },
    {
     "name": "stderr",
     "output_type": "stream",
     "text": [
      "\n"
     ]
    }
   ],
   "source": [
    "best_iou = 0\n",
    "trigger = 0\n",
    "for epoch in range(epochs):\n",
    "    print('Epoch [%d/%d]' % (epoch, epochs))\n",
    "\n",
    "    # train for one epoch\n",
    "    train_log = train(train_loader, model, criterion, optimizer)\n",
    "    # evaluate on validation set\n",
    "    val_log = validate(val_loader, model, criterion)\n",
    "\n",
    "    if scheduler == 'CosineAnnealingLR':\n",
    "        scheduler.step()\n",
    "    elif scheduler == 'ReduceLROnPlateau':\n",
    "        scheduler.step(val_log['loss'])\n",
    "\n",
    "    print('loss %.4f - iou %.4f - val_loss %.4f - val_iou %.4f'\n",
    "          % (train_log['loss'], train_log['iou'], val_log['loss'], val_log['iou']))\n",
    "\n",
    "    log['epoch'].append(epoch)\n",
    "    log['lr'].append(lr)\n",
    "    log['loss'].append(train_log['loss'])\n",
    "    log['iou'].append(train_log['iou'])\n",
    "    log['val_loss'].append(val_log['loss'])\n",
    "    log['val_iou'].append(val_log['iou'])\n",
    "\n",
    "    pd.DataFrame(log).to_csv('models/%s/log.csv' %\n",
    "                             name, index=False)\n",
    "\n",
    "    trigger += 1\n",
    "\n",
    "    if val_log['iou'] > best_iou:\n",
    "        torch.save(model.state_dict(), 'models/%s/model.pth' %\n",
    "                   name)\n",
    "        best_iou = val_log['iou']\n",
    "        print(\"=> saved best model\")\n",
    "        trigger = 0\n",
    "\n",
    "    # early stopping\n",
    "    if early_stopping >= 0 and trigger >= early_stopping:\n",
    "        print(\"=> early stopping\")\n",
    "        break\n",
    "\n",
    "    torch.cuda.empty_cache()"
   ]
  },
  {
   "cell_type": "markdown",
   "id": "4369cda8-8b11-4685-8166-b039ecd1e294",
   "metadata": {},
   "source": [
    "## val.py"
   ]
  },
  {
   "cell_type": "code",
   "execution_count": 32,
   "id": "a616be25-8fbb-48f3-9c9b-f383507d7a25",
   "metadata": {},
   "outputs": [
    {
     "data": {
      "text/plain": [
       "NestedUNet(\n",
       "  (pool): MaxPool2d(kernel_size=2, stride=2, padding=0, dilation=1, ceil_mode=False)\n",
       "  (up): Upsample(scale_factor=2.0, mode=bilinear)\n",
       "  (conv0_0): VGGBlock(\n",
       "    (relu): ReLU(inplace=True)\n",
       "    (conv1): Conv2d(3, 32, kernel_size=(3, 3), stride=(1, 1), padding=(1, 1))\n",
       "    (bn1): BatchNorm2d(32, eps=1e-05, momentum=0.1, affine=True, track_running_stats=True)\n",
       "    (conv2): Conv2d(32, 32, kernel_size=(3, 3), stride=(1, 1), padding=(1, 1))\n",
       "    (bn2): BatchNorm2d(32, eps=1e-05, momentum=0.1, affine=True, track_running_stats=True)\n",
       "  )\n",
       "  (conv1_0): VGGBlock(\n",
       "    (relu): ReLU(inplace=True)\n",
       "    (conv1): Conv2d(32, 64, kernel_size=(3, 3), stride=(1, 1), padding=(1, 1))\n",
       "    (bn1): BatchNorm2d(64, eps=1e-05, momentum=0.1, affine=True, track_running_stats=True)\n",
       "    (conv2): Conv2d(64, 64, kernel_size=(3, 3), stride=(1, 1), padding=(1, 1))\n",
       "    (bn2): BatchNorm2d(64, eps=1e-05, momentum=0.1, affine=True, track_running_stats=True)\n",
       "  )\n",
       "  (conv2_0): VGGBlock(\n",
       "    (relu): ReLU(inplace=True)\n",
       "    (conv1): Conv2d(64, 128, kernel_size=(3, 3), stride=(1, 1), padding=(1, 1))\n",
       "    (bn1): BatchNorm2d(128, eps=1e-05, momentum=0.1, affine=True, track_running_stats=True)\n",
       "    (conv2): Conv2d(128, 128, kernel_size=(3, 3), stride=(1, 1), padding=(1, 1))\n",
       "    (bn2): BatchNorm2d(128, eps=1e-05, momentum=0.1, affine=True, track_running_stats=True)\n",
       "  )\n",
       "  (conv3_0): VGGBlock(\n",
       "    (relu): ReLU(inplace=True)\n",
       "    (conv1): Conv2d(128, 256, kernel_size=(3, 3), stride=(1, 1), padding=(1, 1))\n",
       "    (bn1): BatchNorm2d(256, eps=1e-05, momentum=0.1, affine=True, track_running_stats=True)\n",
       "    (conv2): Conv2d(256, 256, kernel_size=(3, 3), stride=(1, 1), padding=(1, 1))\n",
       "    (bn2): BatchNorm2d(256, eps=1e-05, momentum=0.1, affine=True, track_running_stats=True)\n",
       "  )\n",
       "  (conv4_0): VGGBlock(\n",
       "    (relu): ReLU(inplace=True)\n",
       "    (conv1): Conv2d(256, 512, kernel_size=(3, 3), stride=(1, 1), padding=(1, 1))\n",
       "    (bn1): BatchNorm2d(512, eps=1e-05, momentum=0.1, affine=True, track_running_stats=True)\n",
       "    (conv2): Conv2d(512, 512, kernel_size=(3, 3), stride=(1, 1), padding=(1, 1))\n",
       "    (bn2): BatchNorm2d(512, eps=1e-05, momentum=0.1, affine=True, track_running_stats=True)\n",
       "  )\n",
       "  (conv0_1): VGGBlock(\n",
       "    (relu): ReLU(inplace=True)\n",
       "    (conv1): Conv2d(96, 32, kernel_size=(3, 3), stride=(1, 1), padding=(1, 1))\n",
       "    (bn1): BatchNorm2d(32, eps=1e-05, momentum=0.1, affine=True, track_running_stats=True)\n",
       "    (conv2): Conv2d(32, 32, kernel_size=(3, 3), stride=(1, 1), padding=(1, 1))\n",
       "    (bn2): BatchNorm2d(32, eps=1e-05, momentum=0.1, affine=True, track_running_stats=True)\n",
       "  )\n",
       "  (conv1_1): VGGBlock(\n",
       "    (relu): ReLU(inplace=True)\n",
       "    (conv1): Conv2d(192, 64, kernel_size=(3, 3), stride=(1, 1), padding=(1, 1))\n",
       "    (bn1): BatchNorm2d(64, eps=1e-05, momentum=0.1, affine=True, track_running_stats=True)\n",
       "    (conv2): Conv2d(64, 64, kernel_size=(3, 3), stride=(1, 1), padding=(1, 1))\n",
       "    (bn2): BatchNorm2d(64, eps=1e-05, momentum=0.1, affine=True, track_running_stats=True)\n",
       "  )\n",
       "  (conv2_1): VGGBlock(\n",
       "    (relu): ReLU(inplace=True)\n",
       "    (conv1): Conv2d(384, 128, kernel_size=(3, 3), stride=(1, 1), padding=(1, 1))\n",
       "    (bn1): BatchNorm2d(128, eps=1e-05, momentum=0.1, affine=True, track_running_stats=True)\n",
       "    (conv2): Conv2d(128, 128, kernel_size=(3, 3), stride=(1, 1), padding=(1, 1))\n",
       "    (bn2): BatchNorm2d(128, eps=1e-05, momentum=0.1, affine=True, track_running_stats=True)\n",
       "  )\n",
       "  (conv3_1): VGGBlock(\n",
       "    (relu): ReLU(inplace=True)\n",
       "    (conv1): Conv2d(768, 256, kernel_size=(3, 3), stride=(1, 1), padding=(1, 1))\n",
       "    (bn1): BatchNorm2d(256, eps=1e-05, momentum=0.1, affine=True, track_running_stats=True)\n",
       "    (conv2): Conv2d(256, 256, kernel_size=(3, 3), stride=(1, 1), padding=(1, 1))\n",
       "    (bn2): BatchNorm2d(256, eps=1e-05, momentum=0.1, affine=True, track_running_stats=True)\n",
       "  )\n",
       "  (conv0_2): VGGBlock(\n",
       "    (relu): ReLU(inplace=True)\n",
       "    (conv1): Conv2d(128, 32, kernel_size=(3, 3), stride=(1, 1), padding=(1, 1))\n",
       "    (bn1): BatchNorm2d(32, eps=1e-05, momentum=0.1, affine=True, track_running_stats=True)\n",
       "    (conv2): Conv2d(32, 32, kernel_size=(3, 3), stride=(1, 1), padding=(1, 1))\n",
       "    (bn2): BatchNorm2d(32, eps=1e-05, momentum=0.1, affine=True, track_running_stats=True)\n",
       "  )\n",
       "  (conv1_2): VGGBlock(\n",
       "    (relu): ReLU(inplace=True)\n",
       "    (conv1): Conv2d(256, 64, kernel_size=(3, 3), stride=(1, 1), padding=(1, 1))\n",
       "    (bn1): BatchNorm2d(64, eps=1e-05, momentum=0.1, affine=True, track_running_stats=True)\n",
       "    (conv2): Conv2d(64, 64, kernel_size=(3, 3), stride=(1, 1), padding=(1, 1))\n",
       "    (bn2): BatchNorm2d(64, eps=1e-05, momentum=0.1, affine=True, track_running_stats=True)\n",
       "  )\n",
       "  (conv2_2): VGGBlock(\n",
       "    (relu): ReLU(inplace=True)\n",
       "    (conv1): Conv2d(512, 128, kernel_size=(3, 3), stride=(1, 1), padding=(1, 1))\n",
       "    (bn1): BatchNorm2d(128, eps=1e-05, momentum=0.1, affine=True, track_running_stats=True)\n",
       "    (conv2): Conv2d(128, 128, kernel_size=(3, 3), stride=(1, 1), padding=(1, 1))\n",
       "    (bn2): BatchNorm2d(128, eps=1e-05, momentum=0.1, affine=True, track_running_stats=True)\n",
       "  )\n",
       "  (conv0_3): VGGBlock(\n",
       "    (relu): ReLU(inplace=True)\n",
       "    (conv1): Conv2d(160, 32, kernel_size=(3, 3), stride=(1, 1), padding=(1, 1))\n",
       "    (bn1): BatchNorm2d(32, eps=1e-05, momentum=0.1, affine=True, track_running_stats=True)\n",
       "    (conv2): Conv2d(32, 32, kernel_size=(3, 3), stride=(1, 1), padding=(1, 1))\n",
       "    (bn2): BatchNorm2d(32, eps=1e-05, momentum=0.1, affine=True, track_running_stats=True)\n",
       "  )\n",
       "  (conv1_3): VGGBlock(\n",
       "    (relu): ReLU(inplace=True)\n",
       "    (conv1): Conv2d(320, 64, kernel_size=(3, 3), stride=(1, 1), padding=(1, 1))\n",
       "    (bn1): BatchNorm2d(64, eps=1e-05, momentum=0.1, affine=True, track_running_stats=True)\n",
       "    (conv2): Conv2d(64, 64, kernel_size=(3, 3), stride=(1, 1), padding=(1, 1))\n",
       "    (bn2): BatchNorm2d(64, eps=1e-05, momentum=0.1, affine=True, track_running_stats=True)\n",
       "  )\n",
       "  (conv0_4): VGGBlock(\n",
       "    (relu): ReLU(inplace=True)\n",
       "    (conv1): Conv2d(192, 32, kernel_size=(3, 3), stride=(1, 1), padding=(1, 1))\n",
       "    (bn1): BatchNorm2d(32, eps=1e-05, momentum=0.1, affine=True, track_running_stats=True)\n",
       "    (conv2): Conv2d(32, 32, kernel_size=(3, 3), stride=(1, 1), padding=(1, 1))\n",
       "    (bn2): BatchNorm2d(32, eps=1e-05, momentum=0.1, affine=True, track_running_stats=True)\n",
       "  )\n",
       "  (final): Conv2d(32, 1, kernel_size=(1, 1), stride=(1, 1))\n",
       ")"
      ]
     },
     "execution_count": 32,
     "metadata": {},
     "output_type": "execute_result"
    }
   ],
   "source": [
    "model.load_state_dict(torch.load('models/%s/model.pth' % name))\n",
    "model.eval()"
   ]
  },
  {
   "cell_type": "code",
   "execution_count": 33,
   "id": "e9c4fd79-df1e-4344-9c44-feb6885c09ae",
   "metadata": {},
   "outputs": [],
   "source": [
    "val_transform = Compose([\n",
    "    albu.Resize(input_h, input_w),\n",
    "    transforms.Normalize(),\n",
    "])"
   ]
  },
  {
   "cell_type": "code",
   "execution_count": 34,
   "id": "df18059b-07be-4eca-97f0-19d484ab38bc",
   "metadata": {},
   "outputs": [],
   "source": [
    "val_dataset = Dataset(\n",
    "    img_ids=val_img_ids,\n",
    "    img_dir=os.path.join(data_path, dataset, 'images'),\n",
    "    mask_dir=os.path.join(data_path, dataset, 'masks'),\n",
    "    img_ext=img_ext,\n",
    "    mask_ext=mask_ext,\n",
    "    num_classes=num_classes,\n",
    "    transform=val_transform)\n",
    "val_loader = torch.utils.data.DataLoader(\n",
    "    val_dataset,\n",
    "    batch_size=batch_size,\n",
    "    shuffle=False,\n",
    "    num_workers=num_workers,\n",
    "    drop_last=False)"
   ]
  },
  {
   "cell_type": "code",
   "execution_count": 35,
   "id": "5687dcfa-5f9a-4398-bda2-100345e6f043",
   "metadata": {},
   "outputs": [
    {
     "name": "stderr",
     "output_type": "stream",
     "text": [
      "100%|█████████████████████████████████████████████| 9/9 [00:00<00:00, 16.21it/s]"
     ]
    },
    {
     "name": "stdout",
     "output_type": "stream",
     "text": [
      "IoU: 0.8372\n"
     ]
    },
    {
     "name": "stderr",
     "output_type": "stream",
     "text": [
      "\n"
     ]
    }
   ],
   "source": [
    "avg_meter = AverageMeter()\n",
    "\n",
    "for c in range(num_classes):\n",
    "    os.makedirs(os.path.join('outputs', name, str(c)), exist_ok=True)\n",
    "with torch.no_grad():\n",
    "    for input, target, meta in tqdm(val_loader, total=len(val_loader)):\n",
    "        input = input.cuda()\n",
    "        target = target.cuda()\n",
    "\n",
    "        # compute output\n",
    "        if deep_supervision:\n",
    "            output = model(input)[-1]\n",
    "        else:\n",
    "            output = model(input)\n",
    "\n",
    "        iou = iou_score(output, target)\n",
    "        avg_meter.update(iou, input.size(0))\n",
    "\n",
    "        output = torch.sigmoid(output).cpu().numpy()\n",
    "\n",
    "        for i in range(len(output)):\n",
    "            for c in range(num_classes):\n",
    "                cv2.imwrite(os.path.join('outputs', name, str(c), meta['img_id'][i] + '.jpg'),\n",
    "                            (output[i, c] * 255).astype('uint8'))\n",
    "\n",
    "print('IoU: %.4f' % avg_meter.avg)\n",
    "\n",
    "torch.cuda.empty_cache()\n"
   ]
  },
  {
   "cell_type": "code",
   "execution_count": null,
   "id": "e6871f45-678a-4c33-b137-66e57d381b26",
   "metadata": {},
   "outputs": [],
   "source": []
  }
 ],
 "metadata": {
  "kernelspec": {
   "display_name": "Python 3 (ipykernel)",
   "language": "python",
   "name": "python3"
  },
  "language_info": {
   "codemirror_mode": {
    "name": "ipython",
    "version": 3
   },
   "file_extension": ".py",
   "mimetype": "text/x-python",
   "name": "python",
   "nbconvert_exporter": "python",
   "pygments_lexer": "ipython3",
   "version": "3.9.7"
  }
 },
 "nbformat": 4,
 "nbformat_minor": 5
}
