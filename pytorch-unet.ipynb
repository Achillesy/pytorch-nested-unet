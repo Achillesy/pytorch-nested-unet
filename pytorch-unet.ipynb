{
 "cells": [
  {
   "cell_type": "code",
   "execution_count": 1,
   "id": "6811a08a-f9ab-4f5f-9108-ee41cc3ed8cb",
   "metadata": {},
   "outputs": [],
   "source": [
    "## Colab\n",
    "# from google.colab import drive\n",
    "# drive.mount('/gdrive')\n",
    "# gData = '/gdrive/MyDrive/Data'\n",
    "\n",
    "## Kaggle\n",
    "# gData = '/kaggle/input'\n",
    "\n",
    "## Mac mini (M1 2020)\n",
    "# gData = '/Users/achilles/Workspace/Data'\n",
    "\n",
    "## HP-Z4-G4 Ubuntu\n",
    "gData = \"/mnt/Storage/Xuchu_Liu/Workspace/Data\""
   ]
  },
  {
   "cell_type": "code",
   "execution_count": 2,
   "id": "a3debaeb-dcb7-4e05-b1d7-eb1b82b32d9c",
   "metadata": {},
   "outputs": [],
   "source": [
    "import os\n",
    "from glob import glob\n",
    "\n",
    "import cv2\n",
    "import numpy as np\n",
    "from tqdm import tqdm"
   ]
  },
  {
   "cell_type": "code",
   "execution_count": 3,
   "id": "e92d98b0-18cc-4795-acb6-e87fa2b0acc4",
   "metadata": {},
   "outputs": [],
   "source": [
    "import argparse\n",
    "from collections import OrderedDict\n",
    "\n",
    "import pandas as pd\n",
    "import torch\n",
    "import torch.backends.cudnn as cudnn\n",
    "import torch.nn as nn\n",
    "import torch.optim as optim\n",
    "import torch.nn.functional as F\n",
    "import torch.utils.data\n",
    "import yaml\n",
    "\n",
    "from albumentations.augmentations import transforms\n",
    "from albumentations.core.composition import Compose, OneOf\n",
    "from sklearn.model_selection import train_test_split\n",
    "from torch.optim import lr_scheduler"
   ]
  },
  {
   "cell_type": "code",
   "execution_count": 4,
   "id": "7901d144-7f76-4102-96da-ba67b7f43d6f",
   "metadata": {},
   "outputs": [],
   "source": [
    "class VGGBlock(nn.Module):\n",
    "    def __init__(self, in_channels, middle_channels, out_channels):\n",
    "        super().__init__()\n",
    "        self.relu = nn.ReLU(inplace=True)\n",
    "        self.conv1 = nn.Conv2d(in_channels, middle_channels, 3, padding=1)\n",
    "        self.bn1 = nn.BatchNorm2d(middle_channels)\n",
    "        self.conv2 = nn.Conv2d(middle_channels, out_channels, 3, padding=1)\n",
    "        self.bn2 = nn.BatchNorm2d(out_channels)\n",
    "\n",
    "    def forward(self, x):\n",
    "        out = self.conv1(x)\n",
    "        out = self.bn1(out)\n",
    "        out = self.relu(out)\n",
    "\n",
    "        out = self.conv2(out)\n",
    "        out = self.bn2(out)\n",
    "        out = self.relu(out)\n",
    "\n",
    "        return out"
   ]
  },
  {
   "cell_type": "code",
   "execution_count": 5,
   "id": "811dca92-f40a-4cc8-a856-aabb3cda92c1",
   "metadata": {},
   "outputs": [],
   "source": [
    "class UNet(nn.Module):\n",
    "    def __init__(self, num_classes, input_channels=3, **kwargs):\n",
    "        super().__init__()\n",
    "\n",
    "        nb_filter = [32, 64, 128, 256, 512]\n",
    "\n",
    "        self.pool = nn.MaxPool2d(2, 2)\n",
    "        self.up = nn.Upsample(scale_factor=2, mode='bilinear', align_corners=True)\n",
    "\n",
    "        self.conv0_0 = VGGBlock(input_channels, nb_filter[0], nb_filter[0])\n",
    "        self.conv1_0 = VGGBlock(nb_filter[0], nb_filter[1], nb_filter[1])\n",
    "        self.conv2_0 = VGGBlock(nb_filter[1], nb_filter[2], nb_filter[2])\n",
    "        self.conv3_0 = VGGBlock(nb_filter[2], nb_filter[3], nb_filter[3])\n",
    "        self.conv4_0 = VGGBlock(nb_filter[3], nb_filter[4], nb_filter[4])\n",
    "\n",
    "        self.conv3_1 = VGGBlock(nb_filter[3]+nb_filter[4], nb_filter[3], nb_filter[3])\n",
    "        self.conv2_2 = VGGBlock(nb_filter[2]+nb_filter[3], nb_filter[2], nb_filter[2])\n",
    "        self.conv1_3 = VGGBlock(nb_filter[1]+nb_filter[2], nb_filter[1], nb_filter[1])\n",
    "        self.conv0_4 = VGGBlock(nb_filter[0]+nb_filter[1], nb_filter[0], nb_filter[0])\n",
    "\n",
    "        self.final = nn.Conv2d(nb_filter[0], num_classes, kernel_size=1)\n",
    "\n",
    "\n",
    "    def forward(self, input):\n",
    "        x0_0 = self.conv0_0(input)\n",
    "        x1_0 = self.conv1_0(self.pool(x0_0))\n",
    "        x2_0 = self.conv2_0(self.pool(x1_0))\n",
    "        x3_0 = self.conv3_0(self.pool(x2_0))\n",
    "        x4_0 = self.conv4_0(self.pool(x3_0))\n",
    "\n",
    "        x3_1 = self.conv3_1(torch.cat([x3_0, self.up(x4_0)], 1))\n",
    "        x2_2 = self.conv2_2(torch.cat([x2_0, self.up(x3_1)], 1))\n",
    "        x1_3 = self.conv1_3(torch.cat([x1_0, self.up(x2_2)], 1))\n",
    "        x0_4 = self.conv0_4(torch.cat([x0_0, self.up(x1_3)], 1))\n",
    "\n",
    "        output = self.final(x0_4)\n",
    "        return output"
   ]
  },
  {
   "cell_type": "code",
   "execution_count": 6,
   "id": "d8d2c028-ad41-4bbe-94f5-9cc6f45de60a",
   "metadata": {},
   "outputs": [
    {
     "data": {
      "text/plain": [
       "UNet(\n",
       "  (pool): MaxPool2d(kernel_size=2, stride=2, padding=0, dilation=1, ceil_mode=False)\n",
       "  (up): Upsample(scale_factor=2.0, mode=bilinear)\n",
       "  (conv0_0): VGGBlock(\n",
       "    (relu): ReLU(inplace=True)\n",
       "    (conv1): Conv2d(1, 32, kernel_size=(3, 3), stride=(1, 1), padding=(1, 1))\n",
       "    (bn1): BatchNorm2d(32, eps=1e-05, momentum=0.1, affine=True, track_running_stats=True)\n",
       "    (conv2): Conv2d(32, 32, kernel_size=(3, 3), stride=(1, 1), padding=(1, 1))\n",
       "    (bn2): BatchNorm2d(32, eps=1e-05, momentum=0.1, affine=True, track_running_stats=True)\n",
       "  )\n",
       "  (conv1_0): VGGBlock(\n",
       "    (relu): ReLU(inplace=True)\n",
       "    (conv1): Conv2d(32, 64, kernel_size=(3, 3), stride=(1, 1), padding=(1, 1))\n",
       "    (bn1): BatchNorm2d(64, eps=1e-05, momentum=0.1, affine=True, track_running_stats=True)\n",
       "    (conv2): Conv2d(64, 64, kernel_size=(3, 3), stride=(1, 1), padding=(1, 1))\n",
       "    (bn2): BatchNorm2d(64, eps=1e-05, momentum=0.1, affine=True, track_running_stats=True)\n",
       "  )\n",
       "  (conv2_0): VGGBlock(\n",
       "    (relu): ReLU(inplace=True)\n",
       "    (conv1): Conv2d(64, 128, kernel_size=(3, 3), stride=(1, 1), padding=(1, 1))\n",
       "    (bn1): BatchNorm2d(128, eps=1e-05, momentum=0.1, affine=True, track_running_stats=True)\n",
       "    (conv2): Conv2d(128, 128, kernel_size=(3, 3), stride=(1, 1), padding=(1, 1))\n",
       "    (bn2): BatchNorm2d(128, eps=1e-05, momentum=0.1, affine=True, track_running_stats=True)\n",
       "  )\n",
       "  (conv3_0): VGGBlock(\n",
       "    (relu): ReLU(inplace=True)\n",
       "    (conv1): Conv2d(128, 256, kernel_size=(3, 3), stride=(1, 1), padding=(1, 1))\n",
       "    (bn1): BatchNorm2d(256, eps=1e-05, momentum=0.1, affine=True, track_running_stats=True)\n",
       "    (conv2): Conv2d(256, 256, kernel_size=(3, 3), stride=(1, 1), padding=(1, 1))\n",
       "    (bn2): BatchNorm2d(256, eps=1e-05, momentum=0.1, affine=True, track_running_stats=True)\n",
       "  )\n",
       "  (conv4_0): VGGBlock(\n",
       "    (relu): ReLU(inplace=True)\n",
       "    (conv1): Conv2d(256, 512, kernel_size=(3, 3), stride=(1, 1), padding=(1, 1))\n",
       "    (bn1): BatchNorm2d(512, eps=1e-05, momentum=0.1, affine=True, track_running_stats=True)\n",
       "    (conv2): Conv2d(512, 512, kernel_size=(3, 3), stride=(1, 1), padding=(1, 1))\n",
       "    (bn2): BatchNorm2d(512, eps=1e-05, momentum=0.1, affine=True, track_running_stats=True)\n",
       "  )\n",
       "  (conv3_1): VGGBlock(\n",
       "    (relu): ReLU(inplace=True)\n",
       "    (conv1): Conv2d(768, 256, kernel_size=(3, 3), stride=(1, 1), padding=(1, 1))\n",
       "    (bn1): BatchNorm2d(256, eps=1e-05, momentum=0.1, affine=True, track_running_stats=True)\n",
       "    (conv2): Conv2d(256, 256, kernel_size=(3, 3), stride=(1, 1), padding=(1, 1))\n",
       "    (bn2): BatchNorm2d(256, eps=1e-05, momentum=0.1, affine=True, track_running_stats=True)\n",
       "  )\n",
       "  (conv2_2): VGGBlock(\n",
       "    (relu): ReLU(inplace=True)\n",
       "    (conv1): Conv2d(384, 128, kernel_size=(3, 3), stride=(1, 1), padding=(1, 1))\n",
       "    (bn1): BatchNorm2d(128, eps=1e-05, momentum=0.1, affine=True, track_running_stats=True)\n",
       "    (conv2): Conv2d(128, 128, kernel_size=(3, 3), stride=(1, 1), padding=(1, 1))\n",
       "    (bn2): BatchNorm2d(128, eps=1e-05, momentum=0.1, affine=True, track_running_stats=True)\n",
       "  )\n",
       "  (conv1_3): VGGBlock(\n",
       "    (relu): ReLU(inplace=True)\n",
       "    (conv1): Conv2d(192, 64, kernel_size=(3, 3), stride=(1, 1), padding=(1, 1))\n",
       "    (bn1): BatchNorm2d(64, eps=1e-05, momentum=0.1, affine=True, track_running_stats=True)\n",
       "    (conv2): Conv2d(64, 64, kernel_size=(3, 3), stride=(1, 1), padding=(1, 1))\n",
       "    (bn2): BatchNorm2d(64, eps=1e-05, momentum=0.1, affine=True, track_running_stats=True)\n",
       "  )\n",
       "  (conv0_4): VGGBlock(\n",
       "    (relu): ReLU(inplace=True)\n",
       "    (conv1): Conv2d(96, 32, kernel_size=(3, 3), stride=(1, 1), padding=(1, 1))\n",
       "    (bn1): BatchNorm2d(32, eps=1e-05, momentum=0.1, affine=True, track_running_stats=True)\n",
       "    (conv2): Conv2d(32, 32, kernel_size=(3, 3), stride=(1, 1), padding=(1, 1))\n",
       "    (bn2): BatchNorm2d(32, eps=1e-05, momentum=0.1, affine=True, track_running_stats=True)\n",
       "  )\n",
       "  (final): Conv2d(32, 2, kernel_size=(1, 1), stride=(1, 1))\n",
       ")"
      ]
     },
     "execution_count": 6,
     "metadata": {},
     "output_type": "execute_result"
    }
   ],
   "source": [
    "unet = UNet(2,1)\n",
    "unet.eval()"
   ]
  },
  {
   "cell_type": "code",
   "execution_count": 6,
   "id": "c5214eac-fc1f-4b75-a44b-712feb356aa2",
   "metadata": {},
   "outputs": [],
   "source": [
    "class BCEDiceLoss(nn.Module):\n",
    "    def __init__(self):\n",
    "        super().__init__()\n",
    "\n",
    "    def forward(self, input, target):\n",
    "        bce = F.binary_cross_entropy_with_logits(input, target)\n",
    "        smooth = 1e-5\n",
    "        input = torch.sigmoid(input)\n",
    "        num = target.size(0)\n",
    "        input = input.view(num, -1)\n",
    "        target = target.view(num, -1)\n",
    "        intersection = (input * target)\n",
    "        dice = (2. * intersection.sum(1) + smooth) / (input.sum(1) + target.sum(1) + smooth)\n",
    "        dice = 1 - dice.sum() / num\n",
    "        return 0.5 * bce + dice"
   ]
  },
  {
   "cell_type": "code",
   "execution_count": 13,
   "id": "48c25584-f2c6-4f04-8ba6-a2e26c67cd69",
   "metadata": {},
   "outputs": [],
   "source": [
    "class Dataset(torch.utils.data.Dataset):\n",
    "    def __init__(self, img_ids, img_dir, mask_dir, img_ext, mask_ext, num_classes, transform=None):\n",
    "        self.img_ids = img_ids\n",
    "        self.img_dir = img_dir\n",
    "        self.mask_dir = mask_dir\n",
    "        self.img_ext = img_ext\n",
    "        self.mask_ext = mask_ext\n",
    "        self.num_classes = num_classes\n",
    "        self.transform = transform\n",
    "\n",
    "    def __len__(self):\n",
    "        return len(self.img_ids)\n",
    "\n",
    "    def __getitem__(self, idx):\n",
    "        img_id = self.img_ids[idx]\n",
    "        \n",
    "        img = cv2.imread(os.path.join(self.img_dir, img_id + self.img_ext))\n",
    "\n",
    "        mask = []\n",
    "        for i in range(self.num_classes):\n",
    "            mask.append(cv2.imread(os.path.join(self.mask_dir, str(i),\n",
    "                        img_id + self.mask_ext), cv2.IMREAD_GRAYSCALE)[..., None])\n",
    "        mask = np.dstack(mask)\n",
    "\n",
    "        if self.transform is not None:\n",
    "            augmented = self.transform(image=img, mask=mask)\n",
    "            img = augmented['image']\n",
    "            mask = augmented['mask']\n",
    "        \n",
    "        img = img.astype('float32') / 255\n",
    "        img = img.transpose(2, 0, 1)\n",
    "        mask = mask.astype('float32') / 255\n",
    "        mask = mask.transpose(2, 0, 1)\n",
    "        \n",
    "        return img, mask, {'img_id': img_id}"
   ]
  },
  {
   "cell_type": "markdown",
   "id": "bde833ed-cffb-401e-aa94-aeaad09c08d1",
   "metadata": {},
   "source": [
    "## metrics.py"
   ]
  },
  {
   "cell_type": "code",
   "execution_count": 14,
   "id": "3ce8e4b1-9a65-47b2-ae30-1bdea8abe6c5",
   "metadata": {},
   "outputs": [],
   "source": [
    "def iou_score(output, target):\n",
    "    smooth = 1e-5\n",
    "\n",
    "    if torch.is_tensor(output):\n",
    "        output = torch.sigmoid(output).data.cpu().numpy()\n",
    "    if torch.is_tensor(target):\n",
    "        target = target.data.cpu().numpy()\n",
    "    output_ = output > 0.5\n",
    "    target_ = target > 0.5\n",
    "    intersection = (output_ & target_).sum()\n",
    "    union = (output_ | target_).sum()\n",
    "\n",
    "    return (intersection + smooth) / (union + smooth)"
   ]
  },
  {
   "cell_type": "code",
   "execution_count": 15,
   "id": "2063835f-fab6-4d29-9969-d555888f9f55",
   "metadata": {},
   "outputs": [],
   "source": [
    "def dice_coef(output, target):\n",
    "    smooth = 1e-5\n",
    "\n",
    "    output = torch.sigmoid(output).view(-1).data.cpu().numpy()\n",
    "    target = target.view(-1).data.cpu().numpy()\n",
    "    intersection = (output * target).sum()\n",
    "\n",
    "    return (2. * intersection + smooth) / \\\n",
    "        (output.sum() + target.sum() + smooth)"
   ]
  },
  {
   "cell_type": "markdown",
   "id": "cb098100-b4d7-43d5-9d85-943e04aeb9b8",
   "metadata": {},
   "source": [
    "## utils"
   ]
  },
  {
   "cell_type": "code",
   "execution_count": 16,
   "id": "2a6f36b5-5e8c-47d6-a8f8-83191996492b",
   "metadata": {},
   "outputs": [],
   "source": [
    "def str2bool(v):\n",
    "    if v.lower() in ['true', 1]:\n",
    "        return True\n",
    "    elif v.lower() in ['false', 0]:\n",
    "        return False\n",
    "    else:\n",
    "        raise argparse.ArgumentTypeError('Boolean value expected.')"
   ]
  },
  {
   "cell_type": "code",
   "execution_count": 17,
   "id": "bc16f96d-291b-44e1-a831-94b120a84213",
   "metadata": {},
   "outputs": [],
   "source": [
    "def count_params(model):\n",
    "    return sum(p.numel() for p in model.parameters() if p.requires_grad)"
   ]
  },
  {
   "cell_type": "code",
   "execution_count": 18,
   "id": "0b031ea6-3019-4f99-a3a5-fced639bf93d",
   "metadata": {},
   "outputs": [],
   "source": [
    "class AverageMeter(object):\n",
    "    \"\"\"Computes and stores the average and current value\"\"\"\n",
    "\n",
    "    def __init__(self):\n",
    "        self.reset()\n",
    "\n",
    "    def reset(self):\n",
    "        self.val = 0\n",
    "        self.avg = 0\n",
    "        self.sum = 0\n",
    "        self.count = 0\n",
    "\n",
    "    def update(self, val, n=1):\n",
    "        self.val = val\n",
    "        self.sum += val * n\n",
    "        self.count += n\n",
    "        self.avg = self.sum / self.count"
   ]
  },
  {
   "cell_type": "markdown",
   "id": "fc21b013-aed1-4a89-8d39-3053ad51f87f",
   "metadata": {},
   "source": [
    "## python train.py --dataset dsb2018_96 --arch NestedUNet"
   ]
  },
  {
   "cell_type": "markdown",
   "id": "ede1dca9-bebe-4468-bdc8-1787948ba295",
   "metadata": {},
   "source": [
    "### config = vars(parse_args())"
   ]
  },
  {
   "cell_type": "code",
   "execution_count": 19,
   "id": "979ba582-9a86-4e85-a553-e4a2358e41b5",
   "metadata": {},
   "outputs": [],
   "source": [
    "name = 'dsb2018_96_NestedUNet_woDS'\n",
    "epochs = 100\n",
    "batch_size = 16\n",
    "# arch = 'NestedUNet'\n",
    "arch = 'UNet'\n",
    "deep_supervision = False\n",
    "input_channels = 3\n",
    "num_classes = 1\n",
    "input_w = 96\n",
    "input_h =96\n",
    "loss = 'BCEDiceLoss'\n",
    "dataset = 'dsb2018_96'\n",
    "img_ext = '.png'\n",
    "mask_ext = '.png'\n",
    "optimizer = 'SGD'\n",
    "lr = 0.001\n",
    "momentum = 0.9\n",
    "weight_decay = 0.0001\n",
    "nesterov = False\n",
    "scheduler = 'CosineAnnealingLR'\n",
    "min_lr = 1e-05\n",
    "factor = 0.1\n",
    "patience = 2\n",
    "milestones = '1,2'\n",
    "gamma = 0.6666666666666666\n",
    "early_stopping = -1\n",
    "num_workers = 4"
   ]
  },
  {
   "cell_type": "markdown",
   "id": "27f3d41d-b656-43c6-b7a9-67c83628533b",
   "metadata": {},
   "source": [
    "### define loss function (criterion)"
   ]
  },
  {
   "cell_type": "code",
   "execution_count": 20,
   "id": "6818917a-01d8-4a18-b046-a208ed3ad311",
   "metadata": {},
   "outputs": [],
   "source": [
    "if loss == 'BCEWithLogitsLoss':\n",
    "    criterion = nn.BCEWithLogitsLoss().cuda()\n",
    "else:\n",
    "    criterion = BCEDiceLoss().cuda()\n",
    "\n",
    "cudnn.benchmark = True"
   ]
  },
  {
   "cell_type": "code",
   "execution_count": 21,
   "id": "79ccf0b6-badf-40c1-8b8f-380e654be692",
   "metadata": {},
   "outputs": [
    {
     "name": "stdout",
     "output_type": "stream",
     "text": [
      "=> creating model UNet\n"
     ]
    }
   ],
   "source": [
    "print(\"=> creating model %s\" % arch)\n",
    "model = NestedUNet(num_classes, input_channels, deep_supervision)\n",
    "\n",
    "model = model.cuda()"
   ]
  },
  {
   "cell_type": "code",
   "execution_count": 22,
   "id": "b0d8dc02-7841-4d02-8006-bff2d40b6cbd",
   "metadata": {},
   "outputs": [],
   "source": [
    "params = filter(lambda p: p.requires_grad, model.parameters())\n",
    "\n",
    "if optimizer == 'Adam':\n",
    "    optimizer = optim.Adam(\n",
    "        params, lr=lr, weight_decay=weight_decay)\n",
    "elif optimizer == 'SGD':\n",
    "    optimizer = optim.SGD(params, lr=lr, momentum=momentum,\n",
    "                          nesterov=nesterov, weight_decay=weight_decay)"
   ]
  },
  {
   "cell_type": "code",
   "execution_count": 23,
   "id": "8e9343ea-a280-4768-ba06-9173213efa5d",
   "metadata": {},
   "outputs": [],
   "source": [
    "if scheduler == 'CosineAnnealingLR':\n",
    "    scheduler = lr_scheduler.CosineAnnealingLR(\n",
    "        optimizer, T_max=epochs, eta_min=min_lr)\n",
    "elif scheduler == 'ReduceLROnPlateau':\n",
    "    scheduler = lr_scheduler.ReduceLROnPlateau(optimizer, factor=factor, patience=patience,\n",
    "                                               verbose=1, min_lr=min_lr)\n",
    "elif scheduler == 'MultiStepLR':\n",
    "    scheduler = lr_scheduler.MultiStepLR(optimizer, milestones=[int(e) for e in milestones.split(',')], gamma=gamma)\n",
    "elif scheduler == 'ConstantLR':\n",
    "    scheduler = None"
   ]
  },
  {
   "cell_type": "markdown",
   "id": "4342f3dd-38bf-4da1-a604-e41cac678ee6",
   "metadata": {},
   "source": [
    "### Data loading code"
   ]
  },
  {
   "cell_type": "code",
   "execution_count": 24,
   "id": "c456766f-23e0-4a95-a5e0-2f922b1e7ce2",
   "metadata": {},
   "outputs": [],
   "source": [
    "data_path = os.path.join(gData, 'data-science-bowl-2018')\n",
    "\n",
    "img_ids = glob(os.path.join(data_path, dataset, 'images', '*' + img_ext))\n",
    "img_ids = [os.path.splitext(os.path.basename(p))[0] for p in img_ids]\n",
    "\n",
    "train_img_ids, val_img_ids = train_test_split(img_ids, test_size=0.2, random_state=41)"
   ]
  },
  {
   "cell_type": "code",
   "execution_count": 25,
   "id": "d4e38b3a-ae1c-463c-8dc7-60050a75e5ea",
   "metadata": {},
   "outputs": [],
   "source": [
    "import albumentations as albu\n",
    "train_transform = Compose([\n",
    "    albu.RandomRotate90(),\n",
    "    transforms.Flip(),\n",
    "    OneOf([\n",
    "        transforms.HueSaturationValue(),\n",
    "        transforms.RandomBrightnessContrast(),\n",
    "        # transforms.RandomContrast(),\n",
    "    ], p=1),\n",
    "    albu.Resize(input_h, input_w),\n",
    "    transforms.Normalize(),\n",
    "])\n",
    "\n",
    "val_transform = Compose([\n",
    "    albu.Resize(input_h, input_w),\n",
    "    transforms.Normalize(),\n",
    "])"
   ]
  },
  {
   "cell_type": "code",
   "execution_count": 26,
   "id": "5fc5949b-723d-4b4c-9167-95df0d0f2b73",
   "metadata": {},
   "outputs": [],
   "source": [
    "train_dataset = Dataset(\n",
    "    img_ids=train_img_ids,\n",
    "    img_dir=os.path.join(data_path, dataset, 'images'),\n",
    "    mask_dir=os.path.join(data_path, dataset, 'masks'),\n",
    "    img_ext=img_ext,\n",
    "    mask_ext=mask_ext,\n",
    "    num_classes=num_classes,\n",
    "    transform=train_transform)\n",
    "val_dataset = Dataset(\n",
    "    img_ids=val_img_ids,\n",
    "    img_dir=os.path.join(data_path, dataset, 'images'),\n",
    "    mask_dir=os.path.join(data_path, dataset, 'masks'),\n",
    "    img_ext=img_ext,\n",
    "    mask_ext=mask_ext,\n",
    "    num_classes=num_classes,\n",
    "    transform=val_transform)"
   ]
  },
  {
   "cell_type": "code",
   "execution_count": 27,
   "id": "96bc5e18-45ff-4e79-bba0-158e7299b534",
   "metadata": {},
   "outputs": [],
   "source": [
    "train_loader = torch.utils.data.DataLoader(\n",
    "    train_dataset,\n",
    "    batch_size=batch_size,\n",
    "    shuffle=True,\n",
    "    num_workers=num_workers,\n",
    "    drop_last=True)\n",
    "val_loader = torch.utils.data.DataLoader(\n",
    "    val_dataset,\n",
    "    batch_size=batch_size,\n",
    "    shuffle=False,\n",
    "    num_workers=num_workers,\n",
    "    drop_last=False)"
   ]
  },
  {
   "cell_type": "code",
   "execution_count": 28,
   "id": "c6f4be9e-8d03-4bf7-a36f-60f889510176",
   "metadata": {},
   "outputs": [],
   "source": [
    "log = OrderedDict([\n",
    "    ('epoch', []),\n",
    "    ('lr', []),\n",
    "    ('loss', []),\n",
    "    ('iou', []),\n",
    "    ('val_loss', []),\n",
    "    ('val_iou', []),\n",
    "])"
   ]
  },
  {
   "cell_type": "code",
   "execution_count": 29,
   "id": "b4fd78b0-c49b-488d-8b9b-23353811a1ff",
   "metadata": {},
   "outputs": [],
   "source": [
    "def train(train_loader, model, criterion, optimizer):\n",
    "    avg_meters = {'loss': AverageMeter(),\n",
    "                  'iou': AverageMeter()}\n",
    "\n",
    "    model.train()\n",
    "\n",
    "    pbar = tqdm(total=len(train_loader))\n",
    "    for input, target, _ in train_loader:\n",
    "        input = input.cuda()\n",
    "        target = target.cuda()\n",
    "\n",
    "        # compute output\n",
    "        if deep_supervision:\n",
    "            outputs = model(input)\n",
    "            loss = 0\n",
    "            for output in outputs:\n",
    "                loss += criterion(output, target)\n",
    "            loss /= len(outputs)\n",
    "            iou = iou_score(outputs[-1], target)\n",
    "        else:\n",
    "            output = model(input)\n",
    "            loss = criterion(output, target)\n",
    "            iou = iou_score(output, target)\n",
    "\n",
    "        # compute gradient and do optimizing step\n",
    "        optimizer.zero_grad()\n",
    "        loss.backward()\n",
    "        optimizer.step()\n",
    "\n",
    "        avg_meters['loss'].update(loss.item(), input.size(0))\n",
    "        avg_meters['iou'].update(iou, input.size(0))\n",
    "\n",
    "        postfix = OrderedDict([\n",
    "            ('loss', avg_meters['loss'].avg),\n",
    "            ('iou', avg_meters['iou'].avg),\n",
    "        ])\n",
    "        pbar.set_postfix(postfix)\n",
    "        pbar.update(1)\n",
    "    pbar.close()\n",
    "\n",
    "    return OrderedDict([('loss', avg_meters['loss'].avg),\n",
    "                        ('iou', avg_meters['iou'].avg)])"
   ]
  },
  {
   "cell_type": "code",
   "execution_count": 30,
   "id": "cad50384-e5ad-4c1a-a2c4-d9e4dd68c898",
   "metadata": {},
   "outputs": [],
   "source": [
    "def validate(val_loader, model, criterion):\n",
    "    avg_meters = {'loss': AverageMeter(),\n",
    "                  'iou': AverageMeter()}\n",
    "\n",
    "    # switch to evaluate mode\n",
    "    model.eval()\n",
    "\n",
    "    with torch.no_grad():\n",
    "        pbar = tqdm(total=len(val_loader))\n",
    "        for input, target, _ in val_loader:\n",
    "            input = input.cuda()\n",
    "            target = target.cuda()\n",
    "\n",
    "            # compute output\n",
    "            if deep_supervision:\n",
    "                outputs = model(input)\n",
    "                loss = 0\n",
    "                for output in outputs:\n",
    "                    loss += criterion(output, target)\n",
    "                loss /= len(outputs)\n",
    "                iou = iou_score(outputs[-1], target)\n",
    "            else:\n",
    "                output = model(input)\n",
    "                loss = criterion(output, target)\n",
    "                iou = iou_score(output, target)\n",
    "\n",
    "            avg_meters['loss'].update(loss.item(), input.size(0))\n",
    "            avg_meters['iou'].update(iou, input.size(0))\n",
    "\n",
    "            postfix = OrderedDict([\n",
    "                ('loss', avg_meters['loss'].avg),\n",
    "                ('iou', avg_meters['iou'].avg),\n",
    "            ])\n",
    "            pbar.set_postfix(postfix)\n",
    "            pbar.update(1)\n",
    "        pbar.close()\n",
    "\n",
    "    return OrderedDict([('loss', avg_meters['loss'].avg),\n",
    "                        ('iou', avg_meters['iou'].avg)])"
   ]
  },
  {
   "cell_type": "code",
   "execution_count": 31,
   "id": "575ce318-8f18-4e74-8157-8b2a744aac33",
   "metadata": {},
   "outputs": [
    {
     "name": "stdout",
     "output_type": "stream",
     "text": [
      "Epoch [0/100]\n"
     ]
    },
    {
     "name": "stderr",
     "output_type": "stream",
     "text": [
      "100%|█████████████████████| 33/33 [00:05<00:00,  6.28it/s, loss=1.08, iou=0.256]\n",
      "100%|██████████████████████| 9/9 [00:00<00:00, 14.30it/s, loss=1.15, iou=0.0611]\n"
     ]
    },
    {
     "name": "stdout",
     "output_type": "stream",
     "text": [
      "loss 1.0769 - iou 0.2560 - val_loss 1.1539 - val_iou 0.0611\n",
      "=> saved best model\n",
      "Epoch [1/100]\n"
     ]
    },
    {
     "name": "stderr",
     "output_type": "stream",
     "text": [
      "100%|█████████████████████| 33/33 [00:02<00:00, 13.73it/s, loss=0.95, iou=0.401]\n",
      "100%|███████████████████████| 9/9 [00:00<00:00, 23.80it/s, loss=1.11, iou=0.204]\n"
     ]
    },
    {
     "name": "stdout",
     "output_type": "stream",
     "text": [
      "loss 0.9500 - iou 0.4008 - val_loss 1.1065 - val_iou 0.2040\n",
      "=> saved best model\n",
      "Epoch [2/100]\n"
     ]
    },
    {
     "name": "stderr",
     "output_type": "stream",
     "text": [
      "100%|████████████████████| 33/33 [00:02<00:00, 13.59it/s, loss=0.853, iou=0.493]\n",
      "100%|██████████████████████| 9/9 [00:00<00:00, 23.34it/s, loss=0.957, iou=0.357]\n"
     ]
    },
    {
     "name": "stdout",
     "output_type": "stream",
     "text": [
      "loss 0.8533 - iou 0.4933 - val_loss 0.9572 - val_iou 0.3569\n",
      "=> saved best model\n",
      "Epoch [3/100]\n"
     ]
    },
    {
     "name": "stderr",
     "output_type": "stream",
     "text": [
      "100%|████████████████████| 33/33 [00:02<00:00, 13.53it/s, loss=0.788, iou=0.526]\n",
      "100%|██████████████████████| 9/9 [00:00<00:00, 21.72it/s, loss=0.706, iou=0.593]\n"
     ]
    },
    {
     "name": "stdout",
     "output_type": "stream",
     "text": [
      "loss 0.7883 - iou 0.5260 - val_loss 0.7058 - val_iou 0.5928\n",
      "=> saved best model\n",
      "Epoch [4/100]\n"
     ]
    },
    {
     "name": "stderr",
     "output_type": "stream",
     "text": [
      "100%|████████████████████| 33/33 [00:02<00:00, 13.51it/s, loss=0.727, iou=0.563]\n",
      "100%|███████████████████████| 9/9 [00:00<00:00, 22.81it/s, loss=0.658, iou=0.65]\n"
     ]
    },
    {
     "name": "stdout",
     "output_type": "stream",
     "text": [
      "loss 0.7273 - iou 0.5632 - val_loss 0.6576 - val_iou 0.6497\n",
      "=> saved best model\n",
      "Epoch [5/100]\n"
     ]
    },
    {
     "name": "stderr",
     "output_type": "stream",
     "text": [
      "100%|████████████████████| 33/33 [00:02<00:00, 13.41it/s, loss=0.669, iou=0.584]\n",
      "100%|██████████████████████| 9/9 [00:00<00:00, 21.03it/s, loss=0.595, iou=0.654]\n"
     ]
    },
    {
     "name": "stdout",
     "output_type": "stream",
     "text": [
      "loss 0.6693 - iou 0.5839 - val_loss 0.5951 - val_iou 0.6544\n",
      "=> saved best model\n",
      "Epoch [6/100]\n"
     ]
    },
    {
     "name": "stderr",
     "output_type": "stream",
     "text": [
      "100%|████████████████████| 33/33 [00:02<00:00, 13.47it/s, loss=0.627, iou=0.596]\n",
      "100%|██████████████████████| 9/9 [00:00<00:00, 21.98it/s, loss=0.506, iou=0.665]\n"
     ]
    },
    {
     "name": "stdout",
     "output_type": "stream",
     "text": [
      "loss 0.6275 - iou 0.5965 - val_loss 0.5061 - val_iou 0.6650\n",
      "=> saved best model\n",
      "Epoch [7/100]\n"
     ]
    },
    {
     "name": "stderr",
     "output_type": "stream",
     "text": [
      "100%|████████████████████| 33/33 [00:02<00:00, 13.71it/s, loss=0.567, iou=0.639]\n",
      "100%|██████████████████████| 9/9 [00:00<00:00, 20.53it/s, loss=0.578, iou=0.622]\n"
     ]
    },
    {
     "name": "stdout",
     "output_type": "stream",
     "text": [
      "loss 0.5669 - iou 0.6387 - val_loss 0.5778 - val_iou 0.6221\n",
      "Epoch [8/100]\n"
     ]
    },
    {
     "name": "stderr",
     "output_type": "stream",
     "text": [
      "100%|████████████████████| 33/33 [00:02<00:00, 13.55it/s, loss=0.542, iou=0.624]\n",
      "100%|████████████████████████| 9/9 [00:00<00:00, 22.46it/s, loss=0.41, iou=0.73]\n"
     ]
    },
    {
     "name": "stdout",
     "output_type": "stream",
     "text": [
      "loss 0.5423 - iou 0.6238 - val_loss 0.4101 - val_iou 0.7304\n",
      "=> saved best model\n",
      "Epoch [9/100]\n"
     ]
    },
    {
     "name": "stderr",
     "output_type": "stream",
     "text": [
      "100%|████████████████████| 33/33 [00:02<00:00, 13.53it/s, loss=0.498, iou=0.646]\n",
      "100%|██████████████████████| 9/9 [00:00<00:00, 22.50it/s, loss=0.412, iou=0.719]\n"
     ]
    },
    {
     "name": "stdout",
     "output_type": "stream",
     "text": [
      "loss 0.4984 - iou 0.6459 - val_loss 0.4116 - val_iou 0.7194\n",
      "Epoch [10/100]\n"
     ]
    },
    {
     "name": "stderr",
     "output_type": "stream",
     "text": [
      "100%|████████████████████| 33/33 [00:02<00:00, 13.54it/s, loss=0.464, iou=0.664]\n",
      "100%|██████████████████████| 9/9 [00:00<00:00, 21.42it/s, loss=0.377, iou=0.733]\n"
     ]
    },
    {
     "name": "stdout",
     "output_type": "stream",
     "text": [
      "loss 0.4638 - iou 0.6638 - val_loss 0.3766 - val_iou 0.7326\n",
      "=> saved best model\n",
      "Epoch [11/100]\n"
     ]
    },
    {
     "name": "stderr",
     "output_type": "stream",
     "text": [
      "100%|████████████████████| 33/33 [00:02<00:00, 13.69it/s, loss=0.433, iou=0.673]\n",
      "100%|██████████████████████| 9/9 [00:00<00:00, 22.70it/s, loss=0.328, iou=0.757]\n"
     ]
    },
    {
     "name": "stdout",
     "output_type": "stream",
     "text": [
      "loss 0.4327 - iou 0.6729 - val_loss 0.3276 - val_iou 0.7570\n",
      "=> saved best model\n",
      "Epoch [12/100]\n"
     ]
    },
    {
     "name": "stderr",
     "output_type": "stream",
     "text": [
      "100%|████████████████████| 33/33 [00:02<00:00, 13.63it/s, loss=0.407, iou=0.678]\n",
      "100%|███████████████████████| 9/9 [00:00<00:00, 23.36it/s, loss=0.34, iou=0.744]\n"
     ]
    },
    {
     "name": "stdout",
     "output_type": "stream",
     "text": [
      "loss 0.4072 - iou 0.6779 - val_loss 0.3398 - val_iou 0.7444\n",
      "Epoch [13/100]\n"
     ]
    },
    {
     "name": "stderr",
     "output_type": "stream",
     "text": [
      "100%|████████████████████| 33/33 [00:02<00:00, 13.42it/s, loss=0.382, iou=0.698]\n",
      "100%|███████████████████████| 9/9 [00:00<00:00, 24.59it/s, loss=0.29, iou=0.766]\n"
     ]
    },
    {
     "name": "stdout",
     "output_type": "stream",
     "text": [
      "loss 0.3818 - iou 0.6978 - val_loss 0.2897 - val_iou 0.7660\n",
      "=> saved best model\n",
      "Epoch [14/100]\n"
     ]
    },
    {
     "name": "stderr",
     "output_type": "stream",
     "text": [
      "100%|████████████████████| 33/33 [00:02<00:00, 13.55it/s, loss=0.395, iou=0.659]\n",
      "100%|███████████████████████| 9/9 [00:00<00:00, 23.97it/s, loss=0.309, iou=0.75]\n"
     ]
    },
    {
     "name": "stdout",
     "output_type": "stream",
     "text": [
      "loss 0.3952 - iou 0.6591 - val_loss 0.3092 - val_iou 0.7504\n",
      "Epoch [15/100]\n"
     ]
    },
    {
     "name": "stderr",
     "output_type": "stream",
     "text": [
      "100%|████████████████████| 33/33 [00:02<00:00, 13.65it/s, loss=0.365, iou=0.692]\n",
      "100%|██████████████████████| 9/9 [00:00<00:00, 22.05it/s, loss=0.295, iou=0.753]\n"
     ]
    },
    {
     "name": "stdout",
     "output_type": "stream",
     "text": [
      "loss 0.3647 - iou 0.6919 - val_loss 0.2948 - val_iou 0.7531\n",
      "Epoch [16/100]\n"
     ]
    },
    {
     "name": "stderr",
     "output_type": "stream",
     "text": [
      "100%|████████████████████| 33/33 [00:02<00:00, 13.46it/s, loss=0.354, iou=0.686]\n",
      "100%|██████████████████████| 9/9 [00:00<00:00, 23.37it/s, loss=0.598, iou=0.421]\n"
     ]
    },
    {
     "name": "stdout",
     "output_type": "stream",
     "text": [
      "loss 0.3542 - iou 0.6858 - val_loss 0.5978 - val_iou 0.4214\n",
      "Epoch [17/100]\n"
     ]
    },
    {
     "name": "stderr",
     "output_type": "stream",
     "text": [
      "100%|████████████████████| 33/33 [00:02<00:00, 13.57it/s, loss=0.358, iou=0.679]\n",
      "100%|██████████████████████| 9/9 [00:00<00:00, 21.99it/s, loss=0.377, iou=0.711]\n"
     ]
    },
    {
     "name": "stdout",
     "output_type": "stream",
     "text": [
      "loss 0.3577 - iou 0.6794 - val_loss 0.3767 - val_iou 0.7112\n",
      "Epoch [18/100]\n"
     ]
    },
    {
     "name": "stderr",
     "output_type": "stream",
     "text": [
      "100%|█████████████████████| 33/33 [00:02<00:00, 13.71it/s, loss=0.331, iou=0.71]\n",
      "100%|██████████████████████| 9/9 [00:00<00:00, 23.33it/s, loss=0.241, iou=0.787]\n"
     ]
    },
    {
     "name": "stdout",
     "output_type": "stream",
     "text": [
      "loss 0.3311 - iou 0.7100 - val_loss 0.2405 - val_iou 0.7866\n",
      "=> saved best model\n",
      "Epoch [19/100]\n"
     ]
    },
    {
     "name": "stderr",
     "output_type": "stream",
     "text": [
      "100%|█████████████████████| 33/33 [00:02<00:00, 13.48it/s, loss=0.339, iou=0.69]\n",
      "100%|██████████████████████| 9/9 [00:00<00:00, 23.06it/s, loss=0.236, iou=0.785]\n"
     ]
    },
    {
     "name": "stdout",
     "output_type": "stream",
     "text": [
      "loss 0.3386 - iou 0.6905 - val_loss 0.2356 - val_iou 0.7850\n",
      "Epoch [20/100]\n"
     ]
    },
    {
     "name": "stderr",
     "output_type": "stream",
     "text": [
      "100%|████████████████████| 33/33 [00:02<00:00, 13.57it/s, loss=0.323, iou=0.708]\n",
      "100%|██████████████████████| 9/9 [00:00<00:00, 23.30it/s, loss=0.282, iou=0.775]\n"
     ]
    },
    {
     "name": "stdout",
     "output_type": "stream",
     "text": [
      "loss 0.3233 - iou 0.7076 - val_loss 0.2815 - val_iou 0.7746\n",
      "Epoch [21/100]\n"
     ]
    },
    {
     "name": "stderr",
     "output_type": "stream",
     "text": [
      "100%|████████████████████| 33/33 [00:02<00:00, 13.60it/s, loss=0.324, iou=0.697]\n",
      "100%|██████████████████████| 9/9 [00:00<00:00, 23.81it/s, loss=0.234, iou=0.786]\n"
     ]
    },
    {
     "name": "stdout",
     "output_type": "stream",
     "text": [
      "loss 0.3237 - iou 0.6966 - val_loss 0.2343 - val_iou 0.7864\n",
      "Epoch [22/100]\n"
     ]
    },
    {
     "name": "stderr",
     "output_type": "stream",
     "text": [
      "100%|████████████████████| 33/33 [00:02<00:00, 13.48it/s, loss=0.312, iou=0.715]\n",
      "100%|██████████████████████| 9/9 [00:00<00:00, 21.74it/s, loss=0.258, iou=0.757]\n"
     ]
    },
    {
     "name": "stdout",
     "output_type": "stream",
     "text": [
      "loss 0.3120 - iou 0.7147 - val_loss 0.2579 - val_iou 0.7567\n",
      "Epoch [23/100]\n"
     ]
    },
    {
     "name": "stderr",
     "output_type": "stream",
     "text": [
      "100%|████████████████████| 33/33 [00:02<00:00, 13.44it/s, loss=0.298, iou=0.725]\n",
      "100%|██████████████████████| 9/9 [00:00<00:00, 21.40it/s, loss=0.219, iou=0.801]\n"
     ]
    },
    {
     "name": "stdout",
     "output_type": "stream",
     "text": [
      "loss 0.2977 - iou 0.7255 - val_loss 0.2195 - val_iou 0.8008\n",
      "=> saved best model\n",
      "Epoch [24/100]\n"
     ]
    },
    {
     "name": "stderr",
     "output_type": "stream",
     "text": [
      "100%|████████████████████| 33/33 [00:02<00:00, 13.55it/s, loss=0.301, iou=0.719]\n",
      "100%|██████████████████████| 9/9 [00:00<00:00, 22.19it/s, loss=0.211, iou=0.793]\n"
     ]
    },
    {
     "name": "stdout",
     "output_type": "stream",
     "text": [
      "loss 0.3005 - iou 0.7193 - val_loss 0.2115 - val_iou 0.7931\n",
      "Epoch [25/100]\n"
     ]
    },
    {
     "name": "stderr",
     "output_type": "stream",
     "text": [
      "100%|████████████████████| 33/33 [00:02<00:00, 13.54it/s, loss=0.288, iou=0.731]\n",
      "100%|██████████████████████| 9/9 [00:00<00:00, 21.78it/s, loss=0.249, iou=0.769]\n"
     ]
    },
    {
     "name": "stdout",
     "output_type": "stream",
     "text": [
      "loss 0.2876 - iou 0.7308 - val_loss 0.2490 - val_iou 0.7688\n",
      "Epoch [26/100]\n"
     ]
    },
    {
     "name": "stderr",
     "output_type": "stream",
     "text": [
      "100%|████████████████████| 33/33 [00:02<00:00, 13.61it/s, loss=0.288, iou=0.728]\n",
      "100%|██████████████████████| 9/9 [00:00<00:00, 21.22it/s, loss=0.258, iou=0.773]\n"
     ]
    },
    {
     "name": "stdout",
     "output_type": "stream",
     "text": [
      "loss 0.2882 - iou 0.7275 - val_loss 0.2580 - val_iou 0.7735\n",
      "Epoch [27/100]\n"
     ]
    },
    {
     "name": "stderr",
     "output_type": "stream",
     "text": [
      "100%|████████████████████| 33/33 [00:02<00:00, 13.48it/s, loss=0.289, iou=0.721]\n",
      "100%|██████████████████████| 9/9 [00:00<00:00, 22.95it/s, loss=0.225, iou=0.783]\n"
     ]
    },
    {
     "name": "stdout",
     "output_type": "stream",
     "text": [
      "loss 0.2889 - iou 0.7215 - val_loss 0.2246 - val_iou 0.7834\n",
      "Epoch [28/100]\n"
     ]
    },
    {
     "name": "stderr",
     "output_type": "stream",
     "text": [
      "100%|████████████████████| 33/33 [00:02<00:00, 13.44it/s, loss=0.283, iou=0.733]\n",
      "100%|████████████████████████| 9/9 [00:00<00:00, 22.65it/s, loss=0.205, iou=0.8]\n"
     ]
    },
    {
     "name": "stdout",
     "output_type": "stream",
     "text": [
      "loss 0.2828 - iou 0.7334 - val_loss 0.2055 - val_iou 0.7996\n",
      "Epoch [29/100]\n"
     ]
    },
    {
     "name": "stderr",
     "output_type": "stream",
     "text": [
      "100%|█████████████████████| 33/33 [00:02<00:00, 13.61it/s, loss=0.28, iou=0.732]\n",
      "100%|██████████████████████| 9/9 [00:00<00:00, 21.71it/s, loss=0.196, iou=0.807]\n"
     ]
    },
    {
     "name": "stdout",
     "output_type": "stream",
     "text": [
      "loss 0.2800 - iou 0.7322 - val_loss 0.1955 - val_iou 0.8067\n",
      "=> saved best model\n",
      "Epoch [30/100]\n"
     ]
    },
    {
     "name": "stderr",
     "output_type": "stream",
     "text": [
      "100%|████████████████████| 33/33 [00:02<00:00, 13.59it/s, loss=0.286, iou=0.722]\n",
      "100%|██████████████████████| 9/9 [00:00<00:00, 22.10it/s, loss=0.205, iou=0.807]\n"
     ]
    },
    {
     "name": "stdout",
     "output_type": "stream",
     "text": [
      "loss 0.2861 - iou 0.7217 - val_loss 0.2048 - val_iou 0.8074\n",
      "=> saved best model\n",
      "Epoch [31/100]\n"
     ]
    },
    {
     "name": "stderr",
     "output_type": "stream",
     "text": [
      "100%|████████████████████| 33/33 [00:02<00:00, 13.55it/s, loss=0.258, iou=0.751]\n",
      "100%|██████████████████████| 9/9 [00:00<00:00, 22.77it/s, loss=0.193, iou=0.805]\n"
     ]
    },
    {
     "name": "stdout",
     "output_type": "stream",
     "text": [
      "loss 0.2584 - iou 0.7508 - val_loss 0.1934 - val_iou 0.8048\n",
      "Epoch [32/100]\n"
     ]
    },
    {
     "name": "stderr",
     "output_type": "stream",
     "text": [
      "100%|████████████████████| 33/33 [00:02<00:00, 13.63it/s, loss=0.271, iou=0.736]\n",
      "100%|██████████████████████| 9/9 [00:00<00:00, 23.02it/s, loss=0.199, iou=0.805]\n"
     ]
    },
    {
     "name": "stdout",
     "output_type": "stream",
     "text": [
      "loss 0.2714 - iou 0.7356 - val_loss 0.1986 - val_iou 0.8051\n",
      "Epoch [33/100]\n"
     ]
    },
    {
     "name": "stderr",
     "output_type": "stream",
     "text": [
      "100%|████████████████████| 33/33 [00:02<00:00, 13.13it/s, loss=0.272, iou=0.738]\n",
      "100%|███████████████████████| 9/9 [00:00<00:00, 20.50it/s, loss=0.38, iou=0.682]\n"
     ]
    },
    {
     "name": "stdout",
     "output_type": "stream",
     "text": [
      "loss 0.2717 - iou 0.7379 - val_loss 0.3801 - val_iou 0.6816\n",
      "Epoch [34/100]\n"
     ]
    },
    {
     "name": "stderr",
     "output_type": "stream",
     "text": [
      "100%|████████████████████| 33/33 [00:02<00:00, 13.36it/s, loss=0.266, iou=0.732]\n",
      "100%|██████████████████████| 9/9 [00:00<00:00, 22.98it/s, loss=0.264, iou=0.774]\n"
     ]
    },
    {
     "name": "stdout",
     "output_type": "stream",
     "text": [
      "loss 0.2663 - iou 0.7322 - val_loss 0.2642 - val_iou 0.7736\n",
      "Epoch [35/100]\n"
     ]
    },
    {
     "name": "stderr",
     "output_type": "stream",
     "text": [
      "100%|████████████████████| 33/33 [00:02<00:00, 13.58it/s, loss=0.262, iou=0.744]\n",
      "100%|██████████████████████| 9/9 [00:00<00:00, 23.03it/s, loss=0.205, iou=0.799]\n"
     ]
    },
    {
     "name": "stdout",
     "output_type": "stream",
     "text": [
      "loss 0.2621 - iou 0.7443 - val_loss 0.2045 - val_iou 0.7986\n",
      "Epoch [36/100]\n"
     ]
    },
    {
     "name": "stderr",
     "output_type": "stream",
     "text": [
      "100%|████████████████████| 33/33 [00:02<00:00, 13.56it/s, loss=0.276, iou=0.726]\n",
      "100%|██████████████████████| 9/9 [00:00<00:00, 23.88it/s, loss=0.188, iou=0.811]\n"
     ]
    },
    {
     "name": "stdout",
     "output_type": "stream",
     "text": [
      "loss 0.2760 - iou 0.7258 - val_loss 0.1881 - val_iou 0.8111\n",
      "=> saved best model\n",
      "Epoch [37/100]\n"
     ]
    },
    {
     "name": "stderr",
     "output_type": "stream",
     "text": [
      "100%|████████████████████| 33/33 [00:02<00:00, 13.62it/s, loss=0.269, iou=0.732]\n",
      "100%|██████████████████████| 9/9 [00:00<00:00, 23.29it/s, loss=0.214, iou=0.793]\n"
     ]
    },
    {
     "name": "stdout",
     "output_type": "stream",
     "text": [
      "loss 0.2689 - iou 0.7316 - val_loss 0.2145 - val_iou 0.7930\n",
      "Epoch [38/100]\n"
     ]
    },
    {
     "name": "stderr",
     "output_type": "stream",
     "text": [
      "100%|████████████████████| 33/33 [00:02<00:00, 13.51it/s, loss=0.261, iou=0.743]\n",
      "100%|██████████████████████| 9/9 [00:00<00:00, 22.02it/s, loss=0.211, iou=0.782]\n"
     ]
    },
    {
     "name": "stdout",
     "output_type": "stream",
     "text": [
      "loss 0.2613 - iou 0.7431 - val_loss 0.2107 - val_iou 0.7824\n",
      "Epoch [39/100]\n"
     ]
    },
    {
     "name": "stderr",
     "output_type": "stream",
     "text": [
      "100%|████████████████████| 33/33 [00:02<00:00, 13.62it/s, loss=0.248, iou=0.749]\n",
      "100%|██████████████████████| 9/9 [00:00<00:00, 22.64it/s, loss=0.182, iou=0.819]\n"
     ]
    },
    {
     "name": "stdout",
     "output_type": "stream",
     "text": [
      "loss 0.2484 - iou 0.7495 - val_loss 0.1824 - val_iou 0.8195\n",
      "=> saved best model\n",
      "Epoch [40/100]\n"
     ]
    },
    {
     "name": "stderr",
     "output_type": "stream",
     "text": [
      "100%|████████████████████| 33/33 [00:02<00:00, 13.64it/s, loss=0.243, iou=0.765]\n",
      "100%|██████████████████████| 9/9 [00:00<00:00, 22.78it/s, loss=0.187, iou=0.812]\n"
     ]
    },
    {
     "name": "stdout",
     "output_type": "stream",
     "text": [
      "loss 0.2427 - iou 0.7651 - val_loss 0.1870 - val_iou 0.8122\n",
      "Epoch [41/100]\n"
     ]
    },
    {
     "name": "stderr",
     "output_type": "stream",
     "text": [
      "100%|████████████████████| 33/33 [00:02<00:00, 13.58it/s, loss=0.249, iou=0.756]\n",
      "100%|██████████████████████| 9/9 [00:00<00:00, 22.39it/s, loss=0.177, iou=0.819]\n"
     ]
    },
    {
     "name": "stdout",
     "output_type": "stream",
     "text": [
      "loss 0.2491 - iou 0.7559 - val_loss 0.1770 - val_iou 0.8192\n",
      "Epoch [42/100]\n"
     ]
    },
    {
     "name": "stderr",
     "output_type": "stream",
     "text": [
      "100%|████████████████████| 33/33 [00:02<00:00, 13.53it/s, loss=0.258, iou=0.747]\n",
      "100%|██████████████████████| 9/9 [00:00<00:00, 22.53it/s, loss=0.201, iou=0.805]\n"
     ]
    },
    {
     "name": "stdout",
     "output_type": "stream",
     "text": [
      "loss 0.2583 - iou 0.7467 - val_loss 0.2011 - val_iou 0.8053\n",
      "Epoch [43/100]\n"
     ]
    },
    {
     "name": "stderr",
     "output_type": "stream",
     "text": [
      "100%|████████████████████| 33/33 [00:02<00:00, 13.55it/s, loss=0.246, iou=0.762]\n",
      "100%|████████████████████████| 9/9 [00:00<00:00, 20.86it/s, loss=0.192, iou=0.8]\n"
     ]
    },
    {
     "name": "stdout",
     "output_type": "stream",
     "text": [
      "loss 0.2464 - iou 0.7619 - val_loss 0.1917 - val_iou 0.8000\n",
      "Epoch [44/100]\n"
     ]
    },
    {
     "name": "stderr",
     "output_type": "stream",
     "text": [
      "100%|████████████████████| 33/33 [00:02<00:00, 13.82it/s, loss=0.248, iou=0.757]\n",
      "100%|██████████████████████| 9/9 [00:00<00:00, 23.38it/s, loss=0.182, iou=0.813]\n"
     ]
    },
    {
     "name": "stdout",
     "output_type": "stream",
     "text": [
      "loss 0.2476 - iou 0.7566 - val_loss 0.1823 - val_iou 0.8125\n",
      "Epoch [45/100]\n"
     ]
    },
    {
     "name": "stderr",
     "output_type": "stream",
     "text": [
      "100%|████████████████████| 33/33 [00:02<00:00, 13.52it/s, loss=0.244, iou=0.752]\n",
      "100%|██████████████████████| 9/9 [00:00<00:00, 20.82it/s, loss=0.185, iou=0.806]\n"
     ]
    },
    {
     "name": "stdout",
     "output_type": "stream",
     "text": [
      "loss 0.2439 - iou 0.7524 - val_loss 0.1850 - val_iou 0.8060\n",
      "Epoch [46/100]\n"
     ]
    },
    {
     "name": "stderr",
     "output_type": "stream",
     "text": [
      "100%|████████████████████| 33/33 [00:02<00:00, 13.56it/s, loss=0.236, iou=0.772]\n",
      "100%|███████████████████████| 9/9 [00:00<00:00, 22.45it/s, loss=0.172, iou=0.82]\n"
     ]
    },
    {
     "name": "stdout",
     "output_type": "stream",
     "text": [
      "loss 0.2361 - iou 0.7721 - val_loss 0.1719 - val_iou 0.8202\n",
      "=> saved best model\n",
      "Epoch [47/100]\n"
     ]
    },
    {
     "name": "stderr",
     "output_type": "stream",
     "text": [
      "100%|█████████████████████| 33/33 [00:02<00:00, 13.58it/s, loss=0.26, iou=0.744]\n",
      "100%|██████████████████████| 9/9 [00:00<00:00, 22.30it/s, loss=0.186, iou=0.808]\n"
     ]
    },
    {
     "name": "stdout",
     "output_type": "stream",
     "text": [
      "loss 0.2603 - iou 0.7439 - val_loss 0.1858 - val_iou 0.8082\n",
      "Epoch [48/100]\n"
     ]
    },
    {
     "name": "stderr",
     "output_type": "stream",
     "text": [
      "100%|████████████████████| 33/33 [00:02<00:00, 13.55it/s, loss=0.249, iou=0.748]\n",
      "100%|██████████████████████| 9/9 [00:00<00:00, 21.69it/s, loss=0.179, iou=0.815]\n"
     ]
    },
    {
     "name": "stdout",
     "output_type": "stream",
     "text": [
      "loss 0.2489 - iou 0.7478 - val_loss 0.1787 - val_iou 0.8148\n",
      "Epoch [49/100]\n"
     ]
    },
    {
     "name": "stderr",
     "output_type": "stream",
     "text": [
      "100%|████████████████████| 33/33 [00:02<00:00, 13.66it/s, loss=0.255, iou=0.745]\n",
      "100%|██████████████████████| 9/9 [00:00<00:00, 23.55it/s, loss=0.186, iou=0.805]\n"
     ]
    },
    {
     "name": "stdout",
     "output_type": "stream",
     "text": [
      "loss 0.2552 - iou 0.7452 - val_loss 0.1861 - val_iou 0.8048\n",
      "Epoch [50/100]\n"
     ]
    },
    {
     "name": "stderr",
     "output_type": "stream",
     "text": [
      "100%|████████████████████| 33/33 [00:02<00:00, 13.64it/s, loss=0.236, iou=0.761]\n",
      "100%|██████████████████████| 9/9 [00:00<00:00, 22.79it/s, loss=0.177, iou=0.814]\n"
     ]
    },
    {
     "name": "stdout",
     "output_type": "stream",
     "text": [
      "loss 0.2359 - iou 0.7612 - val_loss 0.1768 - val_iou 0.8143\n",
      "Epoch [51/100]\n"
     ]
    },
    {
     "name": "stderr",
     "output_type": "stream",
     "text": [
      "100%|████████████████████| 33/33 [00:02<00:00, 13.46it/s, loss=0.251, iou=0.744]\n",
      "100%|███████████████████████| 9/9 [00:00<00:00, 23.37it/s, loss=0.19, iou=0.792]\n"
     ]
    },
    {
     "name": "stdout",
     "output_type": "stream",
     "text": [
      "loss 0.2511 - iou 0.7437 - val_loss 0.1895 - val_iou 0.7920\n",
      "Epoch [52/100]\n"
     ]
    },
    {
     "name": "stderr",
     "output_type": "stream",
     "text": [
      "100%|████████████████████| 33/33 [00:02<00:00, 13.41it/s, loss=0.236, iou=0.757]\n",
      "100%|████████████████████████| 9/9 [00:00<00:00, 22.84it/s, loss=0.17, iou=0.82]\n"
     ]
    },
    {
     "name": "stdout",
     "output_type": "stream",
     "text": [
      "loss 0.2355 - iou 0.7565 - val_loss 0.1697 - val_iou 0.8198\n",
      "Epoch [53/100]\n"
     ]
    },
    {
     "name": "stderr",
     "output_type": "stream",
     "text": [
      "100%|████████████████████| 33/33 [00:02<00:00, 13.44it/s, loss=0.236, iou=0.763]\n",
      "100%|███████████████████████| 9/9 [00:00<00:00, 21.20it/s, loss=0.25, iou=0.753]\n"
     ]
    },
    {
     "name": "stdout",
     "output_type": "stream",
     "text": [
      "loss 0.2358 - iou 0.7630 - val_loss 0.2504 - val_iou 0.7525\n",
      "Epoch [54/100]\n"
     ]
    },
    {
     "name": "stderr",
     "output_type": "stream",
     "text": [
      "100%|████████████████████| 33/33 [00:02<00:00, 13.64it/s, loss=0.236, iou=0.766]\n",
      "100%|██████████████████████| 9/9 [00:00<00:00, 23.44it/s, loss=0.173, iou=0.815]\n"
     ]
    },
    {
     "name": "stdout",
     "output_type": "stream",
     "text": [
      "loss 0.2360 - iou 0.7659 - val_loss 0.1735 - val_iou 0.8153\n",
      "Epoch [55/100]\n"
     ]
    },
    {
     "name": "stderr",
     "output_type": "stream",
     "text": [
      "100%|█████████████████████| 33/33 [00:02<00:00, 13.46it/s, loss=0.23, iou=0.772]\n",
      "100%|███████████████████████| 9/9 [00:00<00:00, 22.44it/s, loss=0.18, iou=0.812]\n"
     ]
    },
    {
     "name": "stdout",
     "output_type": "stream",
     "text": [
      "loss 0.2300 - iou 0.7716 - val_loss 0.1801 - val_iou 0.8116\n",
      "Epoch [56/100]\n"
     ]
    },
    {
     "name": "stderr",
     "output_type": "stream",
     "text": [
      "100%|████████████████████| 33/33 [00:02<00:00, 13.54it/s, loss=0.235, iou=0.757]\n",
      "100%|██████████████████████| 9/9 [00:00<00:00, 22.09it/s, loss=0.163, iou=0.828]\n"
     ]
    },
    {
     "name": "stdout",
     "output_type": "stream",
     "text": [
      "loss 0.2352 - iou 0.7573 - val_loss 0.1629 - val_iou 0.8278\n",
      "=> saved best model\n",
      "Epoch [57/100]\n"
     ]
    },
    {
     "name": "stderr",
     "output_type": "stream",
     "text": [
      "100%|█████████████████████| 33/33 [00:02<00:00, 13.56it/s, loss=0.24, iou=0.754]\n",
      "100%|██████████████████████| 9/9 [00:00<00:00, 20.92it/s, loss=0.177, iou=0.815]\n"
     ]
    },
    {
     "name": "stdout",
     "output_type": "stream",
     "text": [
      "loss 0.2400 - iou 0.7542 - val_loss 0.1771 - val_iou 0.8148\n",
      "Epoch [58/100]\n"
     ]
    },
    {
     "name": "stderr",
     "output_type": "stream",
     "text": [
      "100%|████████████████████| 33/33 [00:02<00:00, 13.55it/s, loss=0.253, iou=0.739]\n",
      "100%|██████████████████████| 9/9 [00:00<00:00, 22.06it/s, loss=0.169, iou=0.822]\n"
     ]
    },
    {
     "name": "stdout",
     "output_type": "stream",
     "text": [
      "loss 0.2530 - iou 0.7386 - val_loss 0.1689 - val_iou 0.8223\n",
      "Epoch [59/100]\n"
     ]
    },
    {
     "name": "stderr",
     "output_type": "stream",
     "text": [
      "100%|████████████████████| 33/33 [00:02<00:00, 13.46it/s, loss=0.221, iou=0.779]\n",
      "100%|██████████████████████| 9/9 [00:00<00:00, 23.48it/s, loss=0.175, iou=0.817]\n"
     ]
    },
    {
     "name": "stdout",
     "output_type": "stream",
     "text": [
      "loss 0.2210 - iou 0.7795 - val_loss 0.1750 - val_iou 0.8166\n",
      "Epoch [60/100]\n"
     ]
    },
    {
     "name": "stderr",
     "output_type": "stream",
     "text": [
      "100%|████████████████████| 33/33 [00:02<00:00, 13.54it/s, loss=0.246, iou=0.749]\n",
      "100%|██████████████████████| 9/9 [00:00<00:00, 22.97it/s, loss=0.168, iou=0.824]\n"
     ]
    },
    {
     "name": "stdout",
     "output_type": "stream",
     "text": [
      "loss 0.2459 - iou 0.7489 - val_loss 0.1682 - val_iou 0.8241\n",
      "Epoch [61/100]\n"
     ]
    },
    {
     "name": "stderr",
     "output_type": "stream",
     "text": [
      "100%|█████████████████████| 33/33 [00:02<00:00, 13.49it/s, loss=0.23, iou=0.765]\n",
      "100%|██████████████████████| 9/9 [00:00<00:00, 23.72it/s, loss=0.171, iou=0.818]\n"
     ]
    },
    {
     "name": "stdout",
     "output_type": "stream",
     "text": [
      "loss 0.2305 - iou 0.7651 - val_loss 0.1710 - val_iou 0.8180\n",
      "Epoch [62/100]\n"
     ]
    },
    {
     "name": "stderr",
     "output_type": "stream",
     "text": [
      "100%|████████████████████| 33/33 [00:02<00:00, 13.44it/s, loss=0.224, iou=0.772]\n",
      "100%|██████████████████████| 9/9 [00:00<00:00, 22.00it/s, loss=0.164, iou=0.825]\n"
     ]
    },
    {
     "name": "stdout",
     "output_type": "stream",
     "text": [
      "loss 0.2245 - iou 0.7718 - val_loss 0.1642 - val_iou 0.8249\n",
      "Epoch [63/100]\n"
     ]
    },
    {
     "name": "stderr",
     "output_type": "stream",
     "text": [
      "100%|████████████████████| 33/33 [00:02<00:00, 13.51it/s, loss=0.217, iou=0.772]\n",
      "100%|██████████████████████| 9/9 [00:00<00:00, 23.51it/s, loss=0.163, iou=0.828]\n"
     ]
    },
    {
     "name": "stdout",
     "output_type": "stream",
     "text": [
      "loss 0.2175 - iou 0.7720 - val_loss 0.1633 - val_iou 0.8278\n",
      "Epoch [64/100]\n"
     ]
    },
    {
     "name": "stderr",
     "output_type": "stream",
     "text": [
      "100%|█████████████████████| 33/33 [00:02<00:00, 13.51it/s, loss=0.216, iou=0.78]\n",
      "100%|██████████████████████| 9/9 [00:00<00:00, 22.33it/s, loss=0.166, iou=0.826]\n"
     ]
    },
    {
     "name": "stdout",
     "output_type": "stream",
     "text": [
      "loss 0.2164 - iou 0.7799 - val_loss 0.1657 - val_iou 0.8261\n",
      "Epoch [65/100]\n"
     ]
    },
    {
     "name": "stderr",
     "output_type": "stream",
     "text": [
      "100%|████████████████████| 33/33 [00:02<00:00, 13.58it/s, loss=0.239, iou=0.755]\n",
      "100%|██████████████████████| 9/9 [00:00<00:00, 22.12it/s, loss=0.175, iou=0.817]\n"
     ]
    },
    {
     "name": "stdout",
     "output_type": "stream",
     "text": [
      "loss 0.2385 - iou 0.7551 - val_loss 0.1752 - val_iou 0.8167\n",
      "Epoch [66/100]\n"
     ]
    },
    {
     "name": "stderr",
     "output_type": "stream",
     "text": [
      "100%|████████████████████| 33/33 [00:02<00:00, 13.50it/s, loss=0.223, iou=0.767]\n",
      "100%|██████████████████████| 9/9 [00:00<00:00, 21.47it/s, loss=0.169, iou=0.821]\n"
     ]
    },
    {
     "name": "stdout",
     "output_type": "stream",
     "text": [
      "loss 0.2234 - iou 0.7670 - val_loss 0.1686 - val_iou 0.8215\n",
      "Epoch [67/100]\n"
     ]
    },
    {
     "name": "stderr",
     "output_type": "stream",
     "text": [
      "100%|████████████████████| 33/33 [00:02<00:00, 13.55it/s, loss=0.232, iou=0.755]\n",
      "100%|██████████████████████| 9/9 [00:00<00:00, 22.38it/s, loss=0.161, iou=0.832]\n"
     ]
    },
    {
     "name": "stdout",
     "output_type": "stream",
     "text": [
      "loss 0.2317 - iou 0.7548 - val_loss 0.1606 - val_iou 0.8323\n",
      "=> saved best model\n",
      "Epoch [68/100]\n"
     ]
    },
    {
     "name": "stderr",
     "output_type": "stream",
     "text": [
      "100%|████████████████████| 33/33 [00:02<00:00, 13.35it/s, loss=0.223, iou=0.771]\n",
      "100%|██████████████████████| 9/9 [00:00<00:00, 22.34it/s, loss=0.177, iou=0.818]\n"
     ]
    },
    {
     "name": "stdout",
     "output_type": "stream",
     "text": [
      "loss 0.2232 - iou 0.7709 - val_loss 0.1768 - val_iou 0.8177\n",
      "Epoch [69/100]\n"
     ]
    },
    {
     "name": "stderr",
     "output_type": "stream",
     "text": [
      "100%|████████████████████| 33/33 [00:02<00:00, 13.70it/s, loss=0.238, iou=0.764]\n",
      "100%|██████████████████████| 9/9 [00:00<00:00, 22.36it/s, loss=0.168, iou=0.819]\n"
     ]
    },
    {
     "name": "stdout",
     "output_type": "stream",
     "text": [
      "loss 0.2378 - iou 0.7639 - val_loss 0.1682 - val_iou 0.8191\n",
      "Epoch [70/100]\n"
     ]
    },
    {
     "name": "stderr",
     "output_type": "stream",
     "text": [
      "100%|████████████████████| 33/33 [00:02<00:00, 13.54it/s, loss=0.219, iou=0.777]\n",
      "100%|██████████████████████| 9/9 [00:00<00:00, 22.45it/s, loss=0.167, iou=0.819]\n"
     ]
    },
    {
     "name": "stdout",
     "output_type": "stream",
     "text": [
      "loss 0.2188 - iou 0.7768 - val_loss 0.1669 - val_iou 0.8191\n",
      "Epoch [71/100]\n"
     ]
    },
    {
     "name": "stderr",
     "output_type": "stream",
     "text": [
      "100%|████████████████████| 33/33 [00:02<00:00, 13.56it/s, loss=0.236, iou=0.763]\n",
      "100%|██████████████████████| 9/9 [00:00<00:00, 21.31it/s, loss=0.164, iou=0.823]\n"
     ]
    },
    {
     "name": "stdout",
     "output_type": "stream",
     "text": [
      "loss 0.2355 - iou 0.7635 - val_loss 0.1636 - val_iou 0.8231\n",
      "Epoch [72/100]\n"
     ]
    },
    {
     "name": "stderr",
     "output_type": "stream",
     "text": [
      "100%|████████████████████| 33/33 [00:02<00:00, 13.47it/s, loss=0.217, iou=0.778]\n",
      "100%|██████████████████████| 9/9 [00:00<00:00, 22.54it/s, loss=0.223, iou=0.732]\n"
     ]
    },
    {
     "name": "stdout",
     "output_type": "stream",
     "text": [
      "loss 0.2172 - iou 0.7785 - val_loss 0.2229 - val_iou 0.7324\n",
      "Epoch [73/100]\n"
     ]
    },
    {
     "name": "stderr",
     "output_type": "stream",
     "text": [
      "100%|████████████████████| 33/33 [00:02<00:00, 13.52it/s, loss=0.243, iou=0.739]\n",
      "100%|███████████████████████| 9/9 [00:00<00:00, 21.81it/s, loss=0.162, iou=0.83]\n"
     ]
    },
    {
     "name": "stdout",
     "output_type": "stream",
     "text": [
      "loss 0.2434 - iou 0.7394 - val_loss 0.1615 - val_iou 0.8299\n",
      "Epoch [74/100]\n"
     ]
    },
    {
     "name": "stderr",
     "output_type": "stream",
     "text": [
      "100%|████████████████████| 33/33 [00:02<00:00, 13.61it/s, loss=0.228, iou=0.766]\n",
      "100%|██████████████████████| 9/9 [00:00<00:00, 17.77it/s, loss=0.167, iou=0.825]\n"
     ]
    },
    {
     "name": "stdout",
     "output_type": "stream",
     "text": [
      "loss 0.2279 - iou 0.7658 - val_loss 0.1670 - val_iou 0.8253\n",
      "Epoch [75/100]\n"
     ]
    },
    {
     "name": "stderr",
     "output_type": "stream",
     "text": [
      "100%|█████████████████████| 33/33 [00:02<00:00, 13.21it/s, loss=0.22, iou=0.772]\n",
      "100%|██████████████████████| 9/9 [00:00<00:00, 22.33it/s, loss=0.166, iou=0.822]\n"
     ]
    },
    {
     "name": "stdout",
     "output_type": "stream",
     "text": [
      "loss 0.2205 - iou 0.7722 - val_loss 0.1663 - val_iou 0.8217\n",
      "Epoch [76/100]\n"
     ]
    },
    {
     "name": "stderr",
     "output_type": "stream",
     "text": [
      "100%|████████████████████| 33/33 [00:02<00:00, 13.63it/s, loss=0.216, iou=0.779]\n",
      "100%|██████████████████████| 9/9 [00:00<00:00, 23.21it/s, loss=0.163, iou=0.825]\n"
     ]
    },
    {
     "name": "stdout",
     "output_type": "stream",
     "text": [
      "loss 0.2158 - iou 0.7792 - val_loss 0.1632 - val_iou 0.8255\n",
      "Epoch [77/100]\n"
     ]
    },
    {
     "name": "stderr",
     "output_type": "stream",
     "text": [
      "100%|████████████████████| 33/33 [00:02<00:00, 13.57it/s, loss=0.215, iou=0.782]\n",
      "100%|██████████████████████| 9/9 [00:00<00:00, 22.65it/s, loss=0.159, iou=0.832]\n"
     ]
    },
    {
     "name": "stdout",
     "output_type": "stream",
     "text": [
      "loss 0.2147 - iou 0.7816 - val_loss 0.1587 - val_iou 0.8316\n",
      "Epoch [78/100]\n"
     ]
    },
    {
     "name": "stderr",
     "output_type": "stream",
     "text": [
      "100%|████████████████████| 33/33 [00:02<00:00, 13.61it/s, loss=0.221, iou=0.771]\n",
      "100%|██████████████████████| 9/9 [00:00<00:00, 23.10it/s, loss=0.197, iou=0.793]\n"
     ]
    },
    {
     "name": "stdout",
     "output_type": "stream",
     "text": [
      "loss 0.2211 - iou 0.7709 - val_loss 0.1967 - val_iou 0.7930\n",
      "Epoch [79/100]\n"
     ]
    },
    {
     "name": "stderr",
     "output_type": "stream",
     "text": [
      "100%|████████████████████| 33/33 [00:02<00:00, 13.47it/s, loss=0.217, iou=0.774]\n",
      "100%|██████████████████████| 9/9 [00:00<00:00, 22.32it/s, loss=0.163, iou=0.824]\n"
     ]
    },
    {
     "name": "stdout",
     "output_type": "stream",
     "text": [
      "loss 0.2170 - iou 0.7742 - val_loss 0.1628 - val_iou 0.8243\n",
      "Epoch [80/100]\n"
     ]
    },
    {
     "name": "stderr",
     "output_type": "stream",
     "text": [
      "100%|█████████████████████| 33/33 [00:02<00:00, 13.49it/s, loss=0.22, iou=0.763]\n",
      "100%|██████████████████████| 9/9 [00:00<00:00, 21.52it/s, loss=0.157, iou=0.832]\n"
     ]
    },
    {
     "name": "stdout",
     "output_type": "stream",
     "text": [
      "loss 0.2201 - iou 0.7629 - val_loss 0.1567 - val_iou 0.8317\n",
      "Epoch [81/100]\n"
     ]
    },
    {
     "name": "stderr",
     "output_type": "stream",
     "text": [
      "100%|████████████████████| 33/33 [00:02<00:00, 13.61it/s, loss=0.213, iou=0.781]\n",
      "100%|██████████████████████| 9/9 [00:00<00:00, 22.31it/s, loss=0.162, iou=0.824]\n"
     ]
    },
    {
     "name": "stdout",
     "output_type": "stream",
     "text": [
      "loss 0.2134 - iou 0.7809 - val_loss 0.1622 - val_iou 0.8241\n",
      "Epoch [82/100]\n"
     ]
    },
    {
     "name": "stderr",
     "output_type": "stream",
     "text": [
      "100%|████████████████████| 33/33 [00:02<00:00, 13.70it/s, loss=0.207, iou=0.789]\n",
      "100%|███████████████████████| 9/9 [00:00<00:00, 21.62it/s, loss=0.17, iou=0.819]\n"
     ]
    },
    {
     "name": "stdout",
     "output_type": "stream",
     "text": [
      "loss 0.2073 - iou 0.7886 - val_loss 0.1701 - val_iou 0.8186\n",
      "Epoch [83/100]\n"
     ]
    },
    {
     "name": "stderr",
     "output_type": "stream",
     "text": [
      "100%|████████████████████| 33/33 [00:02<00:00, 13.47it/s, loss=0.202, iou=0.796]\n",
      "100%|██████████████████████| 9/9 [00:00<00:00, 22.91it/s, loss=0.159, iou=0.832]\n"
     ]
    },
    {
     "name": "stdout",
     "output_type": "stream",
     "text": [
      "loss 0.2024 - iou 0.7959 - val_loss 0.1590 - val_iou 0.8315\n",
      "Epoch [84/100]\n"
     ]
    },
    {
     "name": "stderr",
     "output_type": "stream",
     "text": [
      "100%|████████████████████| 33/33 [00:02<00:00, 13.52it/s, loss=0.245, iou=0.736]\n",
      "100%|██████████████████████| 9/9 [00:00<00:00, 23.36it/s, loss=0.173, iou=0.818]\n"
     ]
    },
    {
     "name": "stdout",
     "output_type": "stream",
     "text": [
      "loss 0.2451 - iou 0.7363 - val_loss 0.1734 - val_iou 0.8183\n",
      "Epoch [85/100]\n"
     ]
    },
    {
     "name": "stderr",
     "output_type": "stream",
     "text": [
      "100%|████████████████████| 33/33 [00:02<00:00, 13.55it/s, loss=0.221, iou=0.775]\n",
      "100%|██████████████████████| 9/9 [00:00<00:00, 23.53it/s, loss=0.194, iou=0.802]\n"
     ]
    },
    {
     "name": "stdout",
     "output_type": "stream",
     "text": [
      "loss 0.2213 - iou 0.7749 - val_loss 0.1941 - val_iou 0.8015\n",
      "Epoch [86/100]\n"
     ]
    },
    {
     "name": "stderr",
     "output_type": "stream",
     "text": [
      "100%|████████████████████| 33/33 [00:02<00:00, 13.52it/s, loss=0.214, iou=0.789]\n",
      "100%|██████████████████████| 9/9 [00:00<00:00, 21.42it/s, loss=0.187, iou=0.805]\n"
     ]
    },
    {
     "name": "stdout",
     "output_type": "stream",
     "text": [
      "loss 0.2143 - iou 0.7889 - val_loss 0.1870 - val_iou 0.8049\n",
      "Epoch [87/100]\n"
     ]
    },
    {
     "name": "stderr",
     "output_type": "stream",
     "text": [
      "100%|████████████████████| 33/33 [00:02<00:00, 13.40it/s, loss=0.219, iou=0.765]\n",
      "100%|███████████████████████| 9/9 [00:00<00:00, 23.31it/s, loss=0.16, iou=0.831]\n"
     ]
    },
    {
     "name": "stdout",
     "output_type": "stream",
     "text": [
      "loss 0.2189 - iou 0.7645 - val_loss 0.1596 - val_iou 0.8308\n",
      "Epoch [88/100]\n"
     ]
    },
    {
     "name": "stderr",
     "output_type": "stream",
     "text": [
      "100%|████████████████████| 33/33 [00:02<00:00, 13.53it/s, loss=0.216, iou=0.778]\n",
      "100%|██████████████████████| 9/9 [00:00<00:00, 23.37it/s, loss=0.158, iou=0.831]\n"
     ]
    },
    {
     "name": "stdout",
     "output_type": "stream",
     "text": [
      "loss 0.2161 - iou 0.7776 - val_loss 0.1580 - val_iou 0.8310\n",
      "Epoch [89/100]\n"
     ]
    },
    {
     "name": "stderr",
     "output_type": "stream",
     "text": [
      "100%|█████████████████████| 33/33 [00:02<00:00, 13.56it/s, loss=0.205, iou=0.79]\n",
      "100%|██████████████████████| 9/9 [00:00<00:00, 21.96it/s, loss=0.197, iou=0.794]\n"
     ]
    },
    {
     "name": "stdout",
     "output_type": "stream",
     "text": [
      "loss 0.2054 - iou 0.7904 - val_loss 0.1967 - val_iou 0.7938\n",
      "Epoch [90/100]\n"
     ]
    },
    {
     "name": "stderr",
     "output_type": "stream",
     "text": [
      "100%|████████████████████| 33/33 [00:02<00:00, 13.54it/s, loss=0.217, iou=0.761]\n",
      "100%|███████████████████████| 9/9 [00:00<00:00, 22.46it/s, loss=0.158, iou=0.83]\n"
     ]
    },
    {
     "name": "stdout",
     "output_type": "stream",
     "text": [
      "loss 0.2167 - iou 0.7613 - val_loss 0.1576 - val_iou 0.8300\n",
      "Epoch [91/100]\n"
     ]
    },
    {
     "name": "stderr",
     "output_type": "stream",
     "text": [
      "100%|████████████████████| 33/33 [00:02<00:00, 13.46it/s, loss=0.219, iou=0.768]\n",
      "100%|██████████████████████| 9/9 [00:00<00:00, 22.81it/s, loss=0.169, iou=0.823]\n"
     ]
    },
    {
     "name": "stdout",
     "output_type": "stream",
     "text": [
      "loss 0.2192 - iou 0.7677 - val_loss 0.1693 - val_iou 0.8226\n",
      "Epoch [92/100]\n"
     ]
    },
    {
     "name": "stderr",
     "output_type": "stream",
     "text": [
      "100%|████████████████████| 33/33 [00:02<00:00, 13.43it/s, loss=0.209, iou=0.773]\n",
      "100%|██████████████████████| 9/9 [00:00<00:00, 20.86it/s, loss=0.158, iou=0.829]\n"
     ]
    },
    {
     "name": "stdout",
     "output_type": "stream",
     "text": [
      "loss 0.2093 - iou 0.7731 - val_loss 0.1580 - val_iou 0.8287\n",
      "Epoch [93/100]\n"
     ]
    },
    {
     "name": "stderr",
     "output_type": "stream",
     "text": [
      "100%|████████████████████| 33/33 [00:02<00:00, 13.47it/s, loss=0.208, iou=0.783]\n",
      "100%|██████████████████████| 9/9 [00:00<00:00, 21.58it/s, loss=0.163, iou=0.824]\n"
     ]
    },
    {
     "name": "stdout",
     "output_type": "stream",
     "text": [
      "loss 0.2082 - iou 0.7827 - val_loss 0.1631 - val_iou 0.8241\n",
      "Epoch [94/100]\n"
     ]
    },
    {
     "name": "stderr",
     "output_type": "stream",
     "text": [
      "100%|████████████████████| 33/33 [00:02<00:00, 13.58it/s, loss=0.217, iou=0.782]\n",
      "100%|██████████████████████| 9/9 [00:00<00:00, 22.72it/s, loss=0.164, iou=0.823]\n"
     ]
    },
    {
     "name": "stdout",
     "output_type": "stream",
     "text": [
      "loss 0.2170 - iou 0.7820 - val_loss 0.1643 - val_iou 0.8232\n",
      "Epoch [95/100]\n"
     ]
    },
    {
     "name": "stderr",
     "output_type": "stream",
     "text": [
      "100%|████████████████████| 33/33 [00:02<00:00, 13.59it/s, loss=0.198, iou=0.789]\n",
      "100%|██████████████████████| 9/9 [00:00<00:00, 21.41it/s, loss=0.154, iou=0.833]\n"
     ]
    },
    {
     "name": "stdout",
     "output_type": "stream",
     "text": [
      "loss 0.1980 - iou 0.7890 - val_loss 0.1542 - val_iou 0.8327\n",
      "=> saved best model\n",
      "Epoch [96/100]\n"
     ]
    },
    {
     "name": "stderr",
     "output_type": "stream",
     "text": [
      "100%|████████████████████| 33/33 [00:02<00:00, 13.38it/s, loss=0.209, iou=0.765]\n",
      "100%|███████████████████████| 9/9 [00:00<00:00, 24.10it/s, loss=0.17, iou=0.816]\n"
     ]
    },
    {
     "name": "stdout",
     "output_type": "stream",
     "text": [
      "loss 0.2093 - iou 0.7653 - val_loss 0.1697 - val_iou 0.8157\n",
      "Epoch [97/100]\n"
     ]
    },
    {
     "name": "stderr",
     "output_type": "stream",
     "text": [
      "100%|█████████████████████| 33/33 [00:02<00:00, 13.62it/s, loss=0.199, iou=0.79]\n",
      "100%|██████████████████████| 9/9 [00:00<00:00, 23.43it/s, loss=0.156, iou=0.831]\n"
     ]
    },
    {
     "name": "stdout",
     "output_type": "stream",
     "text": [
      "loss 0.1991 - iou 0.7903 - val_loss 0.1563 - val_iou 0.8306\n",
      "Epoch [98/100]\n"
     ]
    },
    {
     "name": "stderr",
     "output_type": "stream",
     "text": [
      "100%|████████████████████| 33/33 [00:02<00:00, 13.49it/s, loss=0.208, iou=0.781]\n",
      "100%|██████████████████████| 9/9 [00:00<00:00, 20.97it/s, loss=0.184, iou=0.808]\n"
     ]
    },
    {
     "name": "stdout",
     "output_type": "stream",
     "text": [
      "loss 0.2079 - iou 0.7808 - val_loss 0.1844 - val_iou 0.8085\n",
      "Epoch [99/100]\n"
     ]
    },
    {
     "name": "stderr",
     "output_type": "stream",
     "text": [
      "100%|█████████████████████| 33/33 [00:02<00:00, 13.55it/s, loss=0.212, iou=0.78]\n",
      "100%|██████████████████████| 9/9 [00:00<00:00, 22.34it/s, loss=0.188, iou=0.802]"
     ]
    },
    {
     "name": "stdout",
     "output_type": "stream",
     "text": [
      "loss 0.2121 - iou 0.7797 - val_loss 0.1881 - val_iou 0.8019\n"
     ]
    },
    {
     "name": "stderr",
     "output_type": "stream",
     "text": [
      "\n"
     ]
    }
   ],
   "source": [
    "best_iou = 0\n",
    "trigger = 0\n",
    "for epoch in range(epochs):\n",
    "    print('Epoch [%d/%d]' % (epoch, epochs))\n",
    "\n",
    "    # train for one epoch\n",
    "    train_log = train(train_loader, model, criterion, optimizer)\n",
    "    # evaluate on validation set\n",
    "    val_log = validate(val_loader, model, criterion)\n",
    "\n",
    "    if scheduler == 'CosineAnnealingLR':\n",
    "        scheduler.step()\n",
    "    elif scheduler == 'ReduceLROnPlateau':\n",
    "        scheduler.step(val_log['loss'])\n",
    "\n",
    "    print('loss %.4f - iou %.4f - val_loss %.4f - val_iou %.4f'\n",
    "          % (train_log['loss'], train_log['iou'], val_log['loss'], val_log['iou']))\n",
    "\n",
    "    log['epoch'].append(epoch)\n",
    "    log['lr'].append(lr)\n",
    "    log['loss'].append(train_log['loss'])\n",
    "    log['iou'].append(train_log['iou'])\n",
    "    log['val_loss'].append(val_log['loss'])\n",
    "    log['val_iou'].append(val_log['iou'])\n",
    "\n",
    "    pd.DataFrame(log).to_csv('models/%s/log.csv' %\n",
    "                             name, index=False)\n",
    "\n",
    "    trigger += 1\n",
    "\n",
    "    if val_log['iou'] > best_iou:\n",
    "        torch.save(model.state_dict(), 'models/%s/model.pth' %\n",
    "                   name)\n",
    "        best_iou = val_log['iou']\n",
    "        print(\"=> saved best model\")\n",
    "        trigger = 0\n",
    "\n",
    "    # early stopping\n",
    "    if early_stopping >= 0 and trigger >= early_stopping:\n",
    "        print(\"=> early stopping\")\n",
    "        break\n",
    "\n",
    "    torch.cuda.empty_cache()"
   ]
  },
  {
   "cell_type": "markdown",
   "id": "4369cda8-8b11-4685-8166-b039ecd1e294",
   "metadata": {},
   "source": [
    "## val.py"
   ]
  },
  {
   "cell_type": "code",
   "execution_count": 32,
   "id": "a616be25-8fbb-48f3-9c9b-f383507d7a25",
   "metadata": {},
   "outputs": [
    {
     "data": {
      "text/plain": [
       "NestedUNet(\n",
       "  (pool): MaxPool2d(kernel_size=2, stride=2, padding=0, dilation=1, ceil_mode=False)\n",
       "  (up): Upsample(scale_factor=2.0, mode=bilinear)\n",
       "  (conv0_0): VGGBlock(\n",
       "    (relu): ReLU(inplace=True)\n",
       "    (conv1): Conv2d(3, 32, kernel_size=(3, 3), stride=(1, 1), padding=(1, 1))\n",
       "    (bn1): BatchNorm2d(32, eps=1e-05, momentum=0.1, affine=True, track_running_stats=True)\n",
       "    (conv2): Conv2d(32, 32, kernel_size=(3, 3), stride=(1, 1), padding=(1, 1))\n",
       "    (bn2): BatchNorm2d(32, eps=1e-05, momentum=0.1, affine=True, track_running_stats=True)\n",
       "  )\n",
       "  (conv1_0): VGGBlock(\n",
       "    (relu): ReLU(inplace=True)\n",
       "    (conv1): Conv2d(32, 64, kernel_size=(3, 3), stride=(1, 1), padding=(1, 1))\n",
       "    (bn1): BatchNorm2d(64, eps=1e-05, momentum=0.1, affine=True, track_running_stats=True)\n",
       "    (conv2): Conv2d(64, 64, kernel_size=(3, 3), stride=(1, 1), padding=(1, 1))\n",
       "    (bn2): BatchNorm2d(64, eps=1e-05, momentum=0.1, affine=True, track_running_stats=True)\n",
       "  )\n",
       "  (conv2_0): VGGBlock(\n",
       "    (relu): ReLU(inplace=True)\n",
       "    (conv1): Conv2d(64, 128, kernel_size=(3, 3), stride=(1, 1), padding=(1, 1))\n",
       "    (bn1): BatchNorm2d(128, eps=1e-05, momentum=0.1, affine=True, track_running_stats=True)\n",
       "    (conv2): Conv2d(128, 128, kernel_size=(3, 3), stride=(1, 1), padding=(1, 1))\n",
       "    (bn2): BatchNorm2d(128, eps=1e-05, momentum=0.1, affine=True, track_running_stats=True)\n",
       "  )\n",
       "  (conv3_0): VGGBlock(\n",
       "    (relu): ReLU(inplace=True)\n",
       "    (conv1): Conv2d(128, 256, kernel_size=(3, 3), stride=(1, 1), padding=(1, 1))\n",
       "    (bn1): BatchNorm2d(256, eps=1e-05, momentum=0.1, affine=True, track_running_stats=True)\n",
       "    (conv2): Conv2d(256, 256, kernel_size=(3, 3), stride=(1, 1), padding=(1, 1))\n",
       "    (bn2): BatchNorm2d(256, eps=1e-05, momentum=0.1, affine=True, track_running_stats=True)\n",
       "  )\n",
       "  (conv4_0): VGGBlock(\n",
       "    (relu): ReLU(inplace=True)\n",
       "    (conv1): Conv2d(256, 512, kernel_size=(3, 3), stride=(1, 1), padding=(1, 1))\n",
       "    (bn1): BatchNorm2d(512, eps=1e-05, momentum=0.1, affine=True, track_running_stats=True)\n",
       "    (conv2): Conv2d(512, 512, kernel_size=(3, 3), stride=(1, 1), padding=(1, 1))\n",
       "    (bn2): BatchNorm2d(512, eps=1e-05, momentum=0.1, affine=True, track_running_stats=True)\n",
       "  )\n",
       "  (conv0_1): VGGBlock(\n",
       "    (relu): ReLU(inplace=True)\n",
       "    (conv1): Conv2d(96, 32, kernel_size=(3, 3), stride=(1, 1), padding=(1, 1))\n",
       "    (bn1): BatchNorm2d(32, eps=1e-05, momentum=0.1, affine=True, track_running_stats=True)\n",
       "    (conv2): Conv2d(32, 32, kernel_size=(3, 3), stride=(1, 1), padding=(1, 1))\n",
       "    (bn2): BatchNorm2d(32, eps=1e-05, momentum=0.1, affine=True, track_running_stats=True)\n",
       "  )\n",
       "  (conv1_1): VGGBlock(\n",
       "    (relu): ReLU(inplace=True)\n",
       "    (conv1): Conv2d(192, 64, kernel_size=(3, 3), stride=(1, 1), padding=(1, 1))\n",
       "    (bn1): BatchNorm2d(64, eps=1e-05, momentum=0.1, affine=True, track_running_stats=True)\n",
       "    (conv2): Conv2d(64, 64, kernel_size=(3, 3), stride=(1, 1), padding=(1, 1))\n",
       "    (bn2): BatchNorm2d(64, eps=1e-05, momentum=0.1, affine=True, track_running_stats=True)\n",
       "  )\n",
       "  (conv2_1): VGGBlock(\n",
       "    (relu): ReLU(inplace=True)\n",
       "    (conv1): Conv2d(384, 128, kernel_size=(3, 3), stride=(1, 1), padding=(1, 1))\n",
       "    (bn1): BatchNorm2d(128, eps=1e-05, momentum=0.1, affine=True, track_running_stats=True)\n",
       "    (conv2): Conv2d(128, 128, kernel_size=(3, 3), stride=(1, 1), padding=(1, 1))\n",
       "    (bn2): BatchNorm2d(128, eps=1e-05, momentum=0.1, affine=True, track_running_stats=True)\n",
       "  )\n",
       "  (conv3_1): VGGBlock(\n",
       "    (relu): ReLU(inplace=True)\n",
       "    (conv1): Conv2d(768, 256, kernel_size=(3, 3), stride=(1, 1), padding=(1, 1))\n",
       "    (bn1): BatchNorm2d(256, eps=1e-05, momentum=0.1, affine=True, track_running_stats=True)\n",
       "    (conv2): Conv2d(256, 256, kernel_size=(3, 3), stride=(1, 1), padding=(1, 1))\n",
       "    (bn2): BatchNorm2d(256, eps=1e-05, momentum=0.1, affine=True, track_running_stats=True)\n",
       "  )\n",
       "  (conv0_2): VGGBlock(\n",
       "    (relu): ReLU(inplace=True)\n",
       "    (conv1): Conv2d(128, 32, kernel_size=(3, 3), stride=(1, 1), padding=(1, 1))\n",
       "    (bn1): BatchNorm2d(32, eps=1e-05, momentum=0.1, affine=True, track_running_stats=True)\n",
       "    (conv2): Conv2d(32, 32, kernel_size=(3, 3), stride=(1, 1), padding=(1, 1))\n",
       "    (bn2): BatchNorm2d(32, eps=1e-05, momentum=0.1, affine=True, track_running_stats=True)\n",
       "  )\n",
       "  (conv1_2): VGGBlock(\n",
       "    (relu): ReLU(inplace=True)\n",
       "    (conv1): Conv2d(256, 64, kernel_size=(3, 3), stride=(1, 1), padding=(1, 1))\n",
       "    (bn1): BatchNorm2d(64, eps=1e-05, momentum=0.1, affine=True, track_running_stats=True)\n",
       "    (conv2): Conv2d(64, 64, kernel_size=(3, 3), stride=(1, 1), padding=(1, 1))\n",
       "    (bn2): BatchNorm2d(64, eps=1e-05, momentum=0.1, affine=True, track_running_stats=True)\n",
       "  )\n",
       "  (conv2_2): VGGBlock(\n",
       "    (relu): ReLU(inplace=True)\n",
       "    (conv1): Conv2d(512, 128, kernel_size=(3, 3), stride=(1, 1), padding=(1, 1))\n",
       "    (bn1): BatchNorm2d(128, eps=1e-05, momentum=0.1, affine=True, track_running_stats=True)\n",
       "    (conv2): Conv2d(128, 128, kernel_size=(3, 3), stride=(1, 1), padding=(1, 1))\n",
       "    (bn2): BatchNorm2d(128, eps=1e-05, momentum=0.1, affine=True, track_running_stats=True)\n",
       "  )\n",
       "  (conv0_3): VGGBlock(\n",
       "    (relu): ReLU(inplace=True)\n",
       "    (conv1): Conv2d(160, 32, kernel_size=(3, 3), stride=(1, 1), padding=(1, 1))\n",
       "    (bn1): BatchNorm2d(32, eps=1e-05, momentum=0.1, affine=True, track_running_stats=True)\n",
       "    (conv2): Conv2d(32, 32, kernel_size=(3, 3), stride=(1, 1), padding=(1, 1))\n",
       "    (bn2): BatchNorm2d(32, eps=1e-05, momentum=0.1, affine=True, track_running_stats=True)\n",
       "  )\n",
       "  (conv1_3): VGGBlock(\n",
       "    (relu): ReLU(inplace=True)\n",
       "    (conv1): Conv2d(320, 64, kernel_size=(3, 3), stride=(1, 1), padding=(1, 1))\n",
       "    (bn1): BatchNorm2d(64, eps=1e-05, momentum=0.1, affine=True, track_running_stats=True)\n",
       "    (conv2): Conv2d(64, 64, kernel_size=(3, 3), stride=(1, 1), padding=(1, 1))\n",
       "    (bn2): BatchNorm2d(64, eps=1e-05, momentum=0.1, affine=True, track_running_stats=True)\n",
       "  )\n",
       "  (conv0_4): VGGBlock(\n",
       "    (relu): ReLU(inplace=True)\n",
       "    (conv1): Conv2d(192, 32, kernel_size=(3, 3), stride=(1, 1), padding=(1, 1))\n",
       "    (bn1): BatchNorm2d(32, eps=1e-05, momentum=0.1, affine=True, track_running_stats=True)\n",
       "    (conv2): Conv2d(32, 32, kernel_size=(3, 3), stride=(1, 1), padding=(1, 1))\n",
       "    (bn2): BatchNorm2d(32, eps=1e-05, momentum=0.1, affine=True, track_running_stats=True)\n",
       "  )\n",
       "  (final): Conv2d(32, 1, kernel_size=(1, 1), stride=(1, 1))\n",
       ")"
      ]
     },
     "execution_count": 32,
     "metadata": {},
     "output_type": "execute_result"
    }
   ],
   "source": [
    "model.load_state_dict(torch.load('models/%s/model.pth' % name))\n",
    "model.eval()"
   ]
  },
  {
   "cell_type": "code",
   "execution_count": 33,
   "id": "e9c4fd79-df1e-4344-9c44-feb6885c09ae",
   "metadata": {},
   "outputs": [],
   "source": [
    "val_transform = Compose([\n",
    "    albu.Resize(input_h, input_w),\n",
    "    transforms.Normalize(),\n",
    "])"
   ]
  },
  {
   "cell_type": "code",
   "execution_count": 34,
   "id": "df18059b-07be-4eca-97f0-19d484ab38bc",
   "metadata": {},
   "outputs": [],
   "source": [
    "val_dataset = Dataset(\n",
    "    img_ids=val_img_ids,\n",
    "    img_dir=os.path.join(data_path, dataset, 'images'),\n",
    "    mask_dir=os.path.join(data_path, dataset, 'masks'),\n",
    "    img_ext=img_ext,\n",
    "    mask_ext=mask_ext,\n",
    "    num_classes=num_classes,\n",
    "    transform=val_transform)\n",
    "val_loader = torch.utils.data.DataLoader(\n",
    "    val_dataset,\n",
    "    batch_size=batch_size,\n",
    "    shuffle=False,\n",
    "    num_workers=num_workers,\n",
    "    drop_last=False)"
   ]
  },
  {
   "cell_type": "code",
   "execution_count": 35,
   "id": "5687dcfa-5f9a-4398-bda2-100345e6f043",
   "metadata": {},
   "outputs": [
    {
     "name": "stderr",
     "output_type": "stream",
     "text": [
      "100%|█████████████████████████████████████████████| 9/9 [00:00<00:00, 19.25it/s]"
     ]
    },
    {
     "name": "stdout",
     "output_type": "stream",
     "text": [
      "IoU: 0.8327\n"
     ]
    },
    {
     "name": "stderr",
     "output_type": "stream",
     "text": [
      "\n"
     ]
    }
   ],
   "source": [
    "avg_meter = AverageMeter()\n",
    "\n",
    "for c in range(num_classes):\n",
    "    os.makedirs(os.path.join('outputs', name, str(c)), exist_ok=True)\n",
    "with torch.no_grad():\n",
    "    for input, target, meta in tqdm(val_loader, total=len(val_loader)):\n",
    "        input = input.cuda()\n",
    "        target = target.cuda()\n",
    "\n",
    "        # compute output\n",
    "        if deep_supervision:\n",
    "            output = model(input)[-1]\n",
    "        else:\n",
    "            output = model(input)\n",
    "\n",
    "        iou = iou_score(output, target)\n",
    "        avg_meter.update(iou, input.size(0))\n",
    "\n",
    "        output = torch.sigmoid(output).cpu().numpy()\n",
    "\n",
    "        for i in range(len(output)):\n",
    "            for c in range(num_classes):\n",
    "                cv2.imwrite(os.path.join('outputs', name, str(c), meta['img_id'][i] + '.jpg'),\n",
    "                            (output[i, c] * 255).astype('uint8'))\n",
    "\n",
    "print('IoU: %.4f' % avg_meter.avg)\n",
    "\n",
    "torch.cuda.empty_cache()\n"
   ]
  },
  {
   "cell_type": "code",
   "execution_count": null,
   "id": "e6871f45-678a-4c33-b137-66e57d381b26",
   "metadata": {},
   "outputs": [],
   "source": []
  }
 ],
 "metadata": {
  "kernelspec": {
   "display_name": "Python 3",
   "language": "python",
   "name": "python3"
  },
  "language_info": {
   "codemirror_mode": {
    "name": "ipython",
    "version": 3
   },
   "file_extension": ".py",
   "mimetype": "text/x-python",
   "name": "python",
   "nbconvert_exporter": "python",
   "pygments_lexer": "ipython3",
   "version": "3.8.10"
  }
 },
 "nbformat": 4,
 "nbformat_minor": 5
}
